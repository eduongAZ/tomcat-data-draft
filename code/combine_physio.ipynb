{
 "cells": [
  {
   "cell_type": "code",
   "execution_count": 1,
   "metadata": {
    "collapsed": true,
    "ExecuteTime": {
     "end_time": "2023-06-04T16:55:04.975689Z",
     "start_time": "2023-06-04T16:55:04.794863Z"
    }
   },
   "outputs": [],
   "source": [
    "import pandas as pd\n",
    "import numpy as np"
   ]
  },
  {
   "cell_type": "code",
   "execution_count": 2,
   "outputs": [],
   "source": [
    "file_path = '/Users/ericduong/Documents/ToMCAT/tomcat-data-draft/data/separated/physio_data/exp_2022_10_14_10/tiger_nirs_rest_state.csv'"
   ],
   "metadata": {
    "collapsed": false,
    "ExecuteTime": {
     "end_time": "2023-06-04T16:55:04.978020Z",
     "start_time": "2023-06-04T16:55:04.976126Z"
    }
   }
  },
  {
   "cell_type": "code",
   "execution_count": 3,
   "outputs": [],
   "source": [
    "df = pd.read_csv(file_path, delimiter='\\t')"
   ],
   "metadata": {
    "collapsed": false,
    "ExecuteTime": {
     "end_time": "2023-06-04T16:55:04.994452Z",
     "start_time": "2023-06-04T16:55:04.978884Z"
    }
   }
  },
  {
   "cell_type": "code",
   "execution_count": 4,
   "outputs": [
    {
     "data": {
      "text/plain": "   Unnamed: 0  S1-D1_HbO  S1-D2_HbO  S2-D1_HbO  S2-D3_HbO  S3-D1_HbO   \n0        1554   0.000201  -0.000007   0.000370  -0.000164   0.003890  \\\n1        1555   0.001313  -0.000067   0.000835  -0.001117   0.025893   \n2        1556   0.004343  -0.000195  -0.001761  -0.003850   0.083301   \n3        1557   0.010109  -0.000389  -0.013067  -0.009305   0.175829   \n4        1558   0.019197  -0.000957  -0.041072  -0.018196   0.276820   \n\n   S3-D3_HbO  S3-D4_HbO  S4-D2_HbO  S4-D4_HbO  ...  S6-D4_HbR  S6-D6_HbR   \n0  -0.000154  -0.000154  -0.000050  -0.000058  ...  -0.000095   0.000041  \\\n1  -0.001051  -0.001056  -0.000164  -0.000411  ...  -0.000462   0.000266   \n2  -0.003633  -0.003668  -0.000118  -0.001437  ...  -0.000943   0.000812   \n3  -0.008799  -0.008867   0.000404  -0.003447  ...  -0.000999   0.001657   \n4  -0.017224  -0.017164   0.001662  -0.006592  ...  -0.000352   0.002713   \n\n   S6-D7_HbR  S7-D5_HbR  S7-D7_HbR  S8-D6_HbR  S8-D7_HbR   \n0   0.002553  -0.000082  -0.000966  -0.000038   0.002185  \\\n1   0.020005  -0.000529  -0.005584  -0.000262   0.009460   \n2   0.068087  -0.001806  -0.016546  -0.000913   0.019165   \n3   0.143449  -0.004431  -0.035931  -0.002216   0.029826   \n4   0.226168  -0.008674  -0.065592  -0.004323   0.053566   \n\n           human_readable_time     unix_time  event_type  \n0  2022-10-14 18:24:31.5223475  1.665772e+09  rest_state  \n1  2022-10-14 18:24:31.6206510  1.665772e+09  rest_state  \n2  2022-10-14 18:24:31.7189543  1.665772e+09  rest_state  \n3  2022-10-14 18:24:31.8172579  1.665772e+09  rest_state  \n4  2022-10-14 18:24:31.9155614  1.665772e+09  rest_state  \n\n[5 rows x 44 columns]",
      "text/html": "<div>\n<style scoped>\n    .dataframe tbody tr th:only-of-type {\n        vertical-align: middle;\n    }\n\n    .dataframe tbody tr th {\n        vertical-align: top;\n    }\n\n    .dataframe thead th {\n        text-align: right;\n    }\n</style>\n<table border=\"1\" class=\"dataframe\">\n  <thead>\n    <tr style=\"text-align: right;\">\n      <th></th>\n      <th>Unnamed: 0</th>\n      <th>S1-D1_HbO</th>\n      <th>S1-D2_HbO</th>\n      <th>S2-D1_HbO</th>\n      <th>S2-D3_HbO</th>\n      <th>S3-D1_HbO</th>\n      <th>S3-D3_HbO</th>\n      <th>S3-D4_HbO</th>\n      <th>S4-D2_HbO</th>\n      <th>S4-D4_HbO</th>\n      <th>...</th>\n      <th>S6-D4_HbR</th>\n      <th>S6-D6_HbR</th>\n      <th>S6-D7_HbR</th>\n      <th>S7-D5_HbR</th>\n      <th>S7-D7_HbR</th>\n      <th>S8-D6_HbR</th>\n      <th>S8-D7_HbR</th>\n      <th>human_readable_time</th>\n      <th>unix_time</th>\n      <th>event_type</th>\n    </tr>\n  </thead>\n  <tbody>\n    <tr>\n      <th>0</th>\n      <td>1554</td>\n      <td>0.000201</td>\n      <td>-0.000007</td>\n      <td>0.000370</td>\n      <td>-0.000164</td>\n      <td>0.003890</td>\n      <td>-0.000154</td>\n      <td>-0.000154</td>\n      <td>-0.000050</td>\n      <td>-0.000058</td>\n      <td>...</td>\n      <td>-0.000095</td>\n      <td>0.000041</td>\n      <td>0.002553</td>\n      <td>-0.000082</td>\n      <td>-0.000966</td>\n      <td>-0.000038</td>\n      <td>0.002185</td>\n      <td>2022-10-14 18:24:31.5223475</td>\n      <td>1.665772e+09</td>\n      <td>rest_state</td>\n    </tr>\n    <tr>\n      <th>1</th>\n      <td>1555</td>\n      <td>0.001313</td>\n      <td>-0.000067</td>\n      <td>0.000835</td>\n      <td>-0.001117</td>\n      <td>0.025893</td>\n      <td>-0.001051</td>\n      <td>-0.001056</td>\n      <td>-0.000164</td>\n      <td>-0.000411</td>\n      <td>...</td>\n      <td>-0.000462</td>\n      <td>0.000266</td>\n      <td>0.020005</td>\n      <td>-0.000529</td>\n      <td>-0.005584</td>\n      <td>-0.000262</td>\n      <td>0.009460</td>\n      <td>2022-10-14 18:24:31.6206510</td>\n      <td>1.665772e+09</td>\n      <td>rest_state</td>\n    </tr>\n    <tr>\n      <th>2</th>\n      <td>1556</td>\n      <td>0.004343</td>\n      <td>-0.000195</td>\n      <td>-0.001761</td>\n      <td>-0.003850</td>\n      <td>0.083301</td>\n      <td>-0.003633</td>\n      <td>-0.003668</td>\n      <td>-0.000118</td>\n      <td>-0.001437</td>\n      <td>...</td>\n      <td>-0.000943</td>\n      <td>0.000812</td>\n      <td>0.068087</td>\n      <td>-0.001806</td>\n      <td>-0.016546</td>\n      <td>-0.000913</td>\n      <td>0.019165</td>\n      <td>2022-10-14 18:24:31.7189543</td>\n      <td>1.665772e+09</td>\n      <td>rest_state</td>\n    </tr>\n    <tr>\n      <th>3</th>\n      <td>1557</td>\n      <td>0.010109</td>\n      <td>-0.000389</td>\n      <td>-0.013067</td>\n      <td>-0.009305</td>\n      <td>0.175829</td>\n      <td>-0.008799</td>\n      <td>-0.008867</td>\n      <td>0.000404</td>\n      <td>-0.003447</td>\n      <td>...</td>\n      <td>-0.000999</td>\n      <td>0.001657</td>\n      <td>0.143449</td>\n      <td>-0.004431</td>\n      <td>-0.035931</td>\n      <td>-0.002216</td>\n      <td>0.029826</td>\n      <td>2022-10-14 18:24:31.8172579</td>\n      <td>1.665772e+09</td>\n      <td>rest_state</td>\n    </tr>\n    <tr>\n      <th>4</th>\n      <td>1558</td>\n      <td>0.019197</td>\n      <td>-0.000957</td>\n      <td>-0.041072</td>\n      <td>-0.018196</td>\n      <td>0.276820</td>\n      <td>-0.017224</td>\n      <td>-0.017164</td>\n      <td>0.001662</td>\n      <td>-0.006592</td>\n      <td>...</td>\n      <td>-0.000352</td>\n      <td>0.002713</td>\n      <td>0.226168</td>\n      <td>-0.008674</td>\n      <td>-0.065592</td>\n      <td>-0.004323</td>\n      <td>0.053566</td>\n      <td>2022-10-14 18:24:31.9155614</td>\n      <td>1.665772e+09</td>\n      <td>rest_state</td>\n    </tr>\n  </tbody>\n</table>\n<p>5 rows × 44 columns</p>\n</div>"
     },
     "execution_count": 4,
     "metadata": {},
     "output_type": "execute_result"
    }
   ],
   "source": [
    "df.head()"
   ],
   "metadata": {
    "collapsed": false,
    "ExecuteTime": {
     "end_time": "2023-06-04T16:55:05.004005Z",
     "start_time": "2023-06-04T16:55:04.996007Z"
    }
   }
  },
  {
   "cell_type": "code",
   "execution_count": 5,
   "outputs": [],
   "source": [
    "from utils import linear_interpolation\n",
    "from physio.utils import generate_time_series"
   ],
   "metadata": {
    "collapsed": false,
    "ExecuteTime": {
     "end_time": "2023-06-04T16:55:05.008222Z",
     "start_time": "2023-06-04T16:55:05.004814Z"
    }
   }
  },
  {
   "cell_type": "code",
   "execution_count": 6,
   "outputs": [
    {
     "data": {
      "text/plain": "array([1.66577187e+09, 1.66577187e+09, 1.66577187e+09, ...,\n       1.66577217e+09, 1.66577217e+09, 1.66577217e+09])"
     },
     "execution_count": 6,
     "metadata": {},
     "output_type": "execute_result"
    }
   ],
   "source": [
    "frequency = 20.0\n",
    "start_time = df['unix_time'].iloc[0]\n",
    "end_time = df['unix_time'].iloc[-1]\n",
    "\n",
    "time_series = generate_time_series(start_time, end_time, frequency); time_series"
   ],
   "metadata": {
    "collapsed": false,
    "ExecuteTime": {
     "end_time": "2023-06-04T16:55:05.011486Z",
     "start_time": "2023-06-04T16:55:05.009547Z"
    }
   }
  },
  {
   "cell_type": "code",
   "execution_count": 7,
   "outputs": [],
   "source": [
    "time_df = pd.DataFrame(time_series, columns=['unix_time'])\n",
    "\n",
    "df['original_unix_time'] = df['unix_time'].copy()\n",
    "\n",
    "# merge_asof to find the nearest entry at or before each time\n",
    "df_before = pd.merge_asof(time_df, df, on='unix_time', direction='backward')\n",
    "\n",
    "# merge_asof to find the nearest entry at or after each time\n",
    "df_after = pd.merge_asof(time_df, df, on='unix_time', direction='forward')"
   ],
   "metadata": {
    "collapsed": false,
    "ExecuteTime": {
     "end_time": "2023-06-04T16:55:05.018277Z",
     "start_time": "2023-06-04T16:55:05.011636Z"
    }
   }
  },
  {
   "cell_type": "code",
   "execution_count": 8,
   "outputs": [
    {
     "data": {
      "text/plain": "         unix_time\n0     1.665772e+09\n1     1.665772e+09\n2     1.665772e+09\n3     1.665772e+09\n4     1.665772e+09\n...            ...\n6026  1.665772e+09\n6027  1.665772e+09\n6028  1.665772e+09\n6029  1.665772e+09\n6030  1.665772e+09\n\n[6031 rows x 1 columns]",
      "text/html": "<div>\n<style scoped>\n    .dataframe tbody tr th:only-of-type {\n        vertical-align: middle;\n    }\n\n    .dataframe tbody tr th {\n        vertical-align: top;\n    }\n\n    .dataframe thead th {\n        text-align: right;\n    }\n</style>\n<table border=\"1\" class=\"dataframe\">\n  <thead>\n    <tr style=\"text-align: right;\">\n      <th></th>\n      <th>unix_time</th>\n    </tr>\n  </thead>\n  <tbody>\n    <tr>\n      <th>0</th>\n      <td>1.665772e+09</td>\n    </tr>\n    <tr>\n      <th>1</th>\n      <td>1.665772e+09</td>\n    </tr>\n    <tr>\n      <th>2</th>\n      <td>1.665772e+09</td>\n    </tr>\n    <tr>\n      <th>3</th>\n      <td>1.665772e+09</td>\n    </tr>\n    <tr>\n      <th>4</th>\n      <td>1.665772e+09</td>\n    </tr>\n    <tr>\n      <th>...</th>\n      <td>...</td>\n    </tr>\n    <tr>\n      <th>6026</th>\n      <td>1.665772e+09</td>\n    </tr>\n    <tr>\n      <th>6027</th>\n      <td>1.665772e+09</td>\n    </tr>\n    <tr>\n      <th>6028</th>\n      <td>1.665772e+09</td>\n    </tr>\n    <tr>\n      <th>6029</th>\n      <td>1.665772e+09</td>\n    </tr>\n    <tr>\n      <th>6030</th>\n      <td>1.665772e+09</td>\n    </tr>\n  </tbody>\n</table>\n<p>6031 rows × 1 columns</p>\n</div>"
     },
     "execution_count": 8,
     "metadata": {},
     "output_type": "execute_result"
    }
   ],
   "source": [
    "time_df"
   ],
   "metadata": {
    "collapsed": false,
    "ExecuteTime": {
     "end_time": "2023-06-04T16:55:05.022617Z",
     "start_time": "2023-06-04T16:55:05.018933Z"
    }
   }
  },
  {
   "cell_type": "code",
   "execution_count": 9,
   "outputs": [
    {
     "data": {
      "text/plain": "         unix_time  Unnamed: 0  S1-D1_HbO  S1-D2_HbO  S2-D1_HbO  S2-D3_HbO   \n0     1.665772e+09        1554   0.000201  -0.000007   0.000370  -0.000164  \\\n1     1.665772e+09        1554   0.000201  -0.000007   0.000370  -0.000164   \n2     1.665772e+09        1555   0.001313  -0.000067   0.000835  -0.001117   \n3     1.665772e+09        1555   0.001313  -0.000067   0.000835  -0.001117   \n4     1.665772e+09        1556   0.004343  -0.000195  -0.001761  -0.003850   \n...            ...         ...        ...        ...        ...        ...   \n6026  1.665772e+09        4618  -0.001231  -0.079115   2.039881  -0.409631   \n6027  1.665772e+09        4619  -0.006257  -0.090582   1.965376  -0.412229   \n6028  1.665772e+09        4620  -0.010508  -0.102074   1.861392  -0.414359   \n6029  1.665772e+09        4620  -0.010508  -0.102074   1.861392  -0.414359   \n6030  1.665772e+09        4621  -0.013779  -0.113622   1.738198  -0.415961   \n\n      S3-D1_HbO  S3-D3_HbO  S3-D4_HbO  S4-D2_HbO  ...  S6-D4_HbR  S6-D6_HbR   \n0      0.003890  -0.000154  -0.000154  -0.000050  ...  -0.000095   0.000041  \\\n1      0.003890  -0.000154  -0.000154  -0.000050  ...  -0.000095   0.000041   \n2      0.025893  -0.001051  -0.001056  -0.000164  ...  -0.000462   0.000266   \n3      0.025893  -0.001051  -0.001056  -0.000164  ...  -0.000462   0.000266   \n4      0.083301  -0.003633  -0.003668  -0.000118  ...  -0.000943   0.000812   \n...         ...        ...        ...        ...  ...        ...        ...   \n6026  -0.447795  -0.651282  -0.419568  -0.423856  ...   0.140370   0.110814   \n6027  -0.514232  -0.654616  -0.418245  -0.418883  ...   0.138924   0.105630   \n6028  -0.546225  -0.657235  -0.416017  -0.413780  ...   0.137686   0.100441   \n6029  -0.546225  -0.657235  -0.416017  -0.413780  ...   0.137686   0.100441   \n6030  -0.565332  -0.659071  -0.412855  -0.408673  ...   0.137022   0.095531   \n\n      S6-D7_HbR  S7-D5_HbR  S7-D7_HbR  S8-D6_HbR  S8-D7_HbR   \n0      0.002553  -0.000082  -0.000966  -0.000038   0.002185  \\\n1      0.002553  -0.000082  -0.000966  -0.000038   0.002185   \n2      0.020005  -0.000529  -0.005584  -0.000262   0.009460   \n3      0.020005  -0.000529  -0.005584  -0.000262   0.009460   \n4      0.068087  -0.001806  -0.016546  -0.000913   0.019165   \n...         ...        ...        ...        ...        ...   \n6026  -0.091002   0.024641   0.422369   0.187903   1.647618   \n6027   0.344106   0.030283   0.157677   0.187563   1.493497   \n6028   0.777427   0.035947  -0.116704   0.186991   1.305343   \n6029   0.777427   0.035947  -0.116704   0.186991   1.305343   \n6030   1.198678   0.041498  -0.395450   0.186201   1.088020   \n\n              human_readable_time  event_type  original_unix_time  \n0     2022-10-14 18:24:31.5223475  rest_state        1.665772e+09  \n1     2022-10-14 18:24:31.5223475  rest_state        1.665772e+09  \n2     2022-10-14 18:24:31.6206510  rest_state        1.665772e+09  \n3     2022-10-14 18:24:31.6206510  rest_state        1.665772e+09  \n4     2022-10-14 18:24:31.7189543  rest_state        1.665772e+09  \n...                           ...         ...                 ...  \n6026  2022-10-14 18:29:32.7242029  rest_state        1.665772e+09  \n6027  2022-10-14 18:29:32.8225064  rest_state        1.665772e+09  \n6028  2022-10-14 18:29:32.9208097  rest_state        1.665772e+09  \n6029  2022-10-14 18:29:32.9208097  rest_state        1.665772e+09  \n6030  2022-10-14 18:29:33.0191133  rest_state        1.665772e+09  \n\n[6031 rows x 45 columns]",
      "text/html": "<div>\n<style scoped>\n    .dataframe tbody tr th:only-of-type {\n        vertical-align: middle;\n    }\n\n    .dataframe tbody tr th {\n        vertical-align: top;\n    }\n\n    .dataframe thead th {\n        text-align: right;\n    }\n</style>\n<table border=\"1\" class=\"dataframe\">\n  <thead>\n    <tr style=\"text-align: right;\">\n      <th></th>\n      <th>unix_time</th>\n      <th>Unnamed: 0</th>\n      <th>S1-D1_HbO</th>\n      <th>S1-D2_HbO</th>\n      <th>S2-D1_HbO</th>\n      <th>S2-D3_HbO</th>\n      <th>S3-D1_HbO</th>\n      <th>S3-D3_HbO</th>\n      <th>S3-D4_HbO</th>\n      <th>S4-D2_HbO</th>\n      <th>...</th>\n      <th>S6-D4_HbR</th>\n      <th>S6-D6_HbR</th>\n      <th>S6-D7_HbR</th>\n      <th>S7-D5_HbR</th>\n      <th>S7-D7_HbR</th>\n      <th>S8-D6_HbR</th>\n      <th>S8-D7_HbR</th>\n      <th>human_readable_time</th>\n      <th>event_type</th>\n      <th>original_unix_time</th>\n    </tr>\n  </thead>\n  <tbody>\n    <tr>\n      <th>0</th>\n      <td>1.665772e+09</td>\n      <td>1554</td>\n      <td>0.000201</td>\n      <td>-0.000007</td>\n      <td>0.000370</td>\n      <td>-0.000164</td>\n      <td>0.003890</td>\n      <td>-0.000154</td>\n      <td>-0.000154</td>\n      <td>-0.000050</td>\n      <td>...</td>\n      <td>-0.000095</td>\n      <td>0.000041</td>\n      <td>0.002553</td>\n      <td>-0.000082</td>\n      <td>-0.000966</td>\n      <td>-0.000038</td>\n      <td>0.002185</td>\n      <td>2022-10-14 18:24:31.5223475</td>\n      <td>rest_state</td>\n      <td>1.665772e+09</td>\n    </tr>\n    <tr>\n      <th>1</th>\n      <td>1.665772e+09</td>\n      <td>1554</td>\n      <td>0.000201</td>\n      <td>-0.000007</td>\n      <td>0.000370</td>\n      <td>-0.000164</td>\n      <td>0.003890</td>\n      <td>-0.000154</td>\n      <td>-0.000154</td>\n      <td>-0.000050</td>\n      <td>...</td>\n      <td>-0.000095</td>\n      <td>0.000041</td>\n      <td>0.002553</td>\n      <td>-0.000082</td>\n      <td>-0.000966</td>\n      <td>-0.000038</td>\n      <td>0.002185</td>\n      <td>2022-10-14 18:24:31.5223475</td>\n      <td>rest_state</td>\n      <td>1.665772e+09</td>\n    </tr>\n    <tr>\n      <th>2</th>\n      <td>1.665772e+09</td>\n      <td>1555</td>\n      <td>0.001313</td>\n      <td>-0.000067</td>\n      <td>0.000835</td>\n      <td>-0.001117</td>\n      <td>0.025893</td>\n      <td>-0.001051</td>\n      <td>-0.001056</td>\n      <td>-0.000164</td>\n      <td>...</td>\n      <td>-0.000462</td>\n      <td>0.000266</td>\n      <td>0.020005</td>\n      <td>-0.000529</td>\n      <td>-0.005584</td>\n      <td>-0.000262</td>\n      <td>0.009460</td>\n      <td>2022-10-14 18:24:31.6206510</td>\n      <td>rest_state</td>\n      <td>1.665772e+09</td>\n    </tr>\n    <tr>\n      <th>3</th>\n      <td>1.665772e+09</td>\n      <td>1555</td>\n      <td>0.001313</td>\n      <td>-0.000067</td>\n      <td>0.000835</td>\n      <td>-0.001117</td>\n      <td>0.025893</td>\n      <td>-0.001051</td>\n      <td>-0.001056</td>\n      <td>-0.000164</td>\n      <td>...</td>\n      <td>-0.000462</td>\n      <td>0.000266</td>\n      <td>0.020005</td>\n      <td>-0.000529</td>\n      <td>-0.005584</td>\n      <td>-0.000262</td>\n      <td>0.009460</td>\n      <td>2022-10-14 18:24:31.6206510</td>\n      <td>rest_state</td>\n      <td>1.665772e+09</td>\n    </tr>\n    <tr>\n      <th>4</th>\n      <td>1.665772e+09</td>\n      <td>1556</td>\n      <td>0.004343</td>\n      <td>-0.000195</td>\n      <td>-0.001761</td>\n      <td>-0.003850</td>\n      <td>0.083301</td>\n      <td>-0.003633</td>\n      <td>-0.003668</td>\n      <td>-0.000118</td>\n      <td>...</td>\n      <td>-0.000943</td>\n      <td>0.000812</td>\n      <td>0.068087</td>\n      <td>-0.001806</td>\n      <td>-0.016546</td>\n      <td>-0.000913</td>\n      <td>0.019165</td>\n      <td>2022-10-14 18:24:31.7189543</td>\n      <td>rest_state</td>\n      <td>1.665772e+09</td>\n    </tr>\n    <tr>\n      <th>...</th>\n      <td>...</td>\n      <td>...</td>\n      <td>...</td>\n      <td>...</td>\n      <td>...</td>\n      <td>...</td>\n      <td>...</td>\n      <td>...</td>\n      <td>...</td>\n      <td>...</td>\n      <td>...</td>\n      <td>...</td>\n      <td>...</td>\n      <td>...</td>\n      <td>...</td>\n      <td>...</td>\n      <td>...</td>\n      <td>...</td>\n      <td>...</td>\n      <td>...</td>\n      <td>...</td>\n    </tr>\n    <tr>\n      <th>6026</th>\n      <td>1.665772e+09</td>\n      <td>4618</td>\n      <td>-0.001231</td>\n      <td>-0.079115</td>\n      <td>2.039881</td>\n      <td>-0.409631</td>\n      <td>-0.447795</td>\n      <td>-0.651282</td>\n      <td>-0.419568</td>\n      <td>-0.423856</td>\n      <td>...</td>\n      <td>0.140370</td>\n      <td>0.110814</td>\n      <td>-0.091002</td>\n      <td>0.024641</td>\n      <td>0.422369</td>\n      <td>0.187903</td>\n      <td>1.647618</td>\n      <td>2022-10-14 18:29:32.7242029</td>\n      <td>rest_state</td>\n      <td>1.665772e+09</td>\n    </tr>\n    <tr>\n      <th>6027</th>\n      <td>1.665772e+09</td>\n      <td>4619</td>\n      <td>-0.006257</td>\n      <td>-0.090582</td>\n      <td>1.965376</td>\n      <td>-0.412229</td>\n      <td>-0.514232</td>\n      <td>-0.654616</td>\n      <td>-0.418245</td>\n      <td>-0.418883</td>\n      <td>...</td>\n      <td>0.138924</td>\n      <td>0.105630</td>\n      <td>0.344106</td>\n      <td>0.030283</td>\n      <td>0.157677</td>\n      <td>0.187563</td>\n      <td>1.493497</td>\n      <td>2022-10-14 18:29:32.8225064</td>\n      <td>rest_state</td>\n      <td>1.665772e+09</td>\n    </tr>\n    <tr>\n      <th>6028</th>\n      <td>1.665772e+09</td>\n      <td>4620</td>\n      <td>-0.010508</td>\n      <td>-0.102074</td>\n      <td>1.861392</td>\n      <td>-0.414359</td>\n      <td>-0.546225</td>\n      <td>-0.657235</td>\n      <td>-0.416017</td>\n      <td>-0.413780</td>\n      <td>...</td>\n      <td>0.137686</td>\n      <td>0.100441</td>\n      <td>0.777427</td>\n      <td>0.035947</td>\n      <td>-0.116704</td>\n      <td>0.186991</td>\n      <td>1.305343</td>\n      <td>2022-10-14 18:29:32.9208097</td>\n      <td>rest_state</td>\n      <td>1.665772e+09</td>\n    </tr>\n    <tr>\n      <th>6029</th>\n      <td>1.665772e+09</td>\n      <td>4620</td>\n      <td>-0.010508</td>\n      <td>-0.102074</td>\n      <td>1.861392</td>\n      <td>-0.414359</td>\n      <td>-0.546225</td>\n      <td>-0.657235</td>\n      <td>-0.416017</td>\n      <td>-0.413780</td>\n      <td>...</td>\n      <td>0.137686</td>\n      <td>0.100441</td>\n      <td>0.777427</td>\n      <td>0.035947</td>\n      <td>-0.116704</td>\n      <td>0.186991</td>\n      <td>1.305343</td>\n      <td>2022-10-14 18:29:32.9208097</td>\n      <td>rest_state</td>\n      <td>1.665772e+09</td>\n    </tr>\n    <tr>\n      <th>6030</th>\n      <td>1.665772e+09</td>\n      <td>4621</td>\n      <td>-0.013779</td>\n      <td>-0.113622</td>\n      <td>1.738198</td>\n      <td>-0.415961</td>\n      <td>-0.565332</td>\n      <td>-0.659071</td>\n      <td>-0.412855</td>\n      <td>-0.408673</td>\n      <td>...</td>\n      <td>0.137022</td>\n      <td>0.095531</td>\n      <td>1.198678</td>\n      <td>0.041498</td>\n      <td>-0.395450</td>\n      <td>0.186201</td>\n      <td>1.088020</td>\n      <td>2022-10-14 18:29:33.0191133</td>\n      <td>rest_state</td>\n      <td>1.665772e+09</td>\n    </tr>\n  </tbody>\n</table>\n<p>6031 rows × 45 columns</p>\n</div>"
     },
     "execution_count": 9,
     "metadata": {},
     "output_type": "execute_result"
    }
   ],
   "source": [
    "df_before"
   ],
   "metadata": {
    "collapsed": false,
    "ExecuteTime": {
     "end_time": "2023-06-04T16:55:05.065090Z",
     "start_time": "2023-06-04T16:55:05.023574Z"
    }
   }
  },
  {
   "cell_type": "code",
   "execution_count": 10,
   "outputs": [
    {
     "data": {
      "text/plain": "         unix_time  Unnamed: 0  S1-D1_HbO  S1-D2_HbO  S2-D1_HbO  S2-D3_HbO   \n0     1.665772e+09      1554.0   0.000201  -0.000007   0.000370  -0.000164  \\\n1     1.665772e+09      1555.0   0.001313  -0.000067   0.000835  -0.001117   \n2     1.665772e+09      1556.0   0.004343  -0.000195  -0.001761  -0.003850   \n3     1.665772e+09      1556.0   0.004343  -0.000195  -0.001761  -0.003850   \n4     1.665772e+09      1557.0   0.010109  -0.000389  -0.013067  -0.009305   \n...            ...         ...        ...        ...        ...        ...   \n6026  1.665772e+09      4619.0  -0.006257  -0.090582   1.965376  -0.412229   \n6027  1.665772e+09      4620.0  -0.010508  -0.102074   1.861392  -0.414359   \n6028  1.665772e+09      4621.0  -0.013779  -0.113622   1.738198  -0.415961   \n6029  1.665772e+09      4621.0  -0.013779  -0.113622   1.738198  -0.415961   \n6030  1.665772e+09         NaN        NaN        NaN        NaN        NaN   \n\n      S3-D1_HbO  S3-D3_HbO  S3-D4_HbO  S4-D2_HbO  ...  S6-D4_HbR  S6-D6_HbR   \n0      0.003890  -0.000154  -0.000154  -0.000050  ...  -0.000095   0.000041  \\\n1      0.025893  -0.001051  -0.001056  -0.000164  ...  -0.000462   0.000266   \n2      0.083301  -0.003633  -0.003668  -0.000118  ...  -0.000943   0.000812   \n3      0.083301  -0.003633  -0.003668  -0.000118  ...  -0.000943   0.000812   \n4      0.175829  -0.008799  -0.008867   0.000404  ...  -0.000999   0.001657   \n...         ...        ...        ...        ...  ...        ...        ...   \n6026  -0.514232  -0.654616  -0.418245  -0.418883  ...   0.138924   0.105630   \n6027  -0.546225  -0.657235  -0.416017  -0.413780  ...   0.137686   0.100441   \n6028  -0.565332  -0.659071  -0.412855  -0.408673  ...   0.137022   0.095531   \n6029  -0.565332  -0.659071  -0.412855  -0.408673  ...   0.137022   0.095531   \n6030        NaN        NaN        NaN        NaN  ...        NaN        NaN   \n\n      S6-D7_HbR  S7-D5_HbR  S7-D7_HbR  S8-D6_HbR  S8-D7_HbR   \n0      0.002553  -0.000082  -0.000966  -0.000038   0.002185  \\\n1      0.020005  -0.000529  -0.005584  -0.000262   0.009460   \n2      0.068087  -0.001806  -0.016546  -0.000913   0.019165   \n3      0.068087  -0.001806  -0.016546  -0.000913   0.019165   \n4      0.143449  -0.004431  -0.035931  -0.002216   0.029826   \n...         ...        ...        ...        ...        ...   \n6026   0.344106   0.030283   0.157677   0.187563   1.493497   \n6027   0.777427   0.035947  -0.116704   0.186991   1.305343   \n6028   1.198678   0.041498  -0.395450   0.186201   1.088020   \n6029   1.198678   0.041498  -0.395450   0.186201   1.088020   \n6030        NaN        NaN        NaN        NaN        NaN   \n\n              human_readable_time  event_type  original_unix_time  \n0     2022-10-14 18:24:31.5223475  rest_state        1.665772e+09  \n1     2022-10-14 18:24:31.6206510  rest_state        1.665772e+09  \n2     2022-10-14 18:24:31.7189543  rest_state        1.665772e+09  \n3     2022-10-14 18:24:31.7189543  rest_state        1.665772e+09  \n4     2022-10-14 18:24:31.8172579  rest_state        1.665772e+09  \n...                           ...         ...                 ...  \n6026  2022-10-14 18:29:32.8225064  rest_state        1.665772e+09  \n6027  2022-10-14 18:29:32.9208097  rest_state        1.665772e+09  \n6028  2022-10-14 18:29:33.0191133  rest_state        1.665772e+09  \n6029  2022-10-14 18:29:33.0191133  rest_state        1.665772e+09  \n6030                          NaN         NaN                 NaN  \n\n[6031 rows x 45 columns]",
      "text/html": "<div>\n<style scoped>\n    .dataframe tbody tr th:only-of-type {\n        vertical-align: middle;\n    }\n\n    .dataframe tbody tr th {\n        vertical-align: top;\n    }\n\n    .dataframe thead th {\n        text-align: right;\n    }\n</style>\n<table border=\"1\" class=\"dataframe\">\n  <thead>\n    <tr style=\"text-align: right;\">\n      <th></th>\n      <th>unix_time</th>\n      <th>Unnamed: 0</th>\n      <th>S1-D1_HbO</th>\n      <th>S1-D2_HbO</th>\n      <th>S2-D1_HbO</th>\n      <th>S2-D3_HbO</th>\n      <th>S3-D1_HbO</th>\n      <th>S3-D3_HbO</th>\n      <th>S3-D4_HbO</th>\n      <th>S4-D2_HbO</th>\n      <th>...</th>\n      <th>S6-D4_HbR</th>\n      <th>S6-D6_HbR</th>\n      <th>S6-D7_HbR</th>\n      <th>S7-D5_HbR</th>\n      <th>S7-D7_HbR</th>\n      <th>S8-D6_HbR</th>\n      <th>S8-D7_HbR</th>\n      <th>human_readable_time</th>\n      <th>event_type</th>\n      <th>original_unix_time</th>\n    </tr>\n  </thead>\n  <tbody>\n    <tr>\n      <th>0</th>\n      <td>1.665772e+09</td>\n      <td>1554.0</td>\n      <td>0.000201</td>\n      <td>-0.000007</td>\n      <td>0.000370</td>\n      <td>-0.000164</td>\n      <td>0.003890</td>\n      <td>-0.000154</td>\n      <td>-0.000154</td>\n      <td>-0.000050</td>\n      <td>...</td>\n      <td>-0.000095</td>\n      <td>0.000041</td>\n      <td>0.002553</td>\n      <td>-0.000082</td>\n      <td>-0.000966</td>\n      <td>-0.000038</td>\n      <td>0.002185</td>\n      <td>2022-10-14 18:24:31.5223475</td>\n      <td>rest_state</td>\n      <td>1.665772e+09</td>\n    </tr>\n    <tr>\n      <th>1</th>\n      <td>1.665772e+09</td>\n      <td>1555.0</td>\n      <td>0.001313</td>\n      <td>-0.000067</td>\n      <td>0.000835</td>\n      <td>-0.001117</td>\n      <td>0.025893</td>\n      <td>-0.001051</td>\n      <td>-0.001056</td>\n      <td>-0.000164</td>\n      <td>...</td>\n      <td>-0.000462</td>\n      <td>0.000266</td>\n      <td>0.020005</td>\n      <td>-0.000529</td>\n      <td>-0.005584</td>\n      <td>-0.000262</td>\n      <td>0.009460</td>\n      <td>2022-10-14 18:24:31.6206510</td>\n      <td>rest_state</td>\n      <td>1.665772e+09</td>\n    </tr>\n    <tr>\n      <th>2</th>\n      <td>1.665772e+09</td>\n      <td>1556.0</td>\n      <td>0.004343</td>\n      <td>-0.000195</td>\n      <td>-0.001761</td>\n      <td>-0.003850</td>\n      <td>0.083301</td>\n      <td>-0.003633</td>\n      <td>-0.003668</td>\n      <td>-0.000118</td>\n      <td>...</td>\n      <td>-0.000943</td>\n      <td>0.000812</td>\n      <td>0.068087</td>\n      <td>-0.001806</td>\n      <td>-0.016546</td>\n      <td>-0.000913</td>\n      <td>0.019165</td>\n      <td>2022-10-14 18:24:31.7189543</td>\n      <td>rest_state</td>\n      <td>1.665772e+09</td>\n    </tr>\n    <tr>\n      <th>3</th>\n      <td>1.665772e+09</td>\n      <td>1556.0</td>\n      <td>0.004343</td>\n      <td>-0.000195</td>\n      <td>-0.001761</td>\n      <td>-0.003850</td>\n      <td>0.083301</td>\n      <td>-0.003633</td>\n      <td>-0.003668</td>\n      <td>-0.000118</td>\n      <td>...</td>\n      <td>-0.000943</td>\n      <td>0.000812</td>\n      <td>0.068087</td>\n      <td>-0.001806</td>\n      <td>-0.016546</td>\n      <td>-0.000913</td>\n      <td>0.019165</td>\n      <td>2022-10-14 18:24:31.7189543</td>\n      <td>rest_state</td>\n      <td>1.665772e+09</td>\n    </tr>\n    <tr>\n      <th>4</th>\n      <td>1.665772e+09</td>\n      <td>1557.0</td>\n      <td>0.010109</td>\n      <td>-0.000389</td>\n      <td>-0.013067</td>\n      <td>-0.009305</td>\n      <td>0.175829</td>\n      <td>-0.008799</td>\n      <td>-0.008867</td>\n      <td>0.000404</td>\n      <td>...</td>\n      <td>-0.000999</td>\n      <td>0.001657</td>\n      <td>0.143449</td>\n      <td>-0.004431</td>\n      <td>-0.035931</td>\n      <td>-0.002216</td>\n      <td>0.029826</td>\n      <td>2022-10-14 18:24:31.8172579</td>\n      <td>rest_state</td>\n      <td>1.665772e+09</td>\n    </tr>\n    <tr>\n      <th>...</th>\n      <td>...</td>\n      <td>...</td>\n      <td>...</td>\n      <td>...</td>\n      <td>...</td>\n      <td>...</td>\n      <td>...</td>\n      <td>...</td>\n      <td>...</td>\n      <td>...</td>\n      <td>...</td>\n      <td>...</td>\n      <td>...</td>\n      <td>...</td>\n      <td>...</td>\n      <td>...</td>\n      <td>...</td>\n      <td>...</td>\n      <td>...</td>\n      <td>...</td>\n      <td>...</td>\n    </tr>\n    <tr>\n      <th>6026</th>\n      <td>1.665772e+09</td>\n      <td>4619.0</td>\n      <td>-0.006257</td>\n      <td>-0.090582</td>\n      <td>1.965376</td>\n      <td>-0.412229</td>\n      <td>-0.514232</td>\n      <td>-0.654616</td>\n      <td>-0.418245</td>\n      <td>-0.418883</td>\n      <td>...</td>\n      <td>0.138924</td>\n      <td>0.105630</td>\n      <td>0.344106</td>\n      <td>0.030283</td>\n      <td>0.157677</td>\n      <td>0.187563</td>\n      <td>1.493497</td>\n      <td>2022-10-14 18:29:32.8225064</td>\n      <td>rest_state</td>\n      <td>1.665772e+09</td>\n    </tr>\n    <tr>\n      <th>6027</th>\n      <td>1.665772e+09</td>\n      <td>4620.0</td>\n      <td>-0.010508</td>\n      <td>-0.102074</td>\n      <td>1.861392</td>\n      <td>-0.414359</td>\n      <td>-0.546225</td>\n      <td>-0.657235</td>\n      <td>-0.416017</td>\n      <td>-0.413780</td>\n      <td>...</td>\n      <td>0.137686</td>\n      <td>0.100441</td>\n      <td>0.777427</td>\n      <td>0.035947</td>\n      <td>-0.116704</td>\n      <td>0.186991</td>\n      <td>1.305343</td>\n      <td>2022-10-14 18:29:32.9208097</td>\n      <td>rest_state</td>\n      <td>1.665772e+09</td>\n    </tr>\n    <tr>\n      <th>6028</th>\n      <td>1.665772e+09</td>\n      <td>4621.0</td>\n      <td>-0.013779</td>\n      <td>-0.113622</td>\n      <td>1.738198</td>\n      <td>-0.415961</td>\n      <td>-0.565332</td>\n      <td>-0.659071</td>\n      <td>-0.412855</td>\n      <td>-0.408673</td>\n      <td>...</td>\n      <td>0.137022</td>\n      <td>0.095531</td>\n      <td>1.198678</td>\n      <td>0.041498</td>\n      <td>-0.395450</td>\n      <td>0.186201</td>\n      <td>1.088020</td>\n      <td>2022-10-14 18:29:33.0191133</td>\n      <td>rest_state</td>\n      <td>1.665772e+09</td>\n    </tr>\n    <tr>\n      <th>6029</th>\n      <td>1.665772e+09</td>\n      <td>4621.0</td>\n      <td>-0.013779</td>\n      <td>-0.113622</td>\n      <td>1.738198</td>\n      <td>-0.415961</td>\n      <td>-0.565332</td>\n      <td>-0.659071</td>\n      <td>-0.412855</td>\n      <td>-0.408673</td>\n      <td>...</td>\n      <td>0.137022</td>\n      <td>0.095531</td>\n      <td>1.198678</td>\n      <td>0.041498</td>\n      <td>-0.395450</td>\n      <td>0.186201</td>\n      <td>1.088020</td>\n      <td>2022-10-14 18:29:33.0191133</td>\n      <td>rest_state</td>\n      <td>1.665772e+09</td>\n    </tr>\n    <tr>\n      <th>6030</th>\n      <td>1.665772e+09</td>\n      <td>NaN</td>\n      <td>NaN</td>\n      <td>NaN</td>\n      <td>NaN</td>\n      <td>NaN</td>\n      <td>NaN</td>\n      <td>NaN</td>\n      <td>NaN</td>\n      <td>NaN</td>\n      <td>...</td>\n      <td>NaN</td>\n      <td>NaN</td>\n      <td>NaN</td>\n      <td>NaN</td>\n      <td>NaN</td>\n      <td>NaN</td>\n      <td>NaN</td>\n      <td>NaN</td>\n      <td>NaN</td>\n      <td>NaN</td>\n    </tr>\n  </tbody>\n</table>\n<p>6031 rows × 45 columns</p>\n</div>"
     },
     "execution_count": 10,
     "metadata": {},
     "output_type": "execute_result"
    }
   ],
   "source": [
    "df_after"
   ],
   "metadata": {
    "collapsed": false,
    "ExecuteTime": {
     "end_time": "2023-06-04T16:55:05.083813Z",
     "start_time": "2023-06-04T16:55:05.033607Z"
    }
   }
  },
  {
   "cell_type": "code",
   "execution_count": 11,
   "outputs": [
    {
     "data": {
      "text/plain": "0       1.665772e+09\n1       1.665772e+09\n2       1.665772e+09\n3       1.665772e+09\n4       1.665772e+09\n            ...     \n6026    1.665772e+09\n6027    1.665772e+09\n6028    1.665772e+09\n6029    1.665772e+09\n6030    1.665772e+09\nName: original_unix_time, Length: 6031, dtype: float64"
     },
     "execution_count": 11,
     "metadata": {},
     "output_type": "execute_result"
    }
   ],
   "source": [
    "df_before['original_unix_time']"
   ],
   "metadata": {
    "collapsed": false,
    "ExecuteTime": {
     "end_time": "2023-06-04T16:55:05.084036Z",
     "start_time": "2023-06-04T16:55:05.043496Z"
    }
   }
  },
  {
   "cell_type": "code",
   "execution_count": 12,
   "outputs": [
    {
     "data": {
      "text/plain": "0       1.665772e+09\n1       1.665772e+09\n2       1.665772e+09\n3       1.665772e+09\n4       1.665772e+09\n            ...     \n6026    1.665772e+09\n6027    1.665772e+09\n6028    1.665772e+09\n6029    1.665772e+09\n6030             NaN\nName: original_unix_time, Length: 6031, dtype: float64"
     },
     "execution_count": 12,
     "metadata": {},
     "output_type": "execute_result"
    }
   ],
   "source": [
    "df_after['original_unix_time']"
   ],
   "metadata": {
    "collapsed": false,
    "ExecuteTime": {
     "end_time": "2023-06-04T16:55:05.084163Z",
     "start_time": "2023-06-04T16:55:05.049533Z"
    }
   }
  },
  {
   "cell_type": "code",
   "execution_count": 13,
   "outputs": [],
   "source": [
    "percentage = (time_df['unix_time'] - df_before['original_unix_time']) / (df_after['original_unix_time'] - df_before['original_unix_time'])"
   ],
   "metadata": {
    "collapsed": false,
    "ExecuteTime": {
     "end_time": "2023-06-04T16:55:05.084214Z",
     "start_time": "2023-06-04T16:55:05.049707Z"
    }
   }
  },
  {
   "cell_type": "code",
   "execution_count": 14,
   "outputs": [
    {
     "data": {
      "text/plain": "0            NaN\n1       0.508629\n2       0.017259\n3       0.525888\n4       0.034517\n          ...   \n6026    0.995462\n6027    0.504093\n6028    0.012723\n6029    0.521350\n6030         NaN\nLength: 6031, dtype: float64"
     },
     "execution_count": 14,
     "metadata": {},
     "output_type": "execute_result"
    }
   ],
   "source": [
    "percentage"
   ],
   "metadata": {
    "collapsed": false,
    "ExecuteTime": {
     "end_time": "2023-06-04T16:55:05.084293Z",
     "start_time": "2023-06-04T16:55:05.053965Z"
    }
   }
  },
  {
   "cell_type": "code",
   "execution_count": 15,
   "outputs": [],
   "source": [
    "def linear_average(value1, value2, average_percentage):\n",
    "    return value1 * (1 - average_percentage) + value2 * average_percentage"
   ],
   "metadata": {
    "collapsed": false,
    "ExecuteTime": {
     "end_time": "2023-06-04T16:55:05.084338Z",
     "start_time": "2023-06-04T16:55:05.056498Z"
    }
   }
  },
  {
   "cell_type": "code",
   "execution_count": 16,
   "outputs": [],
   "source": [
    "columns = df.columns.drop(['Unnamed: 0', 'human_readable_time', 'unix_time', 'event_type', 'original_unix_time'])\n",
    "for column in columns:\n",
    "    time_df[column] = linear_average(df_before[column], df_after[column], percentage)"
   ],
   "metadata": {
    "collapsed": false,
    "ExecuteTime": {
     "end_time": "2023-06-04T16:55:05.084387Z",
     "start_time": "2023-06-04T16:55:05.059473Z"
    }
   }
  },
  {
   "cell_type": "code",
   "execution_count": 17,
   "outputs": [
    {
     "data": {
      "text/plain": "         unix_time  S1-D1_HbO  S1-D2_HbO  S2-D1_HbO  S2-D3_HbO  S3-D1_HbO   \n0     1.665772e+09        NaN        NaN        NaN        NaN        NaN  \\\n1     1.665772e+09   0.000766  -0.000037   0.000606  -0.000649   0.015082   \n2     1.665772e+09   0.001365  -0.000069   0.000790  -0.001164   0.026884   \n3     1.665772e+09   0.002907  -0.000134  -0.000530  -0.002554   0.056083   \n4     1.665772e+09   0.004542  -0.000202  -0.002151  -0.004038   0.086495   \n...            ...        ...        ...        ...        ...        ...   \n6026  1.665772e+09  -0.006234  -0.090530   1.965714  -0.412217  -0.513930   \n6027  1.665772e+09  -0.008400  -0.096375   1.912958  -0.413303  -0.530360   \n6028  1.665772e+09  -0.010549  -0.102221   1.859824  -0.414380  -0.546468   \n6029  1.665772e+09  -0.012213  -0.108095   1.797165  -0.415194  -0.556187   \n6030  1.665772e+09        NaN        NaN        NaN        NaN        NaN   \n\n      S3-D3_HbO  S3-D4_HbO  S4-D2_HbO  S4-D4_HbO  ...  S5-D3_HbR  S5-D4_HbR   \n0           NaN        NaN        NaN        NaN  ...        NaN        NaN  \\\n1     -0.000611  -0.000613  -0.000108  -0.000237  ...  -0.000057  -0.000079   \n2     -0.001096  -0.001101  -0.000163  -0.000429  ...  -0.000102  -0.000140   \n3     -0.002409  -0.002430  -0.000140  -0.000950  ...  -0.000222  -0.000281   \n4     -0.003812  -0.003848  -0.000100  -0.001506  ...  -0.000349  -0.000427   \n...         ...        ...        ...        ...  ...        ...        ...   \n6026  -0.654601  -0.418251  -0.418906  -0.300726  ...   0.143321   0.253825   \n6027  -0.655936  -0.417122  -0.416311  -0.296883  ...   0.142869   0.253713   \n6028  -0.657258  -0.415977  -0.413715  -0.293031  ...   0.142417   0.253602   \n6029  -0.658192  -0.414368  -0.411118  -0.288948  ...   0.141973   0.253514   \n6030        NaN        NaN        NaN        NaN  ...        NaN        NaN   \n\n      S5-D6_HbR  S6-D4_HbR  S6-D6_HbR  S6-D7_HbR  S7-D5_HbR  S7-D7_HbR   \n0           NaN        NaN        NaN        NaN        NaN        NaN  \\\n1     -0.000004  -0.000282   0.000156   0.011430  -0.000309  -0.003315   \n2     -0.000006  -0.000471   0.000275   0.020835  -0.000551  -0.005773   \n3     -0.000014  -0.000715   0.000553   0.045291  -0.001200  -0.011349   \n4     -0.000022  -0.000945   0.000841   0.070688  -0.001897  -0.017215   \n...         ...        ...        ...        ...        ...        ...   \n6026   0.111388   0.138931   0.105654   0.342132   0.030257   0.158878   \n6027   0.110685   0.138300   0.103014   0.562540   0.033138   0.019363   \n6028   0.109982   0.137678   0.100378   0.782786   0.036018  -0.120251   \n6029   0.109281   0.137340   0.097881   0.997046   0.038841  -0.262028   \n6030        NaN        NaN        NaN        NaN        NaN        NaN   \n\n      S8-D6_HbR  S8-D7_HbR  \n0           NaN        NaN  \n1     -0.000152   0.005885  \n2     -0.000274   0.009628  \n3     -0.000605   0.014564  \n4     -0.000958   0.019533  \n...         ...        ...  \n6026   0.187564   1.494197  \n6027   0.187274   1.398650  \n6028   0.186980   1.302578  \n6029   0.186579   1.192042  \n6030        NaN        NaN  \n\n[6031 rows x 41 columns]",
      "text/html": "<div>\n<style scoped>\n    .dataframe tbody tr th:only-of-type {\n        vertical-align: middle;\n    }\n\n    .dataframe tbody tr th {\n        vertical-align: top;\n    }\n\n    .dataframe thead th {\n        text-align: right;\n    }\n</style>\n<table border=\"1\" class=\"dataframe\">\n  <thead>\n    <tr style=\"text-align: right;\">\n      <th></th>\n      <th>unix_time</th>\n      <th>S1-D1_HbO</th>\n      <th>S1-D2_HbO</th>\n      <th>S2-D1_HbO</th>\n      <th>S2-D3_HbO</th>\n      <th>S3-D1_HbO</th>\n      <th>S3-D3_HbO</th>\n      <th>S3-D4_HbO</th>\n      <th>S4-D2_HbO</th>\n      <th>S4-D4_HbO</th>\n      <th>...</th>\n      <th>S5-D3_HbR</th>\n      <th>S5-D4_HbR</th>\n      <th>S5-D6_HbR</th>\n      <th>S6-D4_HbR</th>\n      <th>S6-D6_HbR</th>\n      <th>S6-D7_HbR</th>\n      <th>S7-D5_HbR</th>\n      <th>S7-D7_HbR</th>\n      <th>S8-D6_HbR</th>\n      <th>S8-D7_HbR</th>\n    </tr>\n  </thead>\n  <tbody>\n    <tr>\n      <th>0</th>\n      <td>1.665772e+09</td>\n      <td>NaN</td>\n      <td>NaN</td>\n      <td>NaN</td>\n      <td>NaN</td>\n      <td>NaN</td>\n      <td>NaN</td>\n      <td>NaN</td>\n      <td>NaN</td>\n      <td>NaN</td>\n      <td>...</td>\n      <td>NaN</td>\n      <td>NaN</td>\n      <td>NaN</td>\n      <td>NaN</td>\n      <td>NaN</td>\n      <td>NaN</td>\n      <td>NaN</td>\n      <td>NaN</td>\n      <td>NaN</td>\n      <td>NaN</td>\n    </tr>\n    <tr>\n      <th>1</th>\n      <td>1.665772e+09</td>\n      <td>0.000766</td>\n      <td>-0.000037</td>\n      <td>0.000606</td>\n      <td>-0.000649</td>\n      <td>0.015082</td>\n      <td>-0.000611</td>\n      <td>-0.000613</td>\n      <td>-0.000108</td>\n      <td>-0.000237</td>\n      <td>...</td>\n      <td>-0.000057</td>\n      <td>-0.000079</td>\n      <td>-0.000004</td>\n      <td>-0.000282</td>\n      <td>0.000156</td>\n      <td>0.011430</td>\n      <td>-0.000309</td>\n      <td>-0.003315</td>\n      <td>-0.000152</td>\n      <td>0.005885</td>\n    </tr>\n    <tr>\n      <th>2</th>\n      <td>1.665772e+09</td>\n      <td>0.001365</td>\n      <td>-0.000069</td>\n      <td>0.000790</td>\n      <td>-0.001164</td>\n      <td>0.026884</td>\n      <td>-0.001096</td>\n      <td>-0.001101</td>\n      <td>-0.000163</td>\n      <td>-0.000429</td>\n      <td>...</td>\n      <td>-0.000102</td>\n      <td>-0.000140</td>\n      <td>-0.000006</td>\n      <td>-0.000471</td>\n      <td>0.000275</td>\n      <td>0.020835</td>\n      <td>-0.000551</td>\n      <td>-0.005773</td>\n      <td>-0.000274</td>\n      <td>0.009628</td>\n    </tr>\n    <tr>\n      <th>3</th>\n      <td>1.665772e+09</td>\n      <td>0.002907</td>\n      <td>-0.000134</td>\n      <td>-0.000530</td>\n      <td>-0.002554</td>\n      <td>0.056083</td>\n      <td>-0.002409</td>\n      <td>-0.002430</td>\n      <td>-0.000140</td>\n      <td>-0.000950</td>\n      <td>...</td>\n      <td>-0.000222</td>\n      <td>-0.000281</td>\n      <td>-0.000014</td>\n      <td>-0.000715</td>\n      <td>0.000553</td>\n      <td>0.045291</td>\n      <td>-0.001200</td>\n      <td>-0.011349</td>\n      <td>-0.000605</td>\n      <td>0.014564</td>\n    </tr>\n    <tr>\n      <th>4</th>\n      <td>1.665772e+09</td>\n      <td>0.004542</td>\n      <td>-0.000202</td>\n      <td>-0.002151</td>\n      <td>-0.004038</td>\n      <td>0.086495</td>\n      <td>-0.003812</td>\n      <td>-0.003848</td>\n      <td>-0.000100</td>\n      <td>-0.001506</td>\n      <td>...</td>\n      <td>-0.000349</td>\n      <td>-0.000427</td>\n      <td>-0.000022</td>\n      <td>-0.000945</td>\n      <td>0.000841</td>\n      <td>0.070688</td>\n      <td>-0.001897</td>\n      <td>-0.017215</td>\n      <td>-0.000958</td>\n      <td>0.019533</td>\n    </tr>\n    <tr>\n      <th>...</th>\n      <td>...</td>\n      <td>...</td>\n      <td>...</td>\n      <td>...</td>\n      <td>...</td>\n      <td>...</td>\n      <td>...</td>\n      <td>...</td>\n      <td>...</td>\n      <td>...</td>\n      <td>...</td>\n      <td>...</td>\n      <td>...</td>\n      <td>...</td>\n      <td>...</td>\n      <td>...</td>\n      <td>...</td>\n      <td>...</td>\n      <td>...</td>\n      <td>...</td>\n      <td>...</td>\n    </tr>\n    <tr>\n      <th>6026</th>\n      <td>1.665772e+09</td>\n      <td>-0.006234</td>\n      <td>-0.090530</td>\n      <td>1.965714</td>\n      <td>-0.412217</td>\n      <td>-0.513930</td>\n      <td>-0.654601</td>\n      <td>-0.418251</td>\n      <td>-0.418906</td>\n      <td>-0.300726</td>\n      <td>...</td>\n      <td>0.143321</td>\n      <td>0.253825</td>\n      <td>0.111388</td>\n      <td>0.138931</td>\n      <td>0.105654</td>\n      <td>0.342132</td>\n      <td>0.030257</td>\n      <td>0.158878</td>\n      <td>0.187564</td>\n      <td>1.494197</td>\n    </tr>\n    <tr>\n      <th>6027</th>\n      <td>1.665772e+09</td>\n      <td>-0.008400</td>\n      <td>-0.096375</td>\n      <td>1.912958</td>\n      <td>-0.413303</td>\n      <td>-0.530360</td>\n      <td>-0.655936</td>\n      <td>-0.417122</td>\n      <td>-0.416311</td>\n      <td>-0.296883</td>\n      <td>...</td>\n      <td>0.142869</td>\n      <td>0.253713</td>\n      <td>0.110685</td>\n      <td>0.138300</td>\n      <td>0.103014</td>\n      <td>0.562540</td>\n      <td>0.033138</td>\n      <td>0.019363</td>\n      <td>0.187274</td>\n      <td>1.398650</td>\n    </tr>\n    <tr>\n      <th>6028</th>\n      <td>1.665772e+09</td>\n      <td>-0.010549</td>\n      <td>-0.102221</td>\n      <td>1.859824</td>\n      <td>-0.414380</td>\n      <td>-0.546468</td>\n      <td>-0.657258</td>\n      <td>-0.415977</td>\n      <td>-0.413715</td>\n      <td>-0.293031</td>\n      <td>...</td>\n      <td>0.142417</td>\n      <td>0.253602</td>\n      <td>0.109982</td>\n      <td>0.137678</td>\n      <td>0.100378</td>\n      <td>0.782786</td>\n      <td>0.036018</td>\n      <td>-0.120251</td>\n      <td>0.186980</td>\n      <td>1.302578</td>\n    </tr>\n    <tr>\n      <th>6029</th>\n      <td>1.665772e+09</td>\n      <td>-0.012213</td>\n      <td>-0.108095</td>\n      <td>1.797165</td>\n      <td>-0.415194</td>\n      <td>-0.556187</td>\n      <td>-0.658192</td>\n      <td>-0.414368</td>\n      <td>-0.411118</td>\n      <td>-0.288948</td>\n      <td>...</td>\n      <td>0.141973</td>\n      <td>0.253514</td>\n      <td>0.109281</td>\n      <td>0.137340</td>\n      <td>0.097881</td>\n      <td>0.997046</td>\n      <td>0.038841</td>\n      <td>-0.262028</td>\n      <td>0.186579</td>\n      <td>1.192042</td>\n    </tr>\n    <tr>\n      <th>6030</th>\n      <td>1.665772e+09</td>\n      <td>NaN</td>\n      <td>NaN</td>\n      <td>NaN</td>\n      <td>NaN</td>\n      <td>NaN</td>\n      <td>NaN</td>\n      <td>NaN</td>\n      <td>NaN</td>\n      <td>NaN</td>\n      <td>...</td>\n      <td>NaN</td>\n      <td>NaN</td>\n      <td>NaN</td>\n      <td>NaN</td>\n      <td>NaN</td>\n      <td>NaN</td>\n      <td>NaN</td>\n      <td>NaN</td>\n      <td>NaN</td>\n      <td>NaN</td>\n    </tr>\n  </tbody>\n</table>\n<p>6031 rows × 41 columns</p>\n</div>"
     },
     "execution_count": 17,
     "metadata": {},
     "output_type": "execute_result"
    }
   ],
   "source": [
    "time_df"
   ],
   "metadata": {
    "collapsed": false,
    "ExecuteTime": {
     "end_time": "2023-06-04T16:55:05.096240Z",
     "start_time": "2023-06-04T16:55:05.071625Z"
    }
   }
  },
  {
   "cell_type": "code",
   "execution_count": 17,
   "outputs": [],
   "source": [],
   "metadata": {
    "collapsed": false,
    "ExecuteTime": {
     "end_time": "2023-06-04T16:55:05.096405Z",
     "start_time": "2023-06-04T16:55:05.081245Z"
    }
   }
  }
 ],
 "metadata": {
  "kernelspec": {
   "display_name": "Python 3",
   "language": "python",
   "name": "python3"
  },
  "language_info": {
   "codemirror_mode": {
    "name": "ipython",
    "version": 2
   },
   "file_extension": ".py",
   "mimetype": "text/x-python",
   "name": "python",
   "nbconvert_exporter": "python",
   "pygments_lexer": "ipython2",
   "version": "2.7.6"
  }
 },
 "nbformat": 4,
 "nbformat_minor": 0
}
