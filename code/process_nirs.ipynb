{
 "cells": [
  {
   "cell_type": "code",
   "execution_count": 1,
   "metadata": {
    "collapsed": true,
    "ExecuteTime": {
     "end_time": "2023-06-04T00:19:14.100023Z",
     "start_time": "2023-06-04T00:19:13.897250Z"
    }
   },
   "outputs": [],
   "source": [
    "from pipeline import process_experiment"
   ]
  },
  {
   "cell_type": "code",
   "execution_count": 2,
   "outputs": [],
   "source": [
    "path_to_task = '/Users/ericduong/Documents/ToMCAT/tomcat-data-draft/data/raw/tasks'\n",
    "path_to_physio = '/Users/ericduong/Documents/ToMCAT/tomcat-data-draft/data/separated/physio_data'\n",
    "path_to_experiment_info = '/Users/ericduong/Documents/ToMCAT/tomcat-data-draft/data/organized/info'\n",
    "physio_type = 'nirs'\n",
    "output_path = '/Users/ericduong/Documents/ToMCAT/tomcat-data-draft/data/processed'\n",
    "frequency = 20.0\n",
    "\n",
    "experiments = [\n",
    "    \"exp_2022_09_30_10\", # Does not have physio data for minecraft\n",
    "    \"exp_2022_10_04_09\",\n",
    "    \"exp_2022_10_07_15\",\n",
    "    \"exp_2022_10_14_10\",\n",
    "    \"exp_2022_10_18_10\",\n",
    "    # \"exp_2022_10_21_15\",\n",
    "    # \"exp_2022_10_24_12\", # Baseline task 00027, but Rick's sheet says 99999 EA\n",
    "    # \"exp_2022_10_27_10\", # Baseline task 00065, but Rick's sheet says 99999 ED\n",
    "    # \"exp_2022_10_28_10\", # Baseline task 00056, but Rick's sheet says 99999 ED\n",
    "    # \"exp_2022_10_31_10\", # Baseline task 00062, but Rick's sheet says 99999 VS\n",
    "    # \"exp_2022_11_01_10\",\n",
    "    # \"exp_2022_11_04_10\",\n",
    "    # \"exp_2022_11_07_10\",\n",
    "    # \"exp_2022_11_08_11\",\n",
    "    # \"exp_2022_11_10_10\",\n",
    "    # \"exp_2022_11_14_12\",\n",
    "    # \"exp_2022_11_15_13\",\n",
    "    # \"exp_2022_11_17_15\",\n",
    "    # \"exp_2022_11_18_10\",\n",
    "    # \"exp_2022_11_22_10\",\n",
    "    # \"exp_2022_12_02_15\",\n",
    "    # \"exp_2022_12_05_12\",\n",
    "    # \"exp_2023_01_30_13\",\n",
    "    # \"exp_2023_01_31_14\",\n",
    "    # \"exp_2023_02_03_10\",\n",
    "    # \"exp_2023_02_06_13\",\n",
    "    # \"exp_2023_02_07_14\",\n",
    "    # \"exp_2023_02_10_10\",\n",
    "    # \"exp_2023_02_16_14\",\n",
    "    # \"exp_2023_02_20_01\",\n",
    "    # \"exp_2023_02_21_14\"\n",
    "]"
   ],
   "metadata": {
    "collapsed": false,
    "ExecuteTime": {
     "end_time": "2023-06-04T00:19:14.103086Z",
     "start_time": "2023-06-04T00:19:14.101382Z"
    }
   }
  },
  {
   "cell_type": "code",
   "execution_count": 3,
   "outputs": [
    {
     "name": "stderr",
     "output_type": "stream",
     "text": [
      " 60%|██████    | 3/5 [11:12<07:28, 224.21s/it]\n"
     ]
    },
    {
     "ename": "KeyboardInterrupt",
     "evalue": "",
     "output_type": "error",
     "traceback": [
      "\u001B[0;31m---------------------------------------------------------------------------\u001B[0m",
      "\u001B[0;31mKeyboardInterrupt\u001B[0m                         Traceback (most recent call last)",
      "Cell \u001B[0;32mIn[3], line 1\u001B[0m\n\u001B[0;32m----> 1\u001B[0m \u001B[43mprocess_experiment\u001B[49m\u001B[43m(\u001B[49m\n\u001B[1;32m      2\u001B[0m \u001B[43m    \u001B[49m\u001B[43mpath_to_task\u001B[49m\u001B[43m,\u001B[49m\n\u001B[1;32m      3\u001B[0m \u001B[43m    \u001B[49m\u001B[43mpath_to_physio\u001B[49m\u001B[43m,\u001B[49m\n\u001B[1;32m      4\u001B[0m \u001B[43m    \u001B[49m\u001B[43mpath_to_experiment_info\u001B[49m\u001B[43m,\u001B[49m\n\u001B[1;32m      5\u001B[0m \u001B[43m    \u001B[49m\u001B[43mphysio_type\u001B[49m\u001B[43m,\u001B[49m\n\u001B[1;32m      6\u001B[0m \u001B[43m    \u001B[49m\u001B[43mexperiments\u001B[49m\u001B[43m,\u001B[49m\n\u001B[1;32m      7\u001B[0m \u001B[43m    \u001B[49m\u001B[43moutput_path\u001B[49m\u001B[43m,\u001B[49m\n\u001B[1;32m      8\u001B[0m \u001B[43m    \u001B[49m\u001B[43mfrequency\u001B[49m\n\u001B[1;32m      9\u001B[0m \u001B[43m)\u001B[49m\n",
      "File \u001B[0;32m~/Documents/ToMCAT/tomcat-data-draft/code/pipeline/process_experiment.py:188\u001B[0m, in \u001B[0;36mprocess_experiment\u001B[0;34m(path_to_task, path_to_physio, path_to_experiment_info, physio_type, experiments, output_path, frequency)\u001B[0m\n\u001B[1;32m    186\u001B[0m     \u001B[38;5;28;01mfor\u001B[39;00m mission, mission_data \u001B[38;5;129;01min\u001B[39;00m minecraft_data\u001B[38;5;241m.\u001B[39mitems():\n\u001B[1;32m    187\u001B[0m         log_file\u001B[38;5;241m.\u001B[39mwrite(\u001B[38;5;124m\"\u001B[39m\u001B[38;5;124m==Minecraft \u001B[39m\u001B[38;5;124m\"\u001B[39m \u001B[38;5;241m+\u001B[39m mission \u001B[38;5;241m+\u001B[39m \u001B[38;5;124m'\u001B[39m\u001B[38;5;124m==\u001B[39m\u001B[38;5;130;01m\\n\u001B[39;00m\u001B[38;5;124m'\u001B[39m)\n\u001B[0;32m--> 188\u001B[0m         minecraft \u001B[38;5;241m=\u001B[39m \u001B[43mMinecraft\u001B[49m\u001B[38;5;241;43m.\u001B[39;49m\u001B[43mfrom_files\u001B[49m\u001B[43m(\u001B[49m\n\u001B[1;32m    189\u001B[0m \u001B[43m            \u001B[49m\u001B[43mmission_data\u001B[49m\u001B[43m[\u001B[49m\u001B[38;5;124;43m'\u001B[39;49m\u001B[38;5;124;43minfo\u001B[39;49m\u001B[38;5;124;43m'\u001B[39;49m\u001B[43m]\u001B[49m\u001B[43m,\u001B[49m\n\u001B[1;32m    190\u001B[0m \u001B[43m            \u001B[49m\u001B[43mmission_data\u001B[49m\u001B[43m[\u001B[49m\u001B[38;5;124;43m'\u001B[39;49m\u001B[38;5;124;43mtask_metadata_path\u001B[39;49m\u001B[38;5;124;43m'\u001B[39;49m\u001B[43m]\u001B[49m\u001B[43m,\u001B[49m\n\u001B[1;32m    191\u001B[0m \u001B[43m            \u001B[49m\u001B[43mmission_data\u001B[49m\u001B[43m[\u001B[49m\u001B[38;5;124;43m'\u001B[39;49m\u001B[38;5;124;43mphysio_name_path\u001B[39;49m\u001B[38;5;124;43m'\u001B[39;49m\u001B[43m]\u001B[49m\u001B[43m,\u001B[49m\n\u001B[1;32m    192\u001B[0m \u001B[43m            \u001B[49m\u001B[43mfrequency\u001B[49m\u001B[38;5;241;43m=\u001B[39;49m\u001B[43mfrequency\u001B[49m\n\u001B[1;32m    193\u001B[0m \u001B[43m        \u001B[49m\u001B[43m)\u001B[49m\n\u001B[1;32m    195\u001B[0m         minecraft\u001B[38;5;241m.\u001B[39mwrite_physio_data_csv(output_path \u001B[38;5;241m+\u001B[39m \u001B[38;5;124m'\u001B[39m\u001B[38;5;124m/\u001B[39m\u001B[38;5;124m'\u001B[39m \u001B[38;5;241m+\u001B[39m experiment, mission)\n\u001B[1;32m    196\u001B[0m \u001B[38;5;28;01mexcept\u001B[39;00m FileDoesNotExistError \u001B[38;5;28;01mas\u001B[39;00m e:\n",
      "File \u001B[0;32m~/Documents/ToMCAT/tomcat-data-draft/code/tasks/minecraft.py:131\u001B[0m, in \u001B[0;36mMinecraft.from_files\u001B[0;34m(cls, metadata_path, minecraft_metadata_path, minecraft_physio_name_filepath, frequency)\u001B[0m\n\u001B[1;32m    127\u001B[0m \u001B[38;5;66;03m# Read physio data\u001B[39;00m\n\u001B[1;32m    128\u001B[0m physio_id_filepath \u001B[38;5;241m=\u001B[39m {v: minecraft_physio_name_filepath[k] \u001B[38;5;28;01mfor\u001B[39;00m k, v \u001B[38;5;129;01min\u001B[39;00m\n\u001B[1;32m    129\u001B[0m                       participant_ids\u001B[38;5;241m.\u001B[39mitems() \u001B[38;5;28;01mif\u001B[39;00m k \u001B[38;5;129;01min\u001B[39;00m minecraft_physio_name_filepath}\n\u001B[0;32m--> 131\u001B[0m minecraft_physio \u001B[38;5;241m=\u001B[39m \u001B[43mcombine_participants_physio_from_files\u001B[49m\u001B[43m(\u001B[49m\n\u001B[1;32m    132\u001B[0m \u001B[43m    \u001B[49m\u001B[43mphysio_id_filepath\u001B[49m\u001B[43m,\u001B[49m\n\u001B[1;32m    133\u001B[0m \u001B[43m    \u001B[49m\u001B[43mstart_time\u001B[49m\u001B[43m,\u001B[49m\n\u001B[1;32m    134\u001B[0m \u001B[43m    \u001B[49m\u001B[43mend_time\u001B[49m\u001B[43m,\u001B[49m\n\u001B[1;32m    135\u001B[0m \u001B[43m    \u001B[49m\u001B[43mfrequency\u001B[49m\n\u001B[1;32m    136\u001B[0m \u001B[43m\u001B[49m\u001B[43m)\u001B[49m\n\u001B[1;32m    138\u001B[0m minecraft_physio[\u001B[38;5;124m'\u001B[39m\u001B[38;5;124mexperiment_id\u001B[39m\u001B[38;5;124m'\u001B[39m] \u001B[38;5;241m=\u001B[39m metadata[\u001B[38;5;124m'\u001B[39m\u001B[38;5;124mexperiment\u001B[39m\u001B[38;5;124m'\u001B[39m]\n\u001B[1;32m    139\u001B[0m minecraft_physio[\u001B[38;5;124m'\u001B[39m\u001B[38;5;124mlion_id\u001B[39m\u001B[38;5;124m'\u001B[39m] \u001B[38;5;241m=\u001B[39m participant_ids[\u001B[38;5;124m'\u001B[39m\u001B[38;5;124mlion\u001B[39m\u001B[38;5;124m'\u001B[39m]\n",
      "File \u001B[0;32m~/Documents/ToMCAT/tomcat-data-draft/code/physio/combine_participants_physio_from_files.py:25\u001B[0m, in \u001B[0;36mcombine_participants_physio_from_files\u001B[0;34m(id_filepath, start_time, end_time, frequency)\u001B[0m\n\u001B[1;32m     17\u001B[0m     id_df[participant_id] \u001B[38;5;241m=\u001B[39m read_csv_file(filepath, delimiter\u001B[38;5;241m=\u001B[39m\u001B[38;5;124m'\u001B[39m\u001B[38;5;130;01m\\t\u001B[39;00m\u001B[38;5;124m'\u001B[39m)\n\u001B[1;32m     19\u001B[0m     \u001B[38;5;66;03m# # Extract the prefix from the file name\u001B[39;00m\n\u001B[1;32m     20\u001B[0m     \u001B[38;5;66;03m# prefix = '_'.join(os.path.basename(filepath).split('_')[0:2]) + \"_\"\u001B[39;00m\n\u001B[1;32m     21\u001B[0m     \u001B[38;5;66;03m#\u001B[39;00m\n\u001B[1;32m     22\u001B[0m     \u001B[38;5;66;03m# # Rename the columns by removing the prefix\u001B[39;00m\n\u001B[1;32m     23\u001B[0m     \u001B[38;5;66;03m# id_df[participant_id].columns = id_df[participant_id].columns.str.replace(prefix, '')\u001B[39;00m\n\u001B[0;32m---> 25\u001B[0m \u001B[38;5;28;01mreturn\u001B[39;00m \u001B[43mcombine_participants_physio\u001B[49m\u001B[43m(\u001B[49m\n\u001B[1;32m     26\u001B[0m \u001B[43m    \u001B[49m\u001B[43mid_df\u001B[49m\u001B[43m,\u001B[49m\n\u001B[1;32m     27\u001B[0m \u001B[43m    \u001B[49m\u001B[43mstart_time\u001B[49m\u001B[43m,\u001B[49m\n\u001B[1;32m     28\u001B[0m \u001B[43m    \u001B[49m\u001B[43mend_time\u001B[49m\u001B[43m,\u001B[49m\n\u001B[1;32m     29\u001B[0m \u001B[43m    \u001B[49m\u001B[43mfrequency\u001B[49m\n\u001B[1;32m     30\u001B[0m \u001B[43m\u001B[49m\u001B[43m)\u001B[49m\n",
      "File \u001B[0;32m~/Documents/ToMCAT/tomcat-data-draft/code/physio/combine_participants_physio.py:71\u001B[0m, in \u001B[0;36mcombine_participants_physio\u001B[0;34m(physio_df, start_time, end_time, frequency)\u001B[0m\n\u001B[1;32m     67\u001B[0m combined_df \u001B[38;5;241m=\u001B[39m \u001B[38;5;28;01mNone\u001B[39;00m\n\u001B[1;32m     69\u001B[0m \u001B[38;5;28;01mfor\u001B[39;00m participant_id, df \u001B[38;5;129;01min\u001B[39;00m physio_df\u001B[38;5;241m.\u001B[39mitems():\n\u001B[1;32m     70\u001B[0m     \u001B[38;5;66;03m# Sync the dataframe to the shared time series\u001B[39;00m\n\u001B[0;32m---> 71\u001B[0m     synced_df \u001B[38;5;241m=\u001B[39m \u001B[43m_sync_data_to_time_series\u001B[49m\u001B[43m(\u001B[49m\u001B[43mdf\u001B[49m\u001B[43m,\u001B[49m\u001B[43m \u001B[49m\u001B[43mtime_series\u001B[49m\u001B[43m)\u001B[49m\n\u001B[1;32m     73\u001B[0m     \u001B[38;5;66;03m# Prefix the column names with the participant id\u001B[39;00m\n\u001B[1;32m     74\u001B[0m     synced_df\u001B[38;5;241m.\u001B[39mcolumns \u001B[38;5;241m=\u001B[39m [\u001B[38;5;124mf\u001B[39m\u001B[38;5;124m'\u001B[39m\u001B[38;5;132;01m{\u001B[39;00mparticipant_id\u001B[38;5;132;01m}\u001B[39;00m\u001B[38;5;124m_\u001B[39m\u001B[38;5;132;01m{\u001B[39;00mcol\u001B[38;5;132;01m}\u001B[39;00m\u001B[38;5;124m'\u001B[39m \u001B[38;5;28;01mfor\u001B[39;00m col \u001B[38;5;129;01min\u001B[39;00m synced_df\u001B[38;5;241m.\u001B[39mcolumns]\n",
      "File \u001B[0;32m~/Documents/ToMCAT/tomcat-data-draft/code/physio/combine_participants_physio.py:37\u001B[0m, in \u001B[0;36m_sync_data_to_time_series\u001B[0;34m(df, time_series)\u001B[0m\n\u001B[1;32m     35\u001B[0m end_value \u001B[38;5;241m=\u001B[39m after_target_row[column]\n\u001B[1;32m     36\u001B[0m start_time \u001B[38;5;241m=\u001B[39m before_target_row[\u001B[38;5;124m'\u001B[39m\u001B[38;5;124munix_time\u001B[39m\u001B[38;5;124m'\u001B[39m]\n\u001B[0;32m---> 37\u001B[0m end_time \u001B[38;5;241m=\u001B[39m \u001B[43mafter_target_row\u001B[49m\u001B[43m[\u001B[49m\u001B[38;5;124;43m'\u001B[39;49m\u001B[38;5;124;43munix_time\u001B[39;49m\u001B[38;5;124;43m'\u001B[39;49m\u001B[43m]\u001B[49m\n\u001B[1;32m     39\u001B[0m interpolated_value \u001B[38;5;241m=\u001B[39m linear_interpolation(\n\u001B[1;32m     40\u001B[0m     start_time, end_time, target_time, start_value, end_value)\n\u001B[1;32m     42\u001B[0m synced_df\u001B[38;5;241m.\u001B[39mloc[target_time, column] \u001B[38;5;241m=\u001B[39m interpolated_value\n",
      "File \u001B[0;32m~/miniforge3/envs/tomcat-data-draft/lib/python3.11/site-packages/pandas/core/series.py:992\u001B[0m, in \u001B[0;36mSeries.__getitem__\u001B[0;34m(self, key)\u001B[0m\n\u001B[1;32m    987\u001B[0m \u001B[38;5;28;01mdef\u001B[39;00m \u001B[38;5;21m_slice\u001B[39m(\u001B[38;5;28mself\u001B[39m, slobj: \u001B[38;5;28mslice\u001B[39m \u001B[38;5;241m|\u001B[39m np\u001B[38;5;241m.\u001B[39mndarray, axis: Axis \u001B[38;5;241m=\u001B[39m \u001B[38;5;241m0\u001B[39m) \u001B[38;5;241m-\u001B[39m\u001B[38;5;241m>\u001B[39m Series:\n\u001B[1;32m    988\u001B[0m     \u001B[38;5;66;03m# axis kwarg is retained for compat with NDFrame method\u001B[39;00m\n\u001B[1;32m    989\u001B[0m     \u001B[38;5;66;03m#  _slice is *always* positional\u001B[39;00m\n\u001B[1;32m    990\u001B[0m     \u001B[38;5;28;01mreturn\u001B[39;00m \u001B[38;5;28mself\u001B[39m\u001B[38;5;241m.\u001B[39m_get_values(slobj)\n\u001B[0;32m--> 992\u001B[0m \u001B[38;5;28;01mdef\u001B[39;00m \u001B[38;5;21m__getitem__\u001B[39m(\u001B[38;5;28mself\u001B[39m, key):\n\u001B[1;32m    993\u001B[0m     check_dict_or_set_indexers(key)\n\u001B[1;32m    994\u001B[0m     key \u001B[38;5;241m=\u001B[39m com\u001B[38;5;241m.\u001B[39mapply_if_callable(key, \u001B[38;5;28mself\u001B[39m)\n",
      "\u001B[0;31mKeyboardInterrupt\u001B[0m: "
     ]
    }
   ],
   "source": [
    "process_experiment(\n",
    "    path_to_task,\n",
    "    path_to_physio,\n",
    "    path_to_experiment_info,\n",
    "    physio_type,\n",
    "    experiments,\n",
    "    output_path,\n",
    "    frequency\n",
    ")"
   ],
   "metadata": {
    "collapsed": false,
    "ExecuteTime": {
     "end_time": "2023-06-04T00:30:27.070617Z",
     "start_time": "2023-06-04T00:19:14.103734Z"
    }
   }
  },
  {
   "cell_type": "code",
   "execution_count": null,
   "outputs": [],
   "source": [],
   "metadata": {
    "collapsed": false
   }
  }
 ],
 "metadata": {
  "kernelspec": {
   "display_name": "Python 3",
   "language": "python",
   "name": "python3"
  },
  "language_info": {
   "codemirror_mode": {
    "name": "ipython",
    "version": 2
   },
   "file_extension": ".py",
   "mimetype": "text/x-python",
   "name": "python",
   "nbconvert_exporter": "python",
   "pygments_lexer": "ipython2",
   "version": "2.7.6"
  }
 },
 "nbformat": 4,
 "nbformat_minor": 0
}
