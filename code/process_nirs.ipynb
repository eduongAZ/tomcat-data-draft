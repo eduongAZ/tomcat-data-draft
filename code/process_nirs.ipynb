{
 "cells": [
  {
   "cell_type": "code",
   "execution_count": 1,
   "metadata": {
    "collapsed": true,
    "ExecuteTime": {
     "end_time": "2023-06-02T19:05:11.825204Z",
     "start_time": "2023-06-02T19:05:11.633598Z"
    }
   },
   "outputs": [],
   "source": [
    "from pipeline import process_experiment"
   ]
  },
  {
   "cell_type": "code",
   "execution_count": 2,
   "outputs": [],
   "source": [
    "path_to_task = '/Users/ericduong/Documents/ToMCAT/tomcat-data-draft/data/raw/tasks'\n",
    "path_to_physio = '/Users/ericduong/Documents/ToMCAT/tomcat-data-draft/data/separated/physio_data'\n",
    "path_to_experiment_info = '/Users/ericduong/Documents/ToMCAT/tomcat-data-draft/data/organized/info'\n",
    "physio_type = 'nirs'\n",
    "output_path = '/Users/ericduong/Documents/ToMCAT/tomcat-data-draft/data/processed'\n",
    "\n",
    "experiments = [\n",
    "    \"exp_2022_10_14_10\",\n",
    "    \"exp_2022_10_18_10\"\n",
    "]"
   ],
   "metadata": {
    "collapsed": false,
    "ExecuteTime": {
     "end_time": "2023-06-02T19:05:11.827661Z",
     "start_time": "2023-06-02T19:05:11.826039Z"
    }
   }
  },
  {
   "cell_type": "code",
   "execution_count": 3,
   "outputs": [],
   "source": [
    "process_experiment(\n",
    "    path_to_task,\n",
    "    path_to_physio,\n",
    "    path_to_experiment_info,\n",
    "    physio_type,\n",
    "    experiments,\n",
    "    output_path\n",
    ")"
   ],
   "metadata": {
    "collapsed": false,
    "ExecuteTime": {
     "end_time": "2023-06-02T19:08:27.477255Z",
     "start_time": "2023-06-02T19:05:11.828202Z"
    }
   }
  },
  {
   "cell_type": "code",
   "execution_count": 3,
   "outputs": [],
   "source": [],
   "metadata": {
    "collapsed": false,
    "ExecuteTime": {
     "end_time": "2023-06-02T19:08:27.479429Z",
     "start_time": "2023-06-02T19:08:27.477486Z"
    }
   }
  }
 ],
 "metadata": {
  "kernelspec": {
   "display_name": "Python 3",
   "language": "python",
   "name": "python3"
  },
  "language_info": {
   "codemirror_mode": {
    "name": "ipython",
    "version": 2
   },
   "file_extension": ".py",
   "mimetype": "text/x-python",
   "name": "python",
   "nbconvert_exporter": "python",
   "pygments_lexer": "ipython2",
   "version": "2.7.6"
  }
 },
 "nbformat": 4,
 "nbformat_minor": 0
}
