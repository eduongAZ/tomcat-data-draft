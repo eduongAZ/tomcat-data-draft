{
 "cells": [
  {
   "cell_type": "code",
   "execution_count": 1,
   "metadata": {
    "collapsed": true,
    "ExecuteTime": {
     "end_time": "2023-06-02T17:45:11.813557Z",
     "start_time": "2023-06-02T17:45:11.629530Z"
    }
   },
   "outputs": [],
   "source": [
    "from pipeline import process_experiment"
   ]
  },
  {
   "cell_type": "code",
   "execution_count": 2,
   "outputs": [],
   "source": [
    "path_to_task = '/Users/ericduong/Documents/ToMCAT/tomcat-data-draft/data/raw/tasks'\n",
    "path_to_physio = '/Users/ericduong/Documents/ToMCAT/tomcat-data-draft/data/separated/physio_data'\n",
    "path_to_experiment_info = '/Users/ericduong/Documents/ToMCAT/tomcat-data-draft/data/organized/info'\n",
    "physio_type = 'nirs'\n",
    "output_path = '/Users/ericduong/Documents/ToMCAT/tomcat-data-draft/data/processed'\n",
    "\n",
    "experiments = [\n",
    "    \"exp_2022_10_18_10\"\n",
    "]"
   ],
   "metadata": {
    "collapsed": false,
    "ExecuteTime": {
     "end_time": "2023-06-02T17:45:11.816213Z",
     "start_time": "2023-06-02T17:45:11.814518Z"
    }
   }
  },
  {
   "cell_type": "code",
   "execution_count": 3,
   "outputs": [
    {
     "name": "stdout",
     "output_type": "stream",
     "text": [
      "[Processing] exp_2022_10_18_10\n",
      "Rest state\n",
      "Finger tapping\n",
      "Affective task individual:\n",
      "\tAffective task individual lion\n",
      "\tAffective task individual tiger\n",
      "\tAffective task individual leopard\n",
      "Affective task team\n",
      "Ping pong competitive:\n",
      "\tPing pong competitive 0\n",
      "Cannot find /Users/ericduong/Documents/ToMCAT/tomcat-data-draft/data/separated/physio_data/exp_2022_10_18_10/lion_nirs_ping_pong_competetive_0.csv\n",
      "Cannot find /Users/ericduong/Documents/ToMCAT/tomcat-data-draft/data/separated/physio_data/exp_2022_10_18_10/tiger_nirs_ping_pong_competetive_0.csv\n",
      "No physio data found for 0\n",
      "\tPing pong competitive 1\n",
      "Cannot find /Users/ericduong/Documents/ToMCAT/tomcat-data-draft/data/separated/physio_data/exp_2022_10_18_10/lion_nirs_ping_pong_competetive_0.csv\n",
      "Cannot find /Users/ericduong/Documents/ToMCAT/tomcat-data-draft/data/separated/physio_data/exp_2022_10_18_10/tiger_nirs_ping_pong_competetive_0.csv\n",
      "No physio data found for 0\n",
      "Ping pong cooperative\n",
      "Minecraft:\n",
      "\tMinecraft saturn_b\n",
      "\tMinecraft saturn_a\n"
     ]
    }
   ],
   "source": [
    "process_experiment(\n",
    "    path_to_task,\n",
    "    path_to_physio,\n",
    "    path_to_experiment_info,\n",
    "    physio_type,\n",
    "    experiments,\n",
    "    output_path\n",
    ")"
   ],
   "metadata": {
    "collapsed": false,
    "ExecuteTime": {
     "end_time": "2023-06-02T17:45:59.862623Z",
     "start_time": "2023-06-02T17:45:11.816895Z"
    }
   }
  },
  {
   "cell_type": "code",
   "execution_count": 3,
   "outputs": [],
   "source": [],
   "metadata": {
    "collapsed": false,
    "ExecuteTime": {
     "end_time": "2023-06-02T17:45:59.864193Z",
     "start_time": "2023-06-02T17:45:59.862874Z"
    }
   }
  }
 ],
 "metadata": {
  "kernelspec": {
   "display_name": "Python 3",
   "language": "python",
   "name": "python3"
  },
  "language_info": {
   "codemirror_mode": {
    "name": "ipython",
    "version": 2
   },
   "file_extension": ".py",
   "mimetype": "text/x-python",
   "name": "python",
   "nbconvert_exporter": "python",
   "pygments_lexer": "ipython2",
   "version": "2.7.6"
  }
 },
 "nbformat": 4,
 "nbformat_minor": 0
}
