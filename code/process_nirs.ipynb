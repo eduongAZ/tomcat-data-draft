{
 "cells": [
  {
   "cell_type": "code",
   "execution_count": 1,
   "metadata": {
    "collapsed": true,
    "ExecuteTime": {
     "end_time": "2023-06-04T18:09:05.617651Z",
     "start_time": "2023-06-04T18:09:05.422899Z"
    }
   },
   "outputs": [],
   "source": [
    "from pipeline import process_experiment"
   ]
  },
  {
   "cell_type": "code",
   "execution_count": 2,
   "outputs": [],
   "source": [
    "path_to_task = '/Users/ericduong/Documents/ToMCAT/tomcat-data-draft/data/raw/tasks'\n",
    "path_to_physio = '/Users/ericduong/Documents/ToMCAT/tomcat-data-draft/data/separated/physio_data'\n",
    "path_to_experiment_info = '/Users/ericduong/Documents/ToMCAT/tomcat-data-draft/data/organized/info'\n",
    "physio_type = 'nirs'\n",
    "output_path = '/Users/ericduong/Documents/ToMCAT/tomcat-data-draft/data/processed/nirs'\n",
    "frequency = 20.0\n",
    "\n",
    "experiments = [\n",
    "    \"exp_2022_09_30_10\", # Does not have physio data for minecraft\n",
    "    \"exp_2022_10_04_09\",\n",
    "    \"exp_2022_10_07_15\",\n",
    "    \"exp_2022_10_14_10\",\n",
    "    \"exp_2022_10_18_10\",\n",
    "    \"exp_2022_10_21_15\",\n",
    "    \"exp_2022_10_24_12\", # Baseline task 00027, but Rick's sheet says 99999 EA\n",
    "    \"exp_2022_10_27_10\", # Baseline task 00065, but Rick's sheet says 99999 ED\n",
    "    \"exp_2022_10_28_10\", # Baseline task 00056, but Rick's sheet says 99999 ED\n",
    "    \"exp_2022_10_31_10\", # Baseline task 00062, but Rick's sheet says 99999 VS\n",
    "    \"exp_2022_11_01_10\",\n",
    "    \"exp_2022_11_04_10\",\n",
    "    \"exp_2022_11_07_10\",\n",
    "    \"exp_2022_11_08_11\",\n",
    "    \"exp_2022_11_10_10\",\n",
    "    \"exp_2022_11_14_12\",\n",
    "    \"exp_2022_11_15_13\",\n",
    "    \"exp_2022_11_17_15\",\n",
    "    \"exp_2022_11_18_10\",\n",
    "    \"exp_2022_11_22_10\",\n",
    "    \"exp_2022_12_02_15\",\n",
    "    \"exp_2022_12_05_12\",\n",
    "    \"exp_2023_01_30_13\",\n",
    "    \"exp_2023_01_31_14\", # Adarsh said skip because Minecraft problematic\n",
    "    \"exp_2023_02_03_10\", # Program crashed\n",
    "    \"exp_2023_02_06_13\",\n",
    "    \"exp_2023_02_07_14\",\n",
    "    \"exp_2023_02_10_10\", # Does not have minecraft message mission start/stop\n",
    "    \"exp_2023_02_16_14\",\n",
    "    \"exp_2023_02_20_01\",\n",
    "    \"exp_2023_02_21_14\"\n",
    "]"
   ],
   "metadata": {
    "collapsed": false,
    "ExecuteTime": {
     "end_time": "2023-06-04T18:09:05.620661Z",
     "start_time": "2023-06-04T18:09:05.619408Z"
    }
   }
  },
  {
   "cell_type": "code",
   "execution_count": 3,
   "outputs": [
    {
     "name": "stderr",
     "output_type": "stream",
     "text": [
      " 68%|██████▊   | 21/31 [00:44<00:25,  2.59s/it]Process Process-148:\n",
      "Traceback (most recent call last):\n",
      "  File \"/Users/ericduong/miniforge3/envs/tomcat-data-draft/lib/python3.11/multiprocessing/process.py\", line 314, in _bootstrap\n",
      "    self.run()\n",
      "  File \"/Users/ericduong/miniforge3/envs/tomcat-data-draft/lib/python3.11/multiprocessing/process.py\", line 108, in run\n",
      "    self._target(*self._args, **self._kwargs)\n",
      "  File \"/Users/ericduong/Documents/ToMCAT/tomcat-data-draft/code/pipeline/process_experiment.py\", line 37, in _process_rest_state\n",
      "    rest_state = RestState.from_files(\n",
      "                 ^^^^^^^^^^^^^^^^^^^^^\n",
      "  File \"/Users/ericduong/Documents/ToMCAT/tomcat-data-draft/code/tasks/rest_state.py\", line 55, in from_files\n",
      "    rest_state_task_df = read_csv_file(rest_state_csv_path, delimiter=';')\n",
      "                         ^^^^^^^^^^^^^^^^^^^^^^^^^^^^^^^^^^^^^^^^^^^^^^^^^\n",
      "  File \"/Users/ericduong/Documents/ToMCAT/tomcat-data-draft/code/utils/read_file/read_csv_file.py\", line 11, in read_csv_file\n",
      "    df = pd.read_csv(csv_file_path, delimiter=delimiter)\n",
      "         ^^^^^^^^^^^^^^^^^^^^^^^^^^^^^^^^^^^^^^^^^^^^^^^\n",
      "  File \"/Users/ericduong/miniforge3/envs/tomcat-data-draft/lib/python3.11/site-packages/pandas/io/parsers/readers.py\", line 912, in read_csv\n",
      "    return _read(filepath_or_buffer, kwds)\n",
      "           ^^^^^^^^^^^^^^^^^^^^^^^^^^^^^^^\n",
      "  File \"/Users/ericduong/miniforge3/envs/tomcat-data-draft/lib/python3.11/site-packages/pandas/io/parsers/readers.py\", line 577, in _read\n",
      "    parser = TextFileReader(filepath_or_buffer, **kwds)\n",
      "             ^^^^^^^^^^^^^^^^^^^^^^^^^^^^^^^^^^^^^^^^^^\n",
      "  File \"/Users/ericduong/miniforge3/envs/tomcat-data-draft/lib/python3.11/site-packages/pandas/io/parsers/readers.py\", line 1407, in __init__\n",
      "    self._engine = self._make_engine(f, self.engine)\n",
      "                   ^^^^^^^^^^^^^^^^^^^^^^^^^^^^^^^^^\n",
      "  File \"/Users/ericduong/miniforge3/envs/tomcat-data-draft/lib/python3.11/site-packages/pandas/io/parsers/readers.py\", line 1679, in _make_engine\n",
      "    return mapping[engine](f, **self.options)\n",
      "           ^^^^^^^^^^^^^^^^^^^^^^^^^^^^^^^^^^\n",
      "  File \"/Users/ericduong/miniforge3/envs/tomcat-data-draft/lib/python3.11/site-packages/pandas/io/parsers/c_parser_wrapper.py\", line 93, in __init__\n",
      "    self._reader = parsers.TextReader(src, **kwds)\n",
      "                   ^^^^^^^^^^^^^^^^^^^^^^^^^^^^^^^\n",
      "  File \"pandas/_libs/parsers.pyx\", line 555, in pandas._libs.parsers.TextReader.__cinit__\n",
      "pandas.errors.EmptyDataError: No columns to parse from file\n",
      " 87%|████████▋ | 27/31 [00:55<00:08,  2.17s/it]Process Process-196:1:\n",
      "Traceback (most recent call last):\n",
      "  File \"/Users/ericduong/miniforge3/envs/tomcat-data-draft/lib/python3.11/multiprocessing/process.py\", line 314, in _bootstrap\n",
      "    self.run()\n",
      "  File \"/Users/ericduong/miniforge3/envs/tomcat-data-draft/lib/python3.11/multiprocessing/process.py\", line 108, in run\n",
      "    self._target(*self._args, **self._kwargs)\n",
      "  File \"/Users/ericduong/Documents/ToMCAT/tomcat-data-draft/code/pipeline/process_experiment.py\", line 317, in __process_minecraft_per_trial\n",
      "    minecraft = Minecraft.from_files(\n",
      "                ^^^^^^^^^^^^^^^^^^^^^\n",
      "  File \"/Users/ericduong/Documents/ToMCAT/tomcat-data-draft/code/tasks/minecraft.py\", line 119, in from_files\n",
      "    raise ValueError(\"No task data found in metadata file\")\n",
      "ValueError: No task data found in metadata file\n",
      "100%|██████████| 31/31 [01:03<00:00,  2.04s/it]\n"
     ]
    }
   ],
   "source": [
    "process_experiment(\n",
    "    path_to_task,\n",
    "    path_to_physio,\n",
    "    path_to_experiment_info,\n",
    "    physio_type,\n",
    "    experiments,\n",
    "    output_path,\n",
    "    frequency\n",
    ")"
   ],
   "metadata": {
    "collapsed": false,
    "ExecuteTime": {
     "end_time": "2023-06-04T18:10:08.947172Z",
     "start_time": "2023-06-04T18:09:05.620805Z"
    }
   }
  },
  {
   "cell_type": "code",
   "execution_count": 3,
   "outputs": [],
   "source": [],
   "metadata": {
    "collapsed": false,
    "ExecuteTime": {
     "end_time": "2023-06-04T18:10:08.952039Z",
     "start_time": "2023-06-04T18:10:08.947740Z"
    }
   }
  }
 ],
 "metadata": {
  "kernelspec": {
   "display_name": "Python 3",
   "language": "python",
   "name": "python3"
  },
  "language_info": {
   "codemirror_mode": {
    "name": "ipython",
    "version": 2
   },
   "file_extension": ".py",
   "mimetype": "text/x-python",
   "name": "python",
   "nbconvert_exporter": "python",
   "pygments_lexer": "ipython2",
   "version": "2.7.6"
  }
 },
 "nbformat": 4,
 "nbformat_minor": 0
}
