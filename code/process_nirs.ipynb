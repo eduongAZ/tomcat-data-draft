{
 "cells": [
  {
   "cell_type": "code",
   "execution_count": 1,
   "metadata": {
    "collapsed": true,
    "ExecuteTime": {
     "end_time": "2023-06-04T01:34:34.905528Z",
     "start_time": "2023-06-04T01:34:34.716471Z"
    }
   },
   "outputs": [],
   "source": [
    "from pipeline import process_experiment"
   ]
  },
  {
   "cell_type": "code",
   "execution_count": 2,
   "outputs": [],
   "source": [
    "path_to_task = '/Users/ericduong/Documents/ToMCAT/tomcat-data-draft/data/raw/tasks'\n",
    "path_to_physio = '/Users/ericduong/Documents/ToMCAT/tomcat-data-draft/data/separated/physio_data'\n",
    "path_to_experiment_info = '/Users/ericduong/Documents/ToMCAT/tomcat-data-draft/data/organized/info'\n",
    "physio_type = 'nirs'\n",
    "output_path = '/Users/ericduong/Documents/ToMCAT/tomcat-data-draft/data/processed'\n",
    "frequency = 20.0\n",
    "\n",
    "experiments = [\n",
    "    \"exp_2022_09_30_10\", # Does not have physio data for minecraft\n",
    "    \"exp_2022_10_04_09\",\n",
    "    \"exp_2022_10_07_15\",\n",
    "    \"exp_2022_10_14_10\",\n",
    "    \"exp_2022_10_18_10\",\n",
    "    # \"exp_2022_10_21_15\",\n",
    "    # \"exp_2022_10_24_12\", # Baseline task 00027, but Rick's sheet says 99999 EA\n",
    "    # \"exp_2022_10_27_10\", # Baseline task 00065, but Rick's sheet says 99999 ED\n",
    "    # \"exp_2022_10_28_10\", # Baseline task 00056, but Rick's sheet says 99999 ED\n",
    "    # \"exp_2022_10_31_10\", # Baseline task 00062, but Rick's sheet says 99999 VS\n",
    "    # \"exp_2022_11_01_10\",\n",
    "    # \"exp_2022_11_04_10\",\n",
    "    # \"exp_2022_11_07_10\",\n",
    "    # \"exp_2022_11_08_11\",\n",
    "    # \"exp_2022_11_10_10\",\n",
    "    # \"exp_2022_11_14_12\",\n",
    "    # \"exp_2022_11_15_13\",\n",
    "    # \"exp_2022_11_17_15\",\n",
    "    # \"exp_2022_11_18_10\",\n",
    "    # \"exp_2022_11_22_10\",\n",
    "    # \"exp_2022_12_02_15\",\n",
    "    # \"exp_2022_12_05_12\",\n",
    "    # \"exp_2023_01_30_13\",\n",
    "    # \"exp_2023_01_31_14\",\n",
    "    # \"exp_2023_02_03_10\",\n",
    "    # \"exp_2023_02_06_13\",\n",
    "    # \"exp_2023_02_07_14\",\n",
    "    # \"exp_2023_02_10_10\",\n",
    "    # \"exp_2023_02_16_14\",\n",
    "    # \"exp_2023_02_20_01\",\n",
    "    # \"exp_2023_02_21_14\"\n",
    "]"
   ],
   "metadata": {
    "collapsed": false,
    "ExecuteTime": {
     "end_time": "2023-06-04T01:34:34.908753Z",
     "start_time": "2023-06-04T01:34:34.906862Z"
    }
   }
  },
  {
   "cell_type": "code",
   "execution_count": 3,
   "outputs": [
    {
     "name": "stderr",
     "output_type": "stream",
     "text": [
      "100%|██████████| 5/5 [05:33<00:00, 66.64s/it]\n"
     ]
    }
   ],
   "source": [
    "process_experiment(\n",
    "    path_to_task,\n",
    "    path_to_physio,\n",
    "    path_to_experiment_info,\n",
    "    physio_type,\n",
    "    experiments,\n",
    "    output_path,\n",
    "    frequency\n",
    ")"
   ],
   "metadata": {
    "collapsed": false,
    "ExecuteTime": {
     "end_time": "2023-06-04T01:40:08.105252Z",
     "start_time": "2023-06-04T01:34:34.909369Z"
    }
   }
  },
  {
   "cell_type": "code",
   "execution_count": 3,
   "outputs": [],
   "source": [],
   "metadata": {
    "collapsed": false,
    "ExecuteTime": {
     "end_time": "2023-06-04T01:40:08.107879Z",
     "start_time": "2023-06-04T01:40:08.105500Z"
    }
   }
  }
 ],
 "metadata": {
  "kernelspec": {
   "display_name": "Python 3",
   "language": "python",
   "name": "python3"
  },
  "language_info": {
   "codemirror_mode": {
    "name": "ipython",
    "version": 2
   },
   "file_extension": ".py",
   "mimetype": "text/x-python",
   "name": "python",
   "nbconvert_exporter": "python",
   "pygments_lexer": "ipython2",
   "version": "2.7.6"
  }
 },
 "nbformat": 4,
 "nbformat_minor": 0
}
