{
 "cells": [
  {
   "cell_type": "code",
   "execution_count": 4,
   "metadata": {
    "collapsed": true,
    "ExecuteTime": {
     "end_time": "2023-06-03T04:16:45.308798Z",
     "start_time": "2023-06-03T04:16:45.303048Z"
    }
   },
   "outputs": [],
   "source": [
    "import pandas as pd\n",
    "import json"
   ]
  },
  {
   "cell_type": "code",
   "execution_count": 5,
   "outputs": [],
   "source": [
    "path_to_file = \"/Users/ericduong/Documents/ToMCAT/tomcat-data-draft/data/others/group_session.csv\"\n",
    "output_dir = \"/Users/ericduong/Documents/ToMCAT/tomcat-data-draft/data/organized/info\""
   ],
   "metadata": {
    "collapsed": false,
    "ExecuteTime": {
     "end_time": "2023-06-03T04:16:46.531077Z",
     "start_time": "2023-06-03T04:16:46.527484Z"
    }
   }
  },
  {
   "cell_type": "code",
   "execution_count": 3,
   "outputs": [
    {
     "data": {
      "text/plain": "                  id lion_participant_id tiger_participant_id   \n0  exp_2022_09_30_10               00012                00013  \\\n1  exp_2022_10_04_09               00011                00018   \n2  exp_2022_10_07_15               00032                00033   \n3  exp_2022_10_14_10               00039                00041   \n4  exp_2022_10_18_10               00029                00046   \n\n  leopard_participant_id  \n0                  00019  \n1                  00020  \n2                  00034  \n3                  00044  \n4                  00047  ",
      "text/html": "<div>\n<style scoped>\n    .dataframe tbody tr th:only-of-type {\n        vertical-align: middle;\n    }\n\n    .dataframe tbody tr th {\n        vertical-align: top;\n    }\n\n    .dataframe thead th {\n        text-align: right;\n    }\n</style>\n<table border=\"1\" class=\"dataframe\">\n  <thead>\n    <tr style=\"text-align: right;\">\n      <th></th>\n      <th>id</th>\n      <th>lion_participant_id</th>\n      <th>tiger_participant_id</th>\n      <th>leopard_participant_id</th>\n    </tr>\n  </thead>\n  <tbody>\n    <tr>\n      <th>0</th>\n      <td>exp_2022_09_30_10</td>\n      <td>00012</td>\n      <td>00013</td>\n      <td>00019</td>\n    </tr>\n    <tr>\n      <th>1</th>\n      <td>exp_2022_10_04_09</td>\n      <td>00011</td>\n      <td>00018</td>\n      <td>00020</td>\n    </tr>\n    <tr>\n      <th>2</th>\n      <td>exp_2022_10_07_15</td>\n      <td>00032</td>\n      <td>00033</td>\n      <td>00034</td>\n    </tr>\n    <tr>\n      <th>3</th>\n      <td>exp_2022_10_14_10</td>\n      <td>00039</td>\n      <td>00041</td>\n      <td>00044</td>\n    </tr>\n    <tr>\n      <th>4</th>\n      <td>exp_2022_10_18_10</td>\n      <td>00029</td>\n      <td>00046</td>\n      <td>00047</td>\n    </tr>\n  </tbody>\n</table>\n</div>"
     },
     "execution_count": 3,
     "metadata": {},
     "output_type": "execute_result"
    }
   ],
   "source": [
    "df = pd.read_csv(path_to_file); df.head()"
   ],
   "metadata": {
    "collapsed": false,
    "ExecuteTime": {
     "end_time": "2023-06-03T04:10:32.771139Z",
     "start_time": "2023-06-03T04:10:32.759522Z"
    }
   }
  },
  {
   "cell_type": "code",
   "execution_count": 6,
   "outputs": [],
   "source": [
    "for _, row in df.iterrows():\n",
    "    experiment_id = row[\"id\"]\n",
    "    data = {\n",
    "        \"experiment\": row[\"id\"],\n",
    "        \"participant_ids\": {\n",
    "            \"lion\": row[\"lion_participant_id\"],\n",
    "            \"tiger\": row[\"tiger_participant_id\"],\n",
    "            \"leopard\": row[\"leopard_participant_id\"]\n",
    "        }\n",
    "    }\n",
    "\n",
    "    # write to json file\n",
    "    with open(f'{output_dir}/{experiment_id}_info.json', 'w') as f:\n",
    "        json.dump(data, f, indent=4)"
   ],
   "metadata": {
    "collapsed": false,
    "ExecuteTime": {
     "end_time": "2023-06-03T04:16:54.295670Z",
     "start_time": "2023-06-03T04:16:54.278024Z"
    }
   }
  },
  {
   "cell_type": "code",
   "execution_count": null,
   "outputs": [],
   "source": [],
   "metadata": {
    "collapsed": false
   }
  }
 ],
 "metadata": {
  "kernelspec": {
   "display_name": "Python 3",
   "language": "python",
   "name": "python3"
  },
  "language_info": {
   "codemirror_mode": {
    "name": "ipython",
    "version": 2
   },
   "file_extension": ".py",
   "mimetype": "text/x-python",
   "name": "python",
   "nbconvert_exporter": "python",
   "pygments_lexer": "ipython2",
   "version": "2.7.6"
  }
 },
 "nbformat": 4,
 "nbformat_minor": 0
}
