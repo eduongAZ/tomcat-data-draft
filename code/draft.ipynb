{
 "cells": [
  {
   "cell_type": "code",
   "execution_count": 3,
   "outputs": [
    {
     "name": "stdout",
     "output_type": "stream",
     "text": [
      "2022-10-14T18:24:31.564909+00:00\n"
     ]
    }
   ],
   "source": [
    "from datetime import datetime, timezone\n",
    "\n",
    "# Your unix timestamp\n",
    "unix_timestamp = 1665771871.564909\n",
    "\n",
    "# Convert to datetime object\n",
    "utc_time = datetime.fromtimestamp(unix_timestamp, tz=timezone.utc)\n",
    "\n",
    "# Convert to ISO format\n",
    "iso_time = utc_time.isoformat()\n",
    "\n",
    "print(iso_time)"
   ],
   "metadata": {
    "collapsed": false,
    "ExecuteTime": {
     "end_time": "2023-06-04T21:11:04.525743Z",
     "start_time": "2023-06-04T21:11:04.522810Z"
    }
   }
  }
 ],
 "metadata": {
  "kernelspec": {
   "display_name": "Python 3",
   "language": "python",
   "name": "python3"
  },
  "language_info": {
   "codemirror_mode": {
    "name": "ipython",
    "version": 2
   },
   "file_extension": ".py",
   "mimetype": "text/x-python",
   "name": "python",
   "nbconvert_exporter": "python",
   "pygments_lexer": "ipython2",
   "version": "2.7.6"
  }
 },
 "nbformat": 4,
 "nbformat_minor": 0
}
