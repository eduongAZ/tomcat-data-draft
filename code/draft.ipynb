{
 "cells": [
  {
   "cell_type": "code",
   "execution_count": 1,
   "outputs": [],
   "source": [
    "import os\n",
    "\n",
    "from common import ReportWriter\n",
    "from interpolation import linear_interpolation\n",
    "from prepare import prepare_task_data"
   ],
   "metadata": {
    "collapsed": false,
    "ExecuteTime": {
     "end_time": "2023-06-11T00:47:11.120461616Z",
     "start_time": "2023-06-11T00:47:11.119781547Z"
    }
   }
  },
  {
   "cell_type": "markdown",
   "source": [
    "# Set up input"
   ],
   "metadata": {
    "collapsed": false
   }
  },
  {
   "cell_type": "code",
   "execution_count": 2,
   "outputs": [],
   "source": [
    "task_data_path = '/home/eric/Documents/projects/tomcat-data-draft/data/raw/tasks'\n",
    "physio_data_path = '/home/eric/Documents/projects/tomcat-data-draft/data/raw/physio'\n",
    "experiment_info_path = '/home/eric/Documents/projects/tomcat-data-draft/data/raw/info'\n",
    "output_dir = '/home/eric/Documents/projects/tomcat-data-draft/data/derived'\n",
    "synchronization_frequency = 20.0\n",
    "report_writer = ReportWriter(os.path.join(output_dir, 'report'))\n",
    "physio_type_data = {\n",
    "    \"nirs\": {\n",
    "        \"interpolation_type\": linear_interpolation\n",
    "    }\n",
    "}\n",
    "\n",
    "experiments = [\n",
    "    # \"exp_2022_09_30_10\",  # Does not have physio data for minecraft\n",
    "    # \"exp_2022_10_04_09\",\n",
    "    # \"exp_2022_10_07_15\",\n",
    "    \"exp_2022_10_14_10\",\n",
    "    \"exp_2022_10_18_10\",\n",
    "    # \"exp_2022_10_21_15\",\n",
    "    # \"exp_2022_10_24_12\",  # Baseline task 00027, but Rick's sheet says 99999 EA\n",
    "    # \"exp_2022_10_27_10\",  # Baseline task 00065, but Rick's sheet says 99999 ED\n",
    "    # \"exp_2022_10_28_10\",  # Baseline task 00056, but Rick's sheet says 99999 ED\n",
    "    # \"exp_2022_10_31_10\",  # Baseline task 00062, but Rick's sheet says 99999 VS\n",
    "    # \"exp_2022_11_01_10\",\n",
    "    # \"exp_2022_11_04_10\",\n",
    "    # \"exp_2022_11_07_10\",\n",
    "    # \"exp_2022_11_08_11\",\n",
    "    # \"exp_2022_11_10_10\",\n",
    "    # \"exp_2022_11_14_12\",\n",
    "    # \"exp_2022_11_15_13\",\n",
    "    # \"exp_2022_11_17_15\",\n",
    "    # \"exp_2022_11_18_10\",\n",
    "    # \"exp_2022_11_22_10\",\n",
    "    # \"exp_2022_12_02_15\",\n",
    "    # \"exp_2022_12_05_12\", # DO NOT INCLUDE, Program crashed\n",
    "    # \"exp_2023_01_30_13\",\n",
    "    # \"exp_2023_01_31_14\", # DO NOT INCLUDE, Adarsh said skip because Minecraft problematic\n",
    "    # \"exp_2023_02_03_10\",\n",
    "    # \"exp_2023_02_06_13\",\n",
    "    # \"exp_2023_02_07_14\",\n",
    "    # \"exp_2023_02_10_10\", # DO NOT INCLUDE, Does not have minecraft message mission start/stop\n",
    "    # \"exp_2023_02_16_14\",\n",
    "    # \"exp_2023_02_20_01\",\n",
    "    # \"exp_2023_02_21_14\",\n",
    "    # \"exp_2023_04_17_13\",\n",
    "    # \"exp_2023_04_18_14\",\n",
    "    # \"exp_2023_04_21_10\",\n",
    "    # \"exp_2023_04_24_13\",\n",
    "    # \"exp_2023_04_27_14\",\n",
    "    # \"exp_2023_04_28_10\",\n",
    "    # \"exp_2023_05_01_13\", # DO NOT INCLUDE, skip because Minecraft problematic\n",
    "    # \"exp_2023_05_02_14\",\n",
    "    # \"exp_2023_05_03_10\"\n",
    "]"
   ],
   "metadata": {
    "collapsed": false,
    "ExecuteTime": {
     "end_time": "2023-06-11T00:47:11.122451317Z",
     "start_time": "2023-06-11T00:47:11.120964826Z"
    }
   }
  },
  {
   "cell_type": "code",
   "execution_count": 3,
   "outputs": [
    {
     "name": "stdout",
     "output_type": "stream",
     "text": [
      "# Processing nirs data\n",
      "\n",
      "[exp_2022_10_14_10] Processing rest state\n",
      "[exp_2022_10_14_10] Processing finger tapping\n",
      "[exp_2022_10_14_10] Processing affective individual\n",
      "[exp_2022_10_14_10] Processing affective team\n",
      "[exp_2022_10_14_10] Processing ping pong competitive 0\n",
      "[exp_2022_10_14_10] Processing ping pong competitive 1\n",
      "[exp_2022_10_14_10] Processing ping pong cooperative\n",
      "[exp_2022_10_14_10] Processing minecraft training\n",
      "[exp_2022_10_14_10] Processing minecraft saturn A\n",
      "[exp_2022_10_14_10] Processing minecraft saturn B\n",
      "\n",
      "[exp_2022_10_18_10] Processing rest state\n",
      "[exp_2022_10_18_10] Processing finger tapping\n",
      "[exp_2022_10_18_10] Processing affective individual\n",
      "[exp_2022_10_18_10] Processing affective team\n",
      "[exp_2022_10_18_10] Processing ping pong competitive 0\n",
      "[exp_2022_10_18_10] Processing ping pong competitive 1\n",
      "[exp_2022_10_18_10] Processing ping pong cooperative\n",
      "[exp_2022_10_18_10] Processing minecraft training\n",
      "[exp_2022_10_18_10] Processing minecraft saturn A\n",
      "[exp_2022_10_18_10] Processing minecraft saturn B\n",
      "\n",
      "\n"
     ]
    }
   ],
   "source": [
    "experiments_tasks_data = prepare_task_data(\n",
    "    task_data_path,\n",
    "    physio_data_path,\n",
    "    experiment_info_path,\n",
    "    output_dir,\n",
    "    synchronization_frequency,\n",
    "    report_writer,\n",
    "    physio_type_data,\n",
    "    experiments,\n",
    "    verbose=True\n",
    ")"
   ],
   "metadata": {
    "collapsed": false,
    "ExecuteTime": {
     "end_time": "2023-06-11T00:47:11.122973907Z",
     "start_time": "2023-06-11T00:47:11.121324047Z"
    }
   }
  }
 ],
 "metadata": {
  "kernelspec": {
   "display_name": "Python 3",
   "language": "python",
   "name": "python3"
  },
  "language_info": {
   "codemirror_mode": {
    "name": "ipython",
    "version": 2
   },
   "file_extension": ".py",
   "mimetype": "text/x-python",
   "name": "python",
   "nbconvert_exporter": "python",
   "pygments_lexer": "ipython2",
   "version": "2.7.6"
  }
 },
 "nbformat": 4,
 "nbformat_minor": 0
}
