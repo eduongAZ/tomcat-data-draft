{
 "cells": [
  {
   "cell_type": "code",
   "execution_count": 1,
   "outputs": [],
   "source": [
    "from tasks import RestState, FingerTapping, AffectiveTaskIndividual"
   ],
   "metadata": {
    "collapsed": false
   }
  },
  {
   "cell_type": "code",
   "execution_count": 2,
   "outputs": [],
   "source": [
    "metadata_path = '/Users/ericduong/Documents/ToMCAT/tomcat-data-draft/data/organized/metadata/exp_sample/metadata.json'\n",
    "rest_state_csv_path = '/Users/ericduong/Documents/ToMCAT/tomcat-data-draft/data/raw/tasks/exp_2022_10_14_10/rest_state/1665771871.csv'\n",
    "rest_state_physio_directory = '/Users/ericduong/Documents/ToMCAT/tomcat-data-draft/data/organized/physio_data/exp_sample'\n",
    "\n",
    "rest_state = RestState.from_files(\n",
    "    metadata_path,\n",
    "    rest_state_csv_path,\n",
    "    rest_state_physio_directory\n",
    ")"
   ],
   "metadata": {
    "collapsed": false
   }
  },
  {
   "cell_type": "code",
   "execution_count": 3,
   "outputs": [
    {
     "data": {
      "text/plain": "{'lion': '00039', 'tiger': '00041', 'leopard': '00044'}"
     },
     "execution_count": 3,
     "metadata": {},
     "output_type": "execute_result"
    }
   ],
   "source": [
    "rest_state.participant_ids"
   ],
   "metadata": {
    "collapsed": false
   }
  },
  {
   "cell_type": "code",
   "execution_count": 4,
   "outputs": [],
   "source": [
    "output_dir = '/Users/ericduong/Documents/ToMCAT/tomcat-data-draft/data/processed/exp_sample'\n",
    "rest_state.write_physio_data_csv(output_dir)"
   ],
   "metadata": {
    "collapsed": false
   }
  },
  {
   "cell_type": "code",
   "execution_count": 5,
   "outputs": [],
   "source": [
    "metadata_path = '/Users/ericduong/Documents/ToMCAT/tomcat-data-draft/data/organized/metadata/exp_sample/metadata.json'\n",
    "finger_tapping_csv_path = '/Users/ericduong/Documents/ToMCAT/tomcat-data-draft/data/raw/tasks/exp_2022_10_14_10/finger_tapping/1665772238.csv'\n",
    "finger_tapping_physio_directory = '/Users/ericduong/Documents/ToMCAT/tomcat-data-draft/data/organized/physio_data/exp_sample'\n",
    "\n",
    "finger_tapping = FingerTapping.from_files(\n",
    "    metadata_path,\n",
    "    finger_tapping_csv_path,\n",
    "    finger_tapping_physio_directory\n",
    ")"
   ],
   "metadata": {
    "collapsed": false
   }
  },
  {
   "cell_type": "code",
   "execution_count": 6,
   "outputs": [
    {
     "data": {
      "text/plain": "     Unnamed: 0  S1-D1_HbO  S1-D2_HbO  S2-D1_HbO  S2-D3_HbO  S3-D1_HbO   \n0          5294  -0.000123   0.185237   0.467046   0.434048  -0.100721  \\\n1          5295  -0.006564   0.190182   0.424987   0.408642  -0.108901   \n2          5296  -0.013788   0.194233   0.382567   0.383378  -0.118011   \n3          5297  -0.021700   0.197373   0.339663   0.358342  -0.127920   \n4          5298  -0.030274   0.199519   0.296037   0.333472  -0.138556   \n..          ...        ...        ...        ...        ...        ...   \n505        5799   0.221523   0.031513   0.897388   0.817676   0.182969   \n506        5800   0.226912   0.035518   0.905341   0.823795   0.193716   \n507        5801   0.232407   0.039599   0.913079   0.829863   0.205355   \n508        5802   0.238039   0.043905   0.920732   0.835940   0.217944   \n509        5803   0.243802   0.048517   0.928353   0.841994   0.231406   \n\n     S3-D3_HbO  S3-D4_HbO  S4-D2_HbO  S4-D4_HbO  ...     unix_time   \n0     0.058663  -0.237001  -0.184957  -0.386641  ...  1.665772e+09  \\\n1     0.059947  -0.227769  -0.178718  -0.372198  ...  1.665772e+09   \n2     0.060724  -0.219386  -0.173298  -0.358522  ...  1.665772e+09   \n3     0.061084  -0.211831  -0.168708  -0.345593  ...  1.665772e+09   \n4     0.060999  -0.205158  -0.165031  -0.333456  ...  1.665772e+09   \n..         ...        ...        ...        ...  ...           ...   \n505   0.237132   0.174348   0.221957   0.204778  ...  1.665772e+09   \n506   0.241282   0.177146   0.224460   0.204018  ...  1.665772e+09   \n507   0.245791   0.180631   0.227248   0.204219  ...  1.665772e+09   \n508   0.250724   0.184853   0.230408   0.205441  ...  1.665772e+09   \n509   0.256073   0.189805   0.233947   0.207683  ...  1.665772e+09   \n\n     event_type_physio_data  monotonic_time  human_readable_time_task_data   \n0            finger_tapping   262795.319963    2022-10-14T18:30:38.942852Z  \\\n1            finger_tapping   262795.319963    2022-10-14T18:30:38.942852Z   \n2            finger_tapping   262795.319963    2022-10-14T18:30:38.942852Z   \n3            finger_tapping   262795.319963    2022-10-14T18:30:38.942852Z   \n4            finger_tapping   262795.319963    2022-10-14T18:30:38.942852Z   \n..                      ...             ...                            ...   \n505          finger_tapping   262844.996319    2022-10-14T18:31:28.619207Z   \n506          finger_tapping   262845.092170    2022-10-14T18:31:28.715057Z   \n507          finger_tapping   262845.189167    2022-10-14T18:31:28.812055Z   \n508          finger_tapping   262845.286088    2022-10-14T18:31:28.908976Z   \n509          finger_tapping   262845.399263    2022-10-14T18:31:29.022150Z   \n\n         event_type_task_data  countdown_timer  00039  00041  00044   \n0    start_fingertapping_task              NaN    NaN    NaN    NaN  \\\n1    start_fingertapping_task              NaN    NaN    NaN    NaN   \n2    start_fingertapping_task              NaN    NaN    NaN    NaN   \n3    start_fingertapping_task              NaN    NaN    NaN    NaN   \n4    start_fingertapping_task              NaN    NaN    NaN    NaN   \n..                        ...              ...    ...    ...    ...   \n505                      team              1.0    1.0    0.0    0.0   \n506                      team              1.0    1.0    1.0    0.0   \n507                      team              1.0    0.0    1.0    1.0   \n508                      team              1.0    0.0    1.0    1.0   \n509                      team              1.0    0.0    1.0    0.0   \n\n     participant_id  \n0             00039  \n1             00039  \n2             00039  \n3             00039  \n4             00039  \n..              ...  \n505           00039  \n506           00039  \n507           00039  \n508           00039  \n509           00039  \n\n[510 rows x 52 columns]",
      "text/html": "<div>\n<style scoped>\n    .dataframe tbody tr th:only-of-type {\n        vertical-align: middle;\n    }\n\n    .dataframe tbody tr th {\n        vertical-align: top;\n    }\n\n    .dataframe thead th {\n        text-align: right;\n    }\n</style>\n<table border=\"1\" class=\"dataframe\">\n  <thead>\n    <tr style=\"text-align: right;\">\n      <th></th>\n      <th>Unnamed: 0</th>\n      <th>S1-D1_HbO</th>\n      <th>S1-D2_HbO</th>\n      <th>S2-D1_HbO</th>\n      <th>S2-D3_HbO</th>\n      <th>S3-D1_HbO</th>\n      <th>S3-D3_HbO</th>\n      <th>S3-D4_HbO</th>\n      <th>S4-D2_HbO</th>\n      <th>S4-D4_HbO</th>\n      <th>...</th>\n      <th>unix_time</th>\n      <th>event_type_physio_data</th>\n      <th>monotonic_time</th>\n      <th>human_readable_time_task_data</th>\n      <th>event_type_task_data</th>\n      <th>countdown_timer</th>\n      <th>00039</th>\n      <th>00041</th>\n      <th>00044</th>\n      <th>participant_id</th>\n    </tr>\n  </thead>\n  <tbody>\n    <tr>\n      <th>0</th>\n      <td>5294</td>\n      <td>-0.000123</td>\n      <td>0.185237</td>\n      <td>0.467046</td>\n      <td>0.434048</td>\n      <td>-0.100721</td>\n      <td>0.058663</td>\n      <td>-0.237001</td>\n      <td>-0.184957</td>\n      <td>-0.386641</td>\n      <td>...</td>\n      <td>1.665772e+09</td>\n      <td>finger_tapping</td>\n      <td>262795.319963</td>\n      <td>2022-10-14T18:30:38.942852Z</td>\n      <td>start_fingertapping_task</td>\n      <td>NaN</td>\n      <td>NaN</td>\n      <td>NaN</td>\n      <td>NaN</td>\n      <td>00039</td>\n    </tr>\n    <tr>\n      <th>1</th>\n      <td>5295</td>\n      <td>-0.006564</td>\n      <td>0.190182</td>\n      <td>0.424987</td>\n      <td>0.408642</td>\n      <td>-0.108901</td>\n      <td>0.059947</td>\n      <td>-0.227769</td>\n      <td>-0.178718</td>\n      <td>-0.372198</td>\n      <td>...</td>\n      <td>1.665772e+09</td>\n      <td>finger_tapping</td>\n      <td>262795.319963</td>\n      <td>2022-10-14T18:30:38.942852Z</td>\n      <td>start_fingertapping_task</td>\n      <td>NaN</td>\n      <td>NaN</td>\n      <td>NaN</td>\n      <td>NaN</td>\n      <td>00039</td>\n    </tr>\n    <tr>\n      <th>2</th>\n      <td>5296</td>\n      <td>-0.013788</td>\n      <td>0.194233</td>\n      <td>0.382567</td>\n      <td>0.383378</td>\n      <td>-0.118011</td>\n      <td>0.060724</td>\n      <td>-0.219386</td>\n      <td>-0.173298</td>\n      <td>-0.358522</td>\n      <td>...</td>\n      <td>1.665772e+09</td>\n      <td>finger_tapping</td>\n      <td>262795.319963</td>\n      <td>2022-10-14T18:30:38.942852Z</td>\n      <td>start_fingertapping_task</td>\n      <td>NaN</td>\n      <td>NaN</td>\n      <td>NaN</td>\n      <td>NaN</td>\n      <td>00039</td>\n    </tr>\n    <tr>\n      <th>3</th>\n      <td>5297</td>\n      <td>-0.021700</td>\n      <td>0.197373</td>\n      <td>0.339663</td>\n      <td>0.358342</td>\n      <td>-0.127920</td>\n      <td>0.061084</td>\n      <td>-0.211831</td>\n      <td>-0.168708</td>\n      <td>-0.345593</td>\n      <td>...</td>\n      <td>1.665772e+09</td>\n      <td>finger_tapping</td>\n      <td>262795.319963</td>\n      <td>2022-10-14T18:30:38.942852Z</td>\n      <td>start_fingertapping_task</td>\n      <td>NaN</td>\n      <td>NaN</td>\n      <td>NaN</td>\n      <td>NaN</td>\n      <td>00039</td>\n    </tr>\n    <tr>\n      <th>4</th>\n      <td>5298</td>\n      <td>-0.030274</td>\n      <td>0.199519</td>\n      <td>0.296037</td>\n      <td>0.333472</td>\n      <td>-0.138556</td>\n      <td>0.060999</td>\n      <td>-0.205158</td>\n      <td>-0.165031</td>\n      <td>-0.333456</td>\n      <td>...</td>\n      <td>1.665772e+09</td>\n      <td>finger_tapping</td>\n      <td>262795.319963</td>\n      <td>2022-10-14T18:30:38.942852Z</td>\n      <td>start_fingertapping_task</td>\n      <td>NaN</td>\n      <td>NaN</td>\n      <td>NaN</td>\n      <td>NaN</td>\n      <td>00039</td>\n    </tr>\n    <tr>\n      <th>...</th>\n      <td>...</td>\n      <td>...</td>\n      <td>...</td>\n      <td>...</td>\n      <td>...</td>\n      <td>...</td>\n      <td>...</td>\n      <td>...</td>\n      <td>...</td>\n      <td>...</td>\n      <td>...</td>\n      <td>...</td>\n      <td>...</td>\n      <td>...</td>\n      <td>...</td>\n      <td>...</td>\n      <td>...</td>\n      <td>...</td>\n      <td>...</td>\n      <td>...</td>\n      <td>...</td>\n    </tr>\n    <tr>\n      <th>505</th>\n      <td>5799</td>\n      <td>0.221523</td>\n      <td>0.031513</td>\n      <td>0.897388</td>\n      <td>0.817676</td>\n      <td>0.182969</td>\n      <td>0.237132</td>\n      <td>0.174348</td>\n      <td>0.221957</td>\n      <td>0.204778</td>\n      <td>...</td>\n      <td>1.665772e+09</td>\n      <td>finger_tapping</td>\n      <td>262844.996319</td>\n      <td>2022-10-14T18:31:28.619207Z</td>\n      <td>team</td>\n      <td>1.0</td>\n      <td>1.0</td>\n      <td>0.0</td>\n      <td>0.0</td>\n      <td>00039</td>\n    </tr>\n    <tr>\n      <th>506</th>\n      <td>5800</td>\n      <td>0.226912</td>\n      <td>0.035518</td>\n      <td>0.905341</td>\n      <td>0.823795</td>\n      <td>0.193716</td>\n      <td>0.241282</td>\n      <td>0.177146</td>\n      <td>0.224460</td>\n      <td>0.204018</td>\n      <td>...</td>\n      <td>1.665772e+09</td>\n      <td>finger_tapping</td>\n      <td>262845.092170</td>\n      <td>2022-10-14T18:31:28.715057Z</td>\n      <td>team</td>\n      <td>1.0</td>\n      <td>1.0</td>\n      <td>1.0</td>\n      <td>0.0</td>\n      <td>00039</td>\n    </tr>\n    <tr>\n      <th>507</th>\n      <td>5801</td>\n      <td>0.232407</td>\n      <td>0.039599</td>\n      <td>0.913079</td>\n      <td>0.829863</td>\n      <td>0.205355</td>\n      <td>0.245791</td>\n      <td>0.180631</td>\n      <td>0.227248</td>\n      <td>0.204219</td>\n      <td>...</td>\n      <td>1.665772e+09</td>\n      <td>finger_tapping</td>\n      <td>262845.189167</td>\n      <td>2022-10-14T18:31:28.812055Z</td>\n      <td>team</td>\n      <td>1.0</td>\n      <td>0.0</td>\n      <td>1.0</td>\n      <td>1.0</td>\n      <td>00039</td>\n    </tr>\n    <tr>\n      <th>508</th>\n      <td>5802</td>\n      <td>0.238039</td>\n      <td>0.043905</td>\n      <td>0.920732</td>\n      <td>0.835940</td>\n      <td>0.217944</td>\n      <td>0.250724</td>\n      <td>0.184853</td>\n      <td>0.230408</td>\n      <td>0.205441</td>\n      <td>...</td>\n      <td>1.665772e+09</td>\n      <td>finger_tapping</td>\n      <td>262845.286088</td>\n      <td>2022-10-14T18:31:28.908976Z</td>\n      <td>team</td>\n      <td>1.0</td>\n      <td>0.0</td>\n      <td>1.0</td>\n      <td>1.0</td>\n      <td>00039</td>\n    </tr>\n    <tr>\n      <th>509</th>\n      <td>5803</td>\n      <td>0.243802</td>\n      <td>0.048517</td>\n      <td>0.928353</td>\n      <td>0.841994</td>\n      <td>0.231406</td>\n      <td>0.256073</td>\n      <td>0.189805</td>\n      <td>0.233947</td>\n      <td>0.207683</td>\n      <td>...</td>\n      <td>1.665772e+09</td>\n      <td>finger_tapping</td>\n      <td>262845.399263</td>\n      <td>2022-10-14T18:31:29.022150Z</td>\n      <td>team</td>\n      <td>1.0</td>\n      <td>0.0</td>\n      <td>1.0</td>\n      <td>0.0</td>\n      <td>00039</td>\n    </tr>\n  </tbody>\n</table>\n<p>510 rows × 52 columns</p>\n</div>"
     },
     "execution_count": 6,
     "metadata": {},
     "output_type": "execute_result"
    }
   ],
   "source": [
    "finger_tapping.finger_tapping_physio['lion'].head(n=1000)"
   ],
   "metadata": {
    "collapsed": false
   }
  },
  {
   "cell_type": "code",
   "execution_count": 7,
   "outputs": [],
   "source": [
    "output_dir = '/Users/ericduong/Documents/ToMCAT/tomcat-data-draft/data/processed/exp_sample'\n",
    "finger_tapping.write_physio_data_csv(output_dir)"
   ],
   "metadata": {
    "collapsed": false
   }
  },
  {
   "cell_type": "code",
   "execution_count": 8,
   "outputs": [],
   "source": [
    "lion_affective_task_individual_csv_path = '/Users/ericduong/Documents/ToMCAT/tomcat-data-draft/data/raw/tasks/exp_2022_10_14_10/affective/individual_00039_1665772393.csv'\n",
    "lion_affective_task_individual_physio_directory = '/Users/ericduong/Documents/ToMCAT/tomcat-data-draft/data/organized/physio_data/exp_sample/lion'\n",
    "\n",
    "affective_individual = AffectiveTaskIndividual.from_files(\n",
    "    \"00039\",\n",
    "    \"lion\",\n",
    "    lion_affective_task_individual_csv_path,\n",
    "    lion_affective_task_individual_physio_directory\n",
    ")"
   ],
   "metadata": {
    "collapsed": false
   }
  },
  {
   "cell_type": "code",
   "execution_count": 10,
   "outputs": [
    {
     "data": {
      "text/plain": "     Unnamed: 0  S1-D1_HbO  S1-D2_HbO  S2-D1_HbO  S2-D3_HbO  S3-D1_HbO   \n0          6865   0.022117   0.330729  -0.221637  -0.388872   0.098938  \\\n1          6866   0.015257   0.319974  -0.245327  -0.404665   0.094582   \n2          6867   0.008508   0.309194  -0.267936  -0.419625   0.089849   \n3          6868   0.001888   0.298428  -0.289285  -0.433693   0.084809   \n4          6869  -0.004651   0.287617  -0.309399  -0.446973   0.079473   \n..          ...        ...        ...        ...        ...        ...   \n995        7860  -0.707954  -0.242587  -2.900337  -2.227317  -0.472211   \n996        7861  -0.708965  -0.271939  -2.854635  -2.185425  -0.496643   \n997        7862  -0.709129  -0.299710  -2.807126  -2.142989  -0.518654   \n998        7863  -0.708486  -0.325804  -2.758240  -2.100369  -0.538148   \n999        7864  -0.707153  -0.350246  -2.708514  -2.058037  -0.555073   \n\n     S3-D3_HbO  S3-D4_HbO  S4-D2_HbO  S4-D4_HbO  ...   \n0    -0.164037  -0.213622   0.110887  -0.060429  ...  \\\n1    -0.166248  -0.209189   0.107091  -0.050691  ...   \n2    -0.168395  -0.204921   0.103013  -0.040990  ...   \n3    -0.170460  -0.200838   0.098622  -0.031389  ...   \n4    -0.172552  -0.197042   0.093803  -0.022036  ...   \n..         ...        ...        ...        ...  ...   \n995  -0.566721  -0.431244  -0.270483  -0.353391  ...   \n996  -0.570915  -0.422119  -0.275609  -0.350279  ...   \n997  -0.573293  -0.412661  -0.280482  -0.347369  ...   \n998  -0.573933  -0.402951  -0.285155  -0.344718  ...   \n999  -0.573032  -0.393139  -0.289756  -0.342445  ...   \n\n                    event_type  task_time  task_monotonic_time   \n0    affective_task_individual        NaN                  NaN  \\\n1    affective_task_individual        NaN                  NaN   \n2    affective_task_individual        NaN                  NaN   \n3    affective_task_individual        NaN                  NaN   \n4    affective_task_individual        NaN                  NaN   \n..                         ...        ...                  ...   \n995  affective_task_individual        NaN                  NaN   \n996  affective_task_individual        NaN                  NaN   \n997  affective_task_individual        NaN                  NaN   \n998  affective_task_individual        NaN                  NaN   \n999  affective_task_individual        NaN                  NaN   \n\n     task_human_readable_time  task_image_path  task_subject_id   \n0                         NaN              NaN              NaN  \\\n1                         NaN              NaN              NaN   \n2                         NaN              NaN              NaN   \n3                         NaN              NaN              NaN   \n4                         NaN              NaN              NaN   \n..                        ...              ...              ...   \n995                       NaN              NaN              NaN   \n996                       NaN              NaN              NaN   \n997                       NaN              NaN              NaN   \n998                       NaN              NaN              NaN   \n999                       NaN              NaN              NaN   \n\n     task_arousal_score  task_valence_score  task_event_type   \n0                   NaN                 NaN              NaN  \\\n1                   NaN                 NaN              NaN   \n2                   NaN                 NaN              NaN   \n3                   NaN                 NaN              NaN   \n4                   NaN                 NaN              NaN   \n..                  ...                 ...              ...   \n995                 NaN                 NaN              NaN   \n996                 NaN                 NaN              NaN   \n997                 NaN                 NaN              NaN   \n998                 NaN                 NaN              NaN   \n999                 NaN                 NaN              NaN   \n\n     physio_participant_id  \n0                    00039  \n1                    00039  \n2                    00039  \n3                    00039  \n4                    00039  \n..                     ...  \n995                  00039  \n996                  00039  \n997                  00039  \n998                  00039  \n999                  00039  \n\n[1000 rows x 53 columns]",
      "text/html": "<div>\n<style scoped>\n    .dataframe tbody tr th:only-of-type {\n        vertical-align: middle;\n    }\n\n    .dataframe tbody tr th {\n        vertical-align: top;\n    }\n\n    .dataframe thead th {\n        text-align: right;\n    }\n</style>\n<table border=\"1\" class=\"dataframe\">\n  <thead>\n    <tr style=\"text-align: right;\">\n      <th></th>\n      <th>Unnamed: 0</th>\n      <th>S1-D1_HbO</th>\n      <th>S1-D2_HbO</th>\n      <th>S2-D1_HbO</th>\n      <th>S2-D3_HbO</th>\n      <th>S3-D1_HbO</th>\n      <th>S3-D3_HbO</th>\n      <th>S3-D4_HbO</th>\n      <th>S4-D2_HbO</th>\n      <th>S4-D4_HbO</th>\n      <th>...</th>\n      <th>event_type</th>\n      <th>task_time</th>\n      <th>task_monotonic_time</th>\n      <th>task_human_readable_time</th>\n      <th>task_image_path</th>\n      <th>task_subject_id</th>\n      <th>task_arousal_score</th>\n      <th>task_valence_score</th>\n      <th>task_event_type</th>\n      <th>physio_participant_id</th>\n    </tr>\n  </thead>\n  <tbody>\n    <tr>\n      <th>0</th>\n      <td>6865</td>\n      <td>0.022117</td>\n      <td>0.330729</td>\n      <td>-0.221637</td>\n      <td>-0.388872</td>\n      <td>0.098938</td>\n      <td>-0.164037</td>\n      <td>-0.213622</td>\n      <td>0.110887</td>\n      <td>-0.060429</td>\n      <td>...</td>\n      <td>affective_task_individual</td>\n      <td>NaN</td>\n      <td>NaN</td>\n      <td>NaN</td>\n      <td>NaN</td>\n      <td>NaN</td>\n      <td>NaN</td>\n      <td>NaN</td>\n      <td>NaN</td>\n      <td>00039</td>\n    </tr>\n    <tr>\n      <th>1</th>\n      <td>6866</td>\n      <td>0.015257</td>\n      <td>0.319974</td>\n      <td>-0.245327</td>\n      <td>-0.404665</td>\n      <td>0.094582</td>\n      <td>-0.166248</td>\n      <td>-0.209189</td>\n      <td>0.107091</td>\n      <td>-0.050691</td>\n      <td>...</td>\n      <td>affective_task_individual</td>\n      <td>NaN</td>\n      <td>NaN</td>\n      <td>NaN</td>\n      <td>NaN</td>\n      <td>NaN</td>\n      <td>NaN</td>\n      <td>NaN</td>\n      <td>NaN</td>\n      <td>00039</td>\n    </tr>\n    <tr>\n      <th>2</th>\n      <td>6867</td>\n      <td>0.008508</td>\n      <td>0.309194</td>\n      <td>-0.267936</td>\n      <td>-0.419625</td>\n      <td>0.089849</td>\n      <td>-0.168395</td>\n      <td>-0.204921</td>\n      <td>0.103013</td>\n      <td>-0.040990</td>\n      <td>...</td>\n      <td>affective_task_individual</td>\n      <td>NaN</td>\n      <td>NaN</td>\n      <td>NaN</td>\n      <td>NaN</td>\n      <td>NaN</td>\n      <td>NaN</td>\n      <td>NaN</td>\n      <td>NaN</td>\n      <td>00039</td>\n    </tr>\n    <tr>\n      <th>3</th>\n      <td>6868</td>\n      <td>0.001888</td>\n      <td>0.298428</td>\n      <td>-0.289285</td>\n      <td>-0.433693</td>\n      <td>0.084809</td>\n      <td>-0.170460</td>\n      <td>-0.200838</td>\n      <td>0.098622</td>\n      <td>-0.031389</td>\n      <td>...</td>\n      <td>affective_task_individual</td>\n      <td>NaN</td>\n      <td>NaN</td>\n      <td>NaN</td>\n      <td>NaN</td>\n      <td>NaN</td>\n      <td>NaN</td>\n      <td>NaN</td>\n      <td>NaN</td>\n      <td>00039</td>\n    </tr>\n    <tr>\n      <th>4</th>\n      <td>6869</td>\n      <td>-0.004651</td>\n      <td>0.287617</td>\n      <td>-0.309399</td>\n      <td>-0.446973</td>\n      <td>0.079473</td>\n      <td>-0.172552</td>\n      <td>-0.197042</td>\n      <td>0.093803</td>\n      <td>-0.022036</td>\n      <td>...</td>\n      <td>affective_task_individual</td>\n      <td>NaN</td>\n      <td>NaN</td>\n      <td>NaN</td>\n      <td>NaN</td>\n      <td>NaN</td>\n      <td>NaN</td>\n      <td>NaN</td>\n      <td>NaN</td>\n      <td>00039</td>\n    </tr>\n    <tr>\n      <th>...</th>\n      <td>...</td>\n      <td>...</td>\n      <td>...</td>\n      <td>...</td>\n      <td>...</td>\n      <td>...</td>\n      <td>...</td>\n      <td>...</td>\n      <td>...</td>\n      <td>...</td>\n      <td>...</td>\n      <td>...</td>\n      <td>...</td>\n      <td>...</td>\n      <td>...</td>\n      <td>...</td>\n      <td>...</td>\n      <td>...</td>\n      <td>...</td>\n      <td>...</td>\n      <td>...</td>\n    </tr>\n    <tr>\n      <th>995</th>\n      <td>7860</td>\n      <td>-0.707954</td>\n      <td>-0.242587</td>\n      <td>-2.900337</td>\n      <td>-2.227317</td>\n      <td>-0.472211</td>\n      <td>-0.566721</td>\n      <td>-0.431244</td>\n      <td>-0.270483</td>\n      <td>-0.353391</td>\n      <td>...</td>\n      <td>affective_task_individual</td>\n      <td>NaN</td>\n      <td>NaN</td>\n      <td>NaN</td>\n      <td>NaN</td>\n      <td>NaN</td>\n      <td>NaN</td>\n      <td>NaN</td>\n      <td>NaN</td>\n      <td>00039</td>\n    </tr>\n    <tr>\n      <th>996</th>\n      <td>7861</td>\n      <td>-0.708965</td>\n      <td>-0.271939</td>\n      <td>-2.854635</td>\n      <td>-2.185425</td>\n      <td>-0.496643</td>\n      <td>-0.570915</td>\n      <td>-0.422119</td>\n      <td>-0.275609</td>\n      <td>-0.350279</td>\n      <td>...</td>\n      <td>affective_task_individual</td>\n      <td>NaN</td>\n      <td>NaN</td>\n      <td>NaN</td>\n      <td>NaN</td>\n      <td>NaN</td>\n      <td>NaN</td>\n      <td>NaN</td>\n      <td>NaN</td>\n      <td>00039</td>\n    </tr>\n    <tr>\n      <th>997</th>\n      <td>7862</td>\n      <td>-0.709129</td>\n      <td>-0.299710</td>\n      <td>-2.807126</td>\n      <td>-2.142989</td>\n      <td>-0.518654</td>\n      <td>-0.573293</td>\n      <td>-0.412661</td>\n      <td>-0.280482</td>\n      <td>-0.347369</td>\n      <td>...</td>\n      <td>affective_task_individual</td>\n      <td>NaN</td>\n      <td>NaN</td>\n      <td>NaN</td>\n      <td>NaN</td>\n      <td>NaN</td>\n      <td>NaN</td>\n      <td>NaN</td>\n      <td>NaN</td>\n      <td>00039</td>\n    </tr>\n    <tr>\n      <th>998</th>\n      <td>7863</td>\n      <td>-0.708486</td>\n      <td>-0.325804</td>\n      <td>-2.758240</td>\n      <td>-2.100369</td>\n      <td>-0.538148</td>\n      <td>-0.573933</td>\n      <td>-0.402951</td>\n      <td>-0.285155</td>\n      <td>-0.344718</td>\n      <td>...</td>\n      <td>affective_task_individual</td>\n      <td>NaN</td>\n      <td>NaN</td>\n      <td>NaN</td>\n      <td>NaN</td>\n      <td>NaN</td>\n      <td>NaN</td>\n      <td>NaN</td>\n      <td>NaN</td>\n      <td>00039</td>\n    </tr>\n    <tr>\n      <th>999</th>\n      <td>7864</td>\n      <td>-0.707153</td>\n      <td>-0.350246</td>\n      <td>-2.708514</td>\n      <td>-2.058037</td>\n      <td>-0.555073</td>\n      <td>-0.573032</td>\n      <td>-0.393139</td>\n      <td>-0.289756</td>\n      <td>-0.342445</td>\n      <td>...</td>\n      <td>affective_task_individual</td>\n      <td>NaN</td>\n      <td>NaN</td>\n      <td>NaN</td>\n      <td>NaN</td>\n      <td>NaN</td>\n      <td>NaN</td>\n      <td>NaN</td>\n      <td>NaN</td>\n      <td>00039</td>\n    </tr>\n  </tbody>\n</table>\n<p>1000 rows × 53 columns</p>\n</div>"
     },
     "execution_count": 10,
     "metadata": {},
     "output_type": "execute_result"
    }
   ],
   "source": [
    "affective_individual.affective_physio_df.head(n=1000)"
   ],
   "metadata": {
    "collapsed": false
   }
  },
  {
   "cell_type": "code",
   "execution_count": 12,
   "outputs": [],
   "source": [
    "output_dir = '/Users/ericduong/Documents/ToMCAT/tomcat-data-draft/data/processed/exp_sample'\n",
    "affective_individual.write_physio_data_csv(output_dir)"
   ],
   "metadata": {
    "collapsed": false
   }
  },
  {
   "cell_type": "code",
   "execution_count": null,
   "outputs": [],
   "source": [],
   "metadata": {
    "collapsed": false
   }
  }
 ],
 "metadata": {
  "kernelspec": {
   "display_name": "Python 3",
   "language": "python",
   "name": "python3"
  },
  "language_info": {
   "codemirror_mode": {
    "name": "ipython",
    "version": 2
   },
   "file_extension": ".py",
   "mimetype": "text/x-python",
   "name": "python",
   "nbconvert_exporter": "python",
   "pygments_lexer": "ipython2",
   "version": "2.7.6"
  }
 },
 "nbformat": 4,
 "nbformat_minor": 0
}
