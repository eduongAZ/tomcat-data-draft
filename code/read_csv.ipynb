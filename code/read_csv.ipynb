{
 "cells": [
  {
   "cell_type": "code",
   "execution_count": 1,
   "outputs": [],
   "source": [
    "from utils import read_csv_file, read_json_file\n",
    "from tasks import RestState"
   ],
   "metadata": {
    "collapsed": false
   }
  },
  {
   "cell_type": "code",
   "execution_count": 2,
   "metadata": {
    "collapsed": true
   },
   "outputs": [
    {
     "name": "stdout",
     "output_type": "stream",
     "text": [
      "0       0.000087\n",
      "1       0.000576\n",
      "2       0.001916\n",
      "3       0.004450\n",
      "4       0.008317\n",
      "          ...   \n",
      "3063   -0.423611\n",
      "3064   -0.415259\n",
      "3065   -0.406313\n",
      "3066   -0.396945\n",
      "3067   -0.387257\n",
      "Name: S1-D1_HbO, Length: 3068, dtype: float64\n"
     ]
    }
   ],
   "source": [
    "# Assuming you have a CSV file named 'data.csv' in the same directory as your Python script\n",
    "csv_file_path = '/Users/ericduong/Documents/ToMCAT/tomcat-data-draft/data/organized/physio_data/exp_sample/lion/NIRS_filtered_rest_state.csv'\n",
    "\n",
    "# Read the CSV file\n",
    "data_frame = read_csv_file(csv_file_path, '\\t')\n",
    "\n",
    "# Get the 'S1-D1_HbO' column\n",
    "column_data = data_frame['S1-D1_HbO']\n",
    "\n",
    "# Print the column data\n",
    "print(column_data)"
   ]
  },
  {
   "cell_type": "code",
   "execution_count": 3,
   "outputs": [
    {
     "name": "stdout",
     "output_type": "stream",
     "text": [
      "{'participant_ids': {'lion': '00039', 'tiger': '00041', 'leopard': '00044'}}\n"
     ]
    }
   ],
   "source": [
    "# Assuming you have a JSON file named 'data.json' in the same directory as your Python script\n",
    "json_file_path = '/Users/ericduong/Documents/ToMCAT/tomcat-data-draft/data/organized/metadata/exp_sample/metadata.json'\n",
    "\n",
    "# Read the JSON file\n",
    "json_data = read_json_file(json_file_path)\n",
    "\n",
    "# Print the JSON data\n",
    "print(json_data)"
   ],
   "metadata": {
    "collapsed": false
   }
  },
  {
   "cell_type": "code",
   "execution_count": 4,
   "outputs": [],
   "source": [
    "metadata_path = '/Users/ericduong/Documents/ToMCAT/tomcat-data-draft/data/organized/metadata/exp_sample/metadata.json'\n",
    "rest_state_csv_path = '/Users/ericduong/Documents/ToMCAT/tomcat-data-draft/data/raw/tasks/exp_2022_10_14_10/rest_state/1665771871.csv'\n",
    "rest_state_physio_directory = '/Users/ericduong/Documents/ToMCAT/tomcat-data-draft/data/organized/physio_data/exp_sample'\n",
    "\n",
    "rest_state = RestState.from_files(\n",
    "    metadata_path,\n",
    "    rest_state_csv_path,\n",
    "    rest_state_physio_directory\n",
    ")"
   ],
   "metadata": {
    "collapsed": false
   }
  },
  {
   "cell_type": "code",
   "execution_count": 5,
   "outputs": [
    {
     "data": {
      "text/plain": "{'lion': '00039', 'tiger': '00041', 'leopard': '00044'}"
     },
     "execution_count": 5,
     "metadata": {},
     "output_type": "execute_result"
    }
   ],
   "source": [
    "rest_state.participant_ids"
   ],
   "metadata": {
    "collapsed": false
   }
  },
  {
   "cell_type": "code",
   "execution_count": 6,
   "outputs": [
    {
     "data": {
      "text/plain": "           time  monotonic_time          human_readable_time        event_type\n0  1.665772e+09   262427.892023  2022-10-14T18:24:31.514913Z  start_rest_state\n1  1.665772e+09   262729.433296  2022-10-14T18:29:33.056185Z    end_rest_state",
      "text/html": "<div>\n<style scoped>\n    .dataframe tbody tr th:only-of-type {\n        vertical-align: middle;\n    }\n\n    .dataframe tbody tr th {\n        vertical-align: top;\n    }\n\n    .dataframe thead th {\n        text-align: right;\n    }\n</style>\n<table border=\"1\" class=\"dataframe\">\n  <thead>\n    <tr style=\"text-align: right;\">\n      <th></th>\n      <th>time</th>\n      <th>monotonic_time</th>\n      <th>human_readable_time</th>\n      <th>event_type</th>\n    </tr>\n  </thead>\n  <tbody>\n    <tr>\n      <th>0</th>\n      <td>1.665772e+09</td>\n      <td>262427.892023</td>\n      <td>2022-10-14T18:24:31.514913Z</td>\n      <td>start_rest_state</td>\n    </tr>\n    <tr>\n      <th>1</th>\n      <td>1.665772e+09</td>\n      <td>262729.433296</td>\n      <td>2022-10-14T18:29:33.056185Z</td>\n      <td>end_rest_state</td>\n    </tr>\n  </tbody>\n</table>\n</div>"
     },
     "execution_count": 6,
     "metadata": {},
     "output_type": "execute_result"
    }
   ],
   "source": [
    "rest_state.rest_state_task_df.head()"
   ],
   "metadata": {
    "collapsed": false
   }
  },
  {
   "cell_type": "code",
   "execution_count": 7,
   "outputs": [
    {
     "data": {
      "text/plain": "1665771871.514909"
     },
     "execution_count": 7,
     "metadata": {},
     "output_type": "execute_result"
    }
   ],
   "source": [
    "rest_state.rest_state_task_df.query('event_type == \"start_rest_state\"').iloc[0]['time']"
   ],
   "metadata": {
    "collapsed": false
   }
  },
  {
   "cell_type": "code",
   "execution_count": 8,
   "outputs": [
    {
     "data": {
      "text/plain": "   Unnamed: 0  S1-D1_HbO  S1-D2_HbO  S2-D1_HbO  S2-D3_HbO  S3-D1_HbO   \n0        1556   0.000087   0.000074   0.000239   0.000230   0.000147  \\\n1        1557   0.000576   0.000486   0.001556   0.001530   0.001006   \n2        1558   0.001916   0.001597   0.005183   0.005130   0.003422   \n3        1559   0.004450   0.003658   0.012233   0.012012   0.008029   \n4        1560   0.008317   0.006745   0.023478   0.022713   0.015101   \n\n   S3-D3_HbO  S3-D4_HbO  S4-D2_HbO  S4-D4_HbO  ...  S6-D7_HbR  S7-D5_HbR   \n0   0.000158   0.000087   0.000055   0.000036  ...   0.000420   0.000017  \\\n1   0.001051   0.000580   0.000366   0.000235  ...   0.002740   0.000115   \n2   0.003529   0.001937   0.001213   0.000768  ...   0.009075   0.000393   \n3   0.008256   0.004502   0.002775   0.001732  ...   0.020810   0.000933   \n4   0.015544   0.008407   0.005073   0.003101  ...   0.037460   0.001788   \n\n   S7-D7_HbR  S8-D6_HbR  S8-D7_HbR          human_readable_time     unix_time   \n0   0.000019   0.000016   0.000134  2022-10-14 18:24:31.5275772  1.665772e+09  \\\n1   0.000026   0.000109   0.000756  2022-10-14 18:24:31.6258805  1.665772e+09   \n2  -0.000138   0.000369   0.002108  2022-10-14 18:24:31.7241840  1.665772e+09   \n3  -0.000585   0.000876   0.004249  2022-10-14 18:24:31.8224876  1.665772e+09   \n4  -0.001263   0.001677   0.007402  2022-10-14 18:24:31.9207909  1.665772e+09   \n\n   event_type  participant_id        task_status  \n0  rest_state           00039  during_rest_state  \n1  rest_state           00039  during_rest_state  \n2  rest_state           00039  during_rest_state  \n3  rest_state           00039  during_rest_state  \n4  rest_state           00039  during_rest_state  \n\n[5 rows x 46 columns]",
      "text/html": "<div>\n<style scoped>\n    .dataframe tbody tr th:only-of-type {\n        vertical-align: middle;\n    }\n\n    .dataframe tbody tr th {\n        vertical-align: top;\n    }\n\n    .dataframe thead th {\n        text-align: right;\n    }\n</style>\n<table border=\"1\" class=\"dataframe\">\n  <thead>\n    <tr style=\"text-align: right;\">\n      <th></th>\n      <th>Unnamed: 0</th>\n      <th>S1-D1_HbO</th>\n      <th>S1-D2_HbO</th>\n      <th>S2-D1_HbO</th>\n      <th>S2-D3_HbO</th>\n      <th>S3-D1_HbO</th>\n      <th>S3-D3_HbO</th>\n      <th>S3-D4_HbO</th>\n      <th>S4-D2_HbO</th>\n      <th>S4-D4_HbO</th>\n      <th>...</th>\n      <th>S6-D7_HbR</th>\n      <th>S7-D5_HbR</th>\n      <th>S7-D7_HbR</th>\n      <th>S8-D6_HbR</th>\n      <th>S8-D7_HbR</th>\n      <th>human_readable_time</th>\n      <th>unix_time</th>\n      <th>event_type</th>\n      <th>participant_id</th>\n      <th>task_status</th>\n    </tr>\n  </thead>\n  <tbody>\n    <tr>\n      <th>0</th>\n      <td>1556</td>\n      <td>0.000087</td>\n      <td>0.000074</td>\n      <td>0.000239</td>\n      <td>0.000230</td>\n      <td>0.000147</td>\n      <td>0.000158</td>\n      <td>0.000087</td>\n      <td>0.000055</td>\n      <td>0.000036</td>\n      <td>...</td>\n      <td>0.000420</td>\n      <td>0.000017</td>\n      <td>0.000019</td>\n      <td>0.000016</td>\n      <td>0.000134</td>\n      <td>2022-10-14 18:24:31.5275772</td>\n      <td>1.665772e+09</td>\n      <td>rest_state</td>\n      <td>00039</td>\n      <td>during_rest_state</td>\n    </tr>\n    <tr>\n      <th>1</th>\n      <td>1557</td>\n      <td>0.000576</td>\n      <td>0.000486</td>\n      <td>0.001556</td>\n      <td>0.001530</td>\n      <td>0.001006</td>\n      <td>0.001051</td>\n      <td>0.000580</td>\n      <td>0.000366</td>\n      <td>0.000235</td>\n      <td>...</td>\n      <td>0.002740</td>\n      <td>0.000115</td>\n      <td>0.000026</td>\n      <td>0.000109</td>\n      <td>0.000756</td>\n      <td>2022-10-14 18:24:31.6258805</td>\n      <td>1.665772e+09</td>\n      <td>rest_state</td>\n      <td>00039</td>\n      <td>during_rest_state</td>\n    </tr>\n    <tr>\n      <th>2</th>\n      <td>1558</td>\n      <td>0.001916</td>\n      <td>0.001597</td>\n      <td>0.005183</td>\n      <td>0.005130</td>\n      <td>0.003422</td>\n      <td>0.003529</td>\n      <td>0.001937</td>\n      <td>0.001213</td>\n      <td>0.000768</td>\n      <td>...</td>\n      <td>0.009075</td>\n      <td>0.000393</td>\n      <td>-0.000138</td>\n      <td>0.000369</td>\n      <td>0.002108</td>\n      <td>2022-10-14 18:24:31.7241840</td>\n      <td>1.665772e+09</td>\n      <td>rest_state</td>\n      <td>00039</td>\n      <td>during_rest_state</td>\n    </tr>\n    <tr>\n      <th>3</th>\n      <td>1559</td>\n      <td>0.004450</td>\n      <td>0.003658</td>\n      <td>0.012233</td>\n      <td>0.012012</td>\n      <td>0.008029</td>\n      <td>0.008256</td>\n      <td>0.004502</td>\n      <td>0.002775</td>\n      <td>0.001732</td>\n      <td>...</td>\n      <td>0.020810</td>\n      <td>0.000933</td>\n      <td>-0.000585</td>\n      <td>0.000876</td>\n      <td>0.004249</td>\n      <td>2022-10-14 18:24:31.8224876</td>\n      <td>1.665772e+09</td>\n      <td>rest_state</td>\n      <td>00039</td>\n      <td>during_rest_state</td>\n    </tr>\n    <tr>\n      <th>4</th>\n      <td>1560</td>\n      <td>0.008317</td>\n      <td>0.006745</td>\n      <td>0.023478</td>\n      <td>0.022713</td>\n      <td>0.015101</td>\n      <td>0.015544</td>\n      <td>0.008407</td>\n      <td>0.005073</td>\n      <td>0.003101</td>\n      <td>...</td>\n      <td>0.037460</td>\n      <td>0.001788</td>\n      <td>-0.001263</td>\n      <td>0.001677</td>\n      <td>0.007402</td>\n      <td>2022-10-14 18:24:31.9207909</td>\n      <td>1.665772e+09</td>\n      <td>rest_state</td>\n      <td>00039</td>\n      <td>during_rest_state</td>\n    </tr>\n  </tbody>\n</table>\n<p>5 rows × 46 columns</p>\n</div>"
     },
     "execution_count": 8,
     "metadata": {},
     "output_type": "execute_result"
    }
   ],
   "source": [
    "rest_state.rest_state_physio['lion'].head()"
   ],
   "metadata": {
    "collapsed": false
   }
  },
  {
   "cell_type": "code",
   "execution_count": 9,
   "outputs": [
    {
     "data": {
      "text/plain": "      Unnamed: 0  S1-D1_HbO  S1-D2_HbO  S2-D1_HbO  S2-D3_HbO  S3-D1_HbO   \n3063        4619  -0.423611  -0.459640  -0.526331  -0.742629  -0.692869  \\\n3064        4620  -0.415259  -0.462220  -0.511487  -0.722209  -0.682669   \n3065        4621  -0.406313  -0.463763  -0.497642  -0.702563  -0.672680   \n3066        4622  -0.396945  -0.464422  -0.484958  -0.683868  -0.662918   \n3067        4623  -0.387257  -0.464251  -0.473479  -0.666100  -0.653177   \n\n      S3-D3_HbO  S3-D4_HbO  S4-D2_HbO  S4-D4_HbO  ...  S6-D7_HbR  S7-D5_HbR   \n3063  -0.768932  -0.484989  -0.494947  -0.576680  ...  -0.242376  -0.109337  \\\n3064  -0.748481  -0.493779  -0.503978  -0.590543  ...  -0.253244  -0.110709   \n3065  -0.727973  -0.501861  -0.512447  -0.603304  ...  -0.261552  -0.111941   \n3066  -0.707654  -0.509246  -0.520333  -0.614958  ...  -0.267287  -0.113061   \n3067  -0.687623  -0.515849  -0.527493  -0.625409  ...  -0.269996  -0.114099   \n\n      S7-D7_HbR  S8-D6_HbR  S8-D7_HbR          human_readable_time   \n3063  -0.019138  -0.050657  -0.025289  2022-10-14 18:29:32.6311240  \\\n3064  -0.018478  -0.050334  -0.024781  2022-10-14 18:29:32.7294276   \n3065  -0.017799  -0.050118  -0.025823  2022-10-14 18:29:32.8277309   \n3066  -0.017037  -0.050015  -0.028546  2022-10-14 18:29:32.9260345   \n3067  -0.016032  -0.050030  -0.032594  2022-10-14 18:29:33.0243380   \n\n         unix_time  event_type  participant_id        task_status  \n3063  1.665772e+09  rest_state           00039  during_rest_state  \n3064  1.665772e+09  rest_state           00039  during_rest_state  \n3065  1.665772e+09  rest_state           00039  during_rest_state  \n3066  1.665772e+09  rest_state           00039  during_rest_state  \n3067  1.665772e+09  rest_state           00039  during_rest_state  \n\n[5 rows x 46 columns]",
      "text/html": "<div>\n<style scoped>\n    .dataframe tbody tr th:only-of-type {\n        vertical-align: middle;\n    }\n\n    .dataframe tbody tr th {\n        vertical-align: top;\n    }\n\n    .dataframe thead th {\n        text-align: right;\n    }\n</style>\n<table border=\"1\" class=\"dataframe\">\n  <thead>\n    <tr style=\"text-align: right;\">\n      <th></th>\n      <th>Unnamed: 0</th>\n      <th>S1-D1_HbO</th>\n      <th>S1-D2_HbO</th>\n      <th>S2-D1_HbO</th>\n      <th>S2-D3_HbO</th>\n      <th>S3-D1_HbO</th>\n      <th>S3-D3_HbO</th>\n      <th>S3-D4_HbO</th>\n      <th>S4-D2_HbO</th>\n      <th>S4-D4_HbO</th>\n      <th>...</th>\n      <th>S6-D7_HbR</th>\n      <th>S7-D5_HbR</th>\n      <th>S7-D7_HbR</th>\n      <th>S8-D6_HbR</th>\n      <th>S8-D7_HbR</th>\n      <th>human_readable_time</th>\n      <th>unix_time</th>\n      <th>event_type</th>\n      <th>participant_id</th>\n      <th>task_status</th>\n    </tr>\n  </thead>\n  <tbody>\n    <tr>\n      <th>3063</th>\n      <td>4619</td>\n      <td>-0.423611</td>\n      <td>-0.459640</td>\n      <td>-0.526331</td>\n      <td>-0.742629</td>\n      <td>-0.692869</td>\n      <td>-0.768932</td>\n      <td>-0.484989</td>\n      <td>-0.494947</td>\n      <td>-0.576680</td>\n      <td>...</td>\n      <td>-0.242376</td>\n      <td>-0.109337</td>\n      <td>-0.019138</td>\n      <td>-0.050657</td>\n      <td>-0.025289</td>\n      <td>2022-10-14 18:29:32.6311240</td>\n      <td>1.665772e+09</td>\n      <td>rest_state</td>\n      <td>00039</td>\n      <td>during_rest_state</td>\n    </tr>\n    <tr>\n      <th>3064</th>\n      <td>4620</td>\n      <td>-0.415259</td>\n      <td>-0.462220</td>\n      <td>-0.511487</td>\n      <td>-0.722209</td>\n      <td>-0.682669</td>\n      <td>-0.748481</td>\n      <td>-0.493779</td>\n      <td>-0.503978</td>\n      <td>-0.590543</td>\n      <td>...</td>\n      <td>-0.253244</td>\n      <td>-0.110709</td>\n      <td>-0.018478</td>\n      <td>-0.050334</td>\n      <td>-0.024781</td>\n      <td>2022-10-14 18:29:32.7294276</td>\n      <td>1.665772e+09</td>\n      <td>rest_state</td>\n      <td>00039</td>\n      <td>during_rest_state</td>\n    </tr>\n    <tr>\n      <th>3065</th>\n      <td>4621</td>\n      <td>-0.406313</td>\n      <td>-0.463763</td>\n      <td>-0.497642</td>\n      <td>-0.702563</td>\n      <td>-0.672680</td>\n      <td>-0.727973</td>\n      <td>-0.501861</td>\n      <td>-0.512447</td>\n      <td>-0.603304</td>\n      <td>...</td>\n      <td>-0.261552</td>\n      <td>-0.111941</td>\n      <td>-0.017799</td>\n      <td>-0.050118</td>\n      <td>-0.025823</td>\n      <td>2022-10-14 18:29:32.8277309</td>\n      <td>1.665772e+09</td>\n      <td>rest_state</td>\n      <td>00039</td>\n      <td>during_rest_state</td>\n    </tr>\n    <tr>\n      <th>3066</th>\n      <td>4622</td>\n      <td>-0.396945</td>\n      <td>-0.464422</td>\n      <td>-0.484958</td>\n      <td>-0.683868</td>\n      <td>-0.662918</td>\n      <td>-0.707654</td>\n      <td>-0.509246</td>\n      <td>-0.520333</td>\n      <td>-0.614958</td>\n      <td>...</td>\n      <td>-0.267287</td>\n      <td>-0.113061</td>\n      <td>-0.017037</td>\n      <td>-0.050015</td>\n      <td>-0.028546</td>\n      <td>2022-10-14 18:29:32.9260345</td>\n      <td>1.665772e+09</td>\n      <td>rest_state</td>\n      <td>00039</td>\n      <td>during_rest_state</td>\n    </tr>\n    <tr>\n      <th>3067</th>\n      <td>4623</td>\n      <td>-0.387257</td>\n      <td>-0.464251</td>\n      <td>-0.473479</td>\n      <td>-0.666100</td>\n      <td>-0.653177</td>\n      <td>-0.687623</td>\n      <td>-0.515849</td>\n      <td>-0.527493</td>\n      <td>-0.625409</td>\n      <td>...</td>\n      <td>-0.269996</td>\n      <td>-0.114099</td>\n      <td>-0.016032</td>\n      <td>-0.050030</td>\n      <td>-0.032594</td>\n      <td>2022-10-14 18:29:33.0243380</td>\n      <td>1.665772e+09</td>\n      <td>rest_state</td>\n      <td>00039</td>\n      <td>during_rest_state</td>\n    </tr>\n  </tbody>\n</table>\n<p>5 rows × 46 columns</p>\n</div>"
     },
     "execution_count": 9,
     "metadata": {},
     "output_type": "execute_result"
    }
   ],
   "source": [
    "rest_state.rest_state_physio['lion'].tail()"
   ],
   "metadata": {
    "collapsed": false
   }
  }
 ],
 "metadata": {
  "kernelspec": {
   "display_name": "Python 3",
   "language": "python",
   "name": "python3"
  },
  "language_info": {
   "codemirror_mode": {
    "name": "ipython",
    "version": 2
   },
   "file_extension": ".py",
   "mimetype": "text/x-python",
   "name": "python",
   "nbconvert_exporter": "python",
   "pygments_lexer": "ipython2",
   "version": "2.7.6"
  }
 },
 "nbformat": 4,
 "nbformat_minor": 0
}
