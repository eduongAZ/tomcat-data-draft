{
 "cells": [
  {
   "cell_type": "code",
   "execution_count": 1,
   "outputs": [],
   "source": [
    "from utils import read_csv_file, read_json_file\n",
    "from tasks import RestState"
   ],
   "metadata": {
    "collapsed": false
   }
  },
  {
   "cell_type": "code",
   "execution_count": 2,
   "metadata": {
    "collapsed": true
   },
   "outputs": [
    {
     "name": "stdout",
     "output_type": "stream",
     "text": [
      "0       0.000087\n",
      "1       0.000576\n",
      "2       0.001916\n",
      "3       0.004450\n",
      "4       0.008317\n",
      "          ...   \n",
      "3063   -0.423611\n",
      "3064   -0.415259\n",
      "3065   -0.406313\n",
      "3066   -0.396945\n",
      "3067   -0.387257\n",
      "Name: S1-D1_HbO, Length: 3068, dtype: float64\n"
     ]
    }
   ],
   "source": [
    "# Assuming you have a CSV file named 'data.csv' in the same directory as your Python script\n",
    "csv_file_path = '/Users/ericduong/Documents/ToMCAT/tomcat-data-draft/data/organized/physio_data/exp_sample/lion/NIRS_filtered_rest_state.csv'\n",
    "\n",
    "# Read the CSV file\n",
    "data_frame = read_csv_file(csv_file_path, '\\t')\n",
    "\n",
    "# Get the 'S1-D1_HbO' column\n",
    "column_data = data_frame['S1-D1_HbO']\n",
    "\n",
    "# Print the column data\n",
    "print(column_data)"
   ]
  },
  {
   "cell_type": "code",
   "execution_count": 3,
   "outputs": [
    {
     "name": "stdout",
     "output_type": "stream",
     "text": [
      "{'participant_ids': {'lion': '00039', 'tiger': '00041', 'leopard': '00044'}}\n"
     ]
    }
   ],
   "source": [
    "# Assuming you have a JSON file named 'data.json' in the same directory as your Python script\n",
    "json_file_path = '/Users/ericduong/Documents/ToMCAT/tomcat-data-draft/data/organized/metadata/exp_sample/metadata.json'\n",
    "\n",
    "# Read the JSON file\n",
    "json_data = read_json_file(json_file_path)\n",
    "\n",
    "# Print the JSON data\n",
    "print(json_data)"
   ],
   "metadata": {
    "collapsed": false
   }
  },
  {
   "cell_type": "code",
   "execution_count": 4,
   "outputs": [],
   "source": [
    "metadata_path = '/Users/ericduong/Documents/ToMCAT/tomcat-data-draft/data/organized/metadata/exp_sample/metadata.json'\n",
    "rest_state_csv_path = '/Users/ericduong/Documents/ToMCAT/tomcat-data-draft/data/raw/tasks/exp_2022_10_14_10/rest_state/1665771871.csv'\n",
    "rest_state_physio_directory = '/Users/ericduong/Documents/ToMCAT/tomcat-data-draft/data/organized/physio_data/exp_sample'\n",
    "\n",
    "rest_state = RestState.from_files(\n",
    "    metadata_path,\n",
    "    rest_state_csv_path,\n",
    "    rest_state_physio_directory\n",
    ")"
   ],
   "metadata": {
    "collapsed": false
   }
  },
  {
   "cell_type": "code",
   "execution_count": 5,
   "outputs": [
    {
     "data": {
      "text/plain": "{'lion': '00039', 'tiger': '00041', 'leopard': '00044'}"
     },
     "execution_count": 5,
     "metadata": {},
     "output_type": "execute_result"
    }
   ],
   "source": [
    "rest_state.participant_ids"
   ],
   "metadata": {
    "collapsed": false
   }
  },
  {
   "cell_type": "code",
   "execution_count": 7,
   "outputs": [
    {
     "data": {
      "text/plain": "           time  monotonic_time          human_readable_time        event_type\n0  1.665772e+09   262427.892023  2022-10-14T18:24:31.514913Z  start_rest_state\n1  1.665772e+09   262729.433296  2022-10-14T18:29:33.056185Z    end_rest_state",
      "text/html": "<div>\n<style scoped>\n    .dataframe tbody tr th:only-of-type {\n        vertical-align: middle;\n    }\n\n    .dataframe tbody tr th {\n        vertical-align: top;\n    }\n\n    .dataframe thead th {\n        text-align: right;\n    }\n</style>\n<table border=\"1\" class=\"dataframe\">\n  <thead>\n    <tr style=\"text-align: right;\">\n      <th></th>\n      <th>time</th>\n      <th>monotonic_time</th>\n      <th>human_readable_time</th>\n      <th>event_type</th>\n    </tr>\n  </thead>\n  <tbody>\n    <tr>\n      <th>0</th>\n      <td>1.665772e+09</td>\n      <td>262427.892023</td>\n      <td>2022-10-14T18:24:31.514913Z</td>\n      <td>start_rest_state</td>\n    </tr>\n    <tr>\n      <th>1</th>\n      <td>1.665772e+09</td>\n      <td>262729.433296</td>\n      <td>2022-10-14T18:29:33.056185Z</td>\n      <td>end_rest_state</td>\n    </tr>\n  </tbody>\n</table>\n</div>"
     },
     "execution_count": 7,
     "metadata": {},
     "output_type": "execute_result"
    }
   ],
   "source": [
    "rest_state.rest_state_task_df.head()"
   ],
   "metadata": {
    "collapsed": false
   }
  },
  {
   "cell_type": "code",
   "execution_count": null,
   "outputs": [],
   "source": [],
   "metadata": {
    "collapsed": false
   }
  }
 ],
 "metadata": {
  "kernelspec": {
   "display_name": "Python 3",
   "language": "python",
   "name": "python3"
  },
  "language_info": {
   "codemirror_mode": {
    "name": "ipython",
    "version": 2
   },
   "file_extension": ".py",
   "mimetype": "text/x-python",
   "name": "python",
   "nbconvert_exporter": "python",
   "pygments_lexer": "ipython2",
   "version": "2.7.6"
  }
 },
 "nbformat": 4,
 "nbformat_minor": 0
}
