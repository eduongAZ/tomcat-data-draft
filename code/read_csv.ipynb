{
 "cells": [
  {
   "cell_type": "code",
   "execution_count": 1,
   "outputs": [],
   "source": [
    "from tasks import RestState, FingerTapping, AffectiveTaskIndividual, AffectiveTaskTeam, \\\n",
    "    PingPongCompetitive, PingPongCooperative, Minecraft"
   ],
   "metadata": {
    "collapsed": false,
    "ExecuteTime": {
     "end_time": "2023-06-01T23:32:13.252339Z",
     "start_time": "2023-06-01T23:32:13.064812Z"
    }
   }
  },
  {
   "cell_type": "code",
   "execution_count": 2,
   "outputs": [],
   "source": [
    "metadata_path = '/Users/ericduong/Documents/ToMCAT/tomcat-data-draft/data/organized/metadata/exp_sample/metadata.json'\n",
    "rest_state_csv_path = '/Users/ericduong/Documents/ToMCAT/tomcat-data-draft/data/raw/tasks/exp_2022_10_14_10/rest_state/1665771871.csv'\n",
    "rest_state_physio_dir = '/Users/ericduong/Documents/ToMCAT/tomcat-data-draft/data/separated/physio_data/exp_2022_10_14_10'\n",
    "rest_state_physio_name_filepath = {\n",
    "    \"lion\": rest_state_physio_dir + \"/lion_nirs_rest_state.csv\",\n",
    "    \"tiger\": rest_state_physio_dir + \"/tiger_nirs_rest_state.csv\",\n",
    "    \"leopard\": rest_state_physio_dir + \"/leopard_nirs_rest_state.csv\",\n",
    "}\n",
    "\n",
    "rest_state = RestState.from_files(\n",
    "    metadata_path,\n",
    "    rest_state_csv_path,\n",
    "    rest_state_physio_name_filepath\n",
    ")"
   ],
   "metadata": {
    "collapsed": false,
    "ExecuteTime": {
     "end_time": "2023-06-01T17:09:25.468920Z",
     "start_time": "2023-06-01T17:09:15.230758Z"
    }
   }
  },
  {
   "cell_type": "code",
   "execution_count": 3,
   "outputs": [
    {
     "data": {
      "text/plain": "             00039_S1_D1_HbO 00039_S1_D2_HbO 00039_S2_D1_HbO 00039_S2_D3_HbO   \nunix_time                                                                      \n1.665772e+09             NaN             NaN             NaN             NaN  \\\n1.665772e+09        0.000512        0.000433        0.001386        0.001362   \n1.665772e+09        0.001743        0.001454        0.004714        0.004665   \n1.665772e+09        0.004122        0.003392         0.01132        0.011121   \n1.665772e+09        0.007816        0.006345        0.022021        0.021326   \n...                      ...             ...             ...             ...   \n1.665772e+09         -0.4209       -0.460478       -0.521512       -0.735999   \n1.665772e+09       -0.412356       -0.462721       -0.506995       -0.715834   \n1.665772e+09       -0.403275       -0.463976       -0.493529         -0.6965   \n1.665772e+09       -0.393805       -0.464367       -0.481237       -0.678109   \n1.665772e+09             NaN             NaN             NaN             NaN   \n\n             00039_S3_D1_HbO 00039_S3_D3_HbO 00039_S3_D4_HbO 00039_S4_D2_HbO   \nunix_time                                                                      \n1.665772e+09             NaN             NaN             NaN             NaN  \\\n1.665772e+09        0.000895        0.000936        0.000516        0.000326   \n1.665772e+09         0.00311        0.003209        0.001762        0.001103   \n1.665772e+09        0.007433        0.007644         0.00417        0.002573   \n1.665772e+09        0.014184        0.014599        0.007901        0.004775   \n...                      ...             ...             ...             ...   \n1.665772e+09       -0.689558       -0.762293       -0.487842       -0.497879   \n1.665772e+09       -0.679428       -0.741827       -0.496401       -0.506726   \n1.665772e+09       -0.669514       -0.721384       -0.504256       -0.515004   \n1.665772e+09        -0.65976       -0.701162       -0.511386       -0.522653   \n1.665772e+09             NaN             NaN             NaN             NaN   \n\n             00039_S4_D4_HbO 00039_S4_D5_HbO  ... 00044_S5_D4_HbR   \nunix_time                                     ...                   \n1.665772e+09             NaN             NaN  ...             NaN  \\\n1.665772e+09        0.000209        -0.00015  ...        0.000045   \n1.665772e+09        0.000699       -0.000558  ...         0.00017   \n1.665772e+09        0.001607       -0.001464  ...        0.000432   \n1.665772e+09        0.002924       -0.003118  ...        0.000863   \n...                      ...             ...  ...             ...   \n1.665772e+09        -0.58118       -0.457315  ...       -0.022558   \n1.665772e+09       -0.594684       -0.467316  ...       -0.022148   \n1.665772e+09       -0.607083       -0.475653  ...       -0.021589   \n1.665772e+09       -0.618345       -0.482347  ...       -0.020894   \n1.665772e+09             NaN             NaN  ...             NaN   \n\n             00044_S5_D6_HbR 00044_S6_D4_HbR 00044_S6_D6_HbR 00044_S6_D7_HbR   \nunix_time                                                                      \n1.665772e+09             NaN             NaN             NaN             NaN  \\\n1.665772e+09        0.000281        0.000031        0.000106        0.000022   \n1.665772e+09         0.00098        0.000105        0.000369        0.000075   \n1.665772e+09         0.00239        0.000245          0.0009        0.000189   \n1.665772e+09        0.004698        0.000461        0.001763        0.000393   \n...                      ...             ...             ...             ...   \n1.665772e+09       -0.052004        -0.02413       -0.032173       -0.029297   \n1.665772e+09       -0.051794       -0.024976       -0.031802       -0.030653   \n1.665772e+09       -0.051505       -0.025773       -0.031335       -0.032054   \n1.665772e+09       -0.051122       -0.026513       -0.030772       -0.033493   \n1.665772e+09             NaN             NaN             NaN             NaN   \n\n             00044_S7_D5_HbR 00044_S7_D7_HbR 00044_S8_D6_HbR 00044_S8_D7_HbR   \nunix_time                                                                      \n1.665772e+09             NaN             NaN             NaN             NaN  \\\n1.665772e+09       -0.000194        0.000057         0.00011        0.000128   \n1.665772e+09       -0.000671        0.000201        0.000388        0.000449   \n1.665772e+09       -0.001627        0.000501         0.00095        0.001108   \n1.665772e+09        -0.00318         0.00101        0.001873        0.002207   \n...                      ...             ...             ...             ...   \n1.665772e+09        -0.01403       -0.029251       -0.069668       -0.026699   \n1.665772e+09       -0.013768       -0.029875       -0.069469       -0.026991   \n1.665772e+09       -0.013519       -0.030523       -0.069147       -0.027292   \n1.665772e+09       -0.013282       -0.031197       -0.068704       -0.027595   \n1.665772e+09             NaN             NaN             NaN             NaN   \n\n                    task_status  \nunix_time                        \n1.665772e+09  during_rest_state  \n1.665772e+09  during_rest_state  \n1.665772e+09  during_rest_state  \n1.665772e+09  during_rest_state  \n1.665772e+09  during_rest_state  \n...                         ...  \n1.665772e+09  during_rest_state  \n1.665772e+09  during_rest_state  \n1.665772e+09  during_rest_state  \n1.665772e+09  during_rest_state  \n1.665772e+09  during_rest_state  \n\n[3069 rows x 121 columns]",
      "text/html": "<div>\n<style scoped>\n    .dataframe tbody tr th:only-of-type {\n        vertical-align: middle;\n    }\n\n    .dataframe tbody tr th {\n        vertical-align: top;\n    }\n\n    .dataframe thead th {\n        text-align: right;\n    }\n</style>\n<table border=\"1\" class=\"dataframe\">\n  <thead>\n    <tr style=\"text-align: right;\">\n      <th></th>\n      <th>00039_S1_D1_HbO</th>\n      <th>00039_S1_D2_HbO</th>\n      <th>00039_S2_D1_HbO</th>\n      <th>00039_S2_D3_HbO</th>\n      <th>00039_S3_D1_HbO</th>\n      <th>00039_S3_D3_HbO</th>\n      <th>00039_S3_D4_HbO</th>\n      <th>00039_S4_D2_HbO</th>\n      <th>00039_S4_D4_HbO</th>\n      <th>00039_S4_D5_HbO</th>\n      <th>...</th>\n      <th>00044_S5_D4_HbR</th>\n      <th>00044_S5_D6_HbR</th>\n      <th>00044_S6_D4_HbR</th>\n      <th>00044_S6_D6_HbR</th>\n      <th>00044_S6_D7_HbR</th>\n      <th>00044_S7_D5_HbR</th>\n      <th>00044_S7_D7_HbR</th>\n      <th>00044_S8_D6_HbR</th>\n      <th>00044_S8_D7_HbR</th>\n      <th>task_status</th>\n    </tr>\n    <tr>\n      <th>unix_time</th>\n      <th></th>\n      <th></th>\n      <th></th>\n      <th></th>\n      <th></th>\n      <th></th>\n      <th></th>\n      <th></th>\n      <th></th>\n      <th></th>\n      <th></th>\n      <th></th>\n      <th></th>\n      <th></th>\n      <th></th>\n      <th></th>\n      <th></th>\n      <th></th>\n      <th></th>\n      <th></th>\n      <th></th>\n    </tr>\n  </thead>\n  <tbody>\n    <tr>\n      <th>1.665772e+09</th>\n      <td>NaN</td>\n      <td>NaN</td>\n      <td>NaN</td>\n      <td>NaN</td>\n      <td>NaN</td>\n      <td>NaN</td>\n      <td>NaN</td>\n      <td>NaN</td>\n      <td>NaN</td>\n      <td>NaN</td>\n      <td>...</td>\n      <td>NaN</td>\n      <td>NaN</td>\n      <td>NaN</td>\n      <td>NaN</td>\n      <td>NaN</td>\n      <td>NaN</td>\n      <td>NaN</td>\n      <td>NaN</td>\n      <td>NaN</td>\n      <td>during_rest_state</td>\n    </tr>\n    <tr>\n      <th>1.665772e+09</th>\n      <td>0.000512</td>\n      <td>0.000433</td>\n      <td>0.001386</td>\n      <td>0.001362</td>\n      <td>0.000895</td>\n      <td>0.000936</td>\n      <td>0.000516</td>\n      <td>0.000326</td>\n      <td>0.000209</td>\n      <td>-0.00015</td>\n      <td>...</td>\n      <td>0.000045</td>\n      <td>0.000281</td>\n      <td>0.000031</td>\n      <td>0.000106</td>\n      <td>0.000022</td>\n      <td>-0.000194</td>\n      <td>0.000057</td>\n      <td>0.00011</td>\n      <td>0.000128</td>\n      <td>during_rest_state</td>\n    </tr>\n    <tr>\n      <th>1.665772e+09</th>\n      <td>0.001743</td>\n      <td>0.001454</td>\n      <td>0.004714</td>\n      <td>0.004665</td>\n      <td>0.00311</td>\n      <td>0.003209</td>\n      <td>0.001762</td>\n      <td>0.001103</td>\n      <td>0.000699</td>\n      <td>-0.000558</td>\n      <td>...</td>\n      <td>0.00017</td>\n      <td>0.00098</td>\n      <td>0.000105</td>\n      <td>0.000369</td>\n      <td>0.000075</td>\n      <td>-0.000671</td>\n      <td>0.000201</td>\n      <td>0.000388</td>\n      <td>0.000449</td>\n      <td>during_rest_state</td>\n    </tr>\n    <tr>\n      <th>1.665772e+09</th>\n      <td>0.004122</td>\n      <td>0.003392</td>\n      <td>0.01132</td>\n      <td>0.011121</td>\n      <td>0.007433</td>\n      <td>0.007644</td>\n      <td>0.00417</td>\n      <td>0.002573</td>\n      <td>0.001607</td>\n      <td>-0.001464</td>\n      <td>...</td>\n      <td>0.000432</td>\n      <td>0.00239</td>\n      <td>0.000245</td>\n      <td>0.0009</td>\n      <td>0.000189</td>\n      <td>-0.001627</td>\n      <td>0.000501</td>\n      <td>0.00095</td>\n      <td>0.001108</td>\n      <td>during_rest_state</td>\n    </tr>\n    <tr>\n      <th>1.665772e+09</th>\n      <td>0.007816</td>\n      <td>0.006345</td>\n      <td>0.022021</td>\n      <td>0.021326</td>\n      <td>0.014184</td>\n      <td>0.014599</td>\n      <td>0.007901</td>\n      <td>0.004775</td>\n      <td>0.002924</td>\n      <td>-0.003118</td>\n      <td>...</td>\n      <td>0.000863</td>\n      <td>0.004698</td>\n      <td>0.000461</td>\n      <td>0.001763</td>\n      <td>0.000393</td>\n      <td>-0.00318</td>\n      <td>0.00101</td>\n      <td>0.001873</td>\n      <td>0.002207</td>\n      <td>during_rest_state</td>\n    </tr>\n    <tr>\n      <th>...</th>\n      <td>...</td>\n      <td>...</td>\n      <td>...</td>\n      <td>...</td>\n      <td>...</td>\n      <td>...</td>\n      <td>...</td>\n      <td>...</td>\n      <td>...</td>\n      <td>...</td>\n      <td>...</td>\n      <td>...</td>\n      <td>...</td>\n      <td>...</td>\n      <td>...</td>\n      <td>...</td>\n      <td>...</td>\n      <td>...</td>\n      <td>...</td>\n      <td>...</td>\n      <td>...</td>\n    </tr>\n    <tr>\n      <th>1.665772e+09</th>\n      <td>-0.4209</td>\n      <td>-0.460478</td>\n      <td>-0.521512</td>\n      <td>-0.735999</td>\n      <td>-0.689558</td>\n      <td>-0.762293</td>\n      <td>-0.487842</td>\n      <td>-0.497879</td>\n      <td>-0.58118</td>\n      <td>-0.457315</td>\n      <td>...</td>\n      <td>-0.022558</td>\n      <td>-0.052004</td>\n      <td>-0.02413</td>\n      <td>-0.032173</td>\n      <td>-0.029297</td>\n      <td>-0.01403</td>\n      <td>-0.029251</td>\n      <td>-0.069668</td>\n      <td>-0.026699</td>\n      <td>during_rest_state</td>\n    </tr>\n    <tr>\n      <th>1.665772e+09</th>\n      <td>-0.412356</td>\n      <td>-0.462721</td>\n      <td>-0.506995</td>\n      <td>-0.715834</td>\n      <td>-0.679428</td>\n      <td>-0.741827</td>\n      <td>-0.496401</td>\n      <td>-0.506726</td>\n      <td>-0.594684</td>\n      <td>-0.467316</td>\n      <td>...</td>\n      <td>-0.022148</td>\n      <td>-0.051794</td>\n      <td>-0.024976</td>\n      <td>-0.031802</td>\n      <td>-0.030653</td>\n      <td>-0.013768</td>\n      <td>-0.029875</td>\n      <td>-0.069469</td>\n      <td>-0.026991</td>\n      <td>during_rest_state</td>\n    </tr>\n    <tr>\n      <th>1.665772e+09</th>\n      <td>-0.403275</td>\n      <td>-0.463976</td>\n      <td>-0.493529</td>\n      <td>-0.6965</td>\n      <td>-0.669514</td>\n      <td>-0.721384</td>\n      <td>-0.504256</td>\n      <td>-0.515004</td>\n      <td>-0.607083</td>\n      <td>-0.475653</td>\n      <td>...</td>\n      <td>-0.021589</td>\n      <td>-0.051505</td>\n      <td>-0.025773</td>\n      <td>-0.031335</td>\n      <td>-0.032054</td>\n      <td>-0.013519</td>\n      <td>-0.030523</td>\n      <td>-0.069147</td>\n      <td>-0.027292</td>\n      <td>during_rest_state</td>\n    </tr>\n    <tr>\n      <th>1.665772e+09</th>\n      <td>-0.393805</td>\n      <td>-0.464367</td>\n      <td>-0.481237</td>\n      <td>-0.678109</td>\n      <td>-0.65976</td>\n      <td>-0.701162</td>\n      <td>-0.511386</td>\n      <td>-0.522653</td>\n      <td>-0.618345</td>\n      <td>-0.482347</td>\n      <td>...</td>\n      <td>-0.020894</td>\n      <td>-0.051122</td>\n      <td>-0.026513</td>\n      <td>-0.030772</td>\n      <td>-0.033493</td>\n      <td>-0.013282</td>\n      <td>-0.031197</td>\n      <td>-0.068704</td>\n      <td>-0.027595</td>\n      <td>during_rest_state</td>\n    </tr>\n    <tr>\n      <th>1.665772e+09</th>\n      <td>NaN</td>\n      <td>NaN</td>\n      <td>NaN</td>\n      <td>NaN</td>\n      <td>NaN</td>\n      <td>NaN</td>\n      <td>NaN</td>\n      <td>NaN</td>\n      <td>NaN</td>\n      <td>NaN</td>\n      <td>...</td>\n      <td>NaN</td>\n      <td>NaN</td>\n      <td>NaN</td>\n      <td>NaN</td>\n      <td>NaN</td>\n      <td>NaN</td>\n      <td>NaN</td>\n      <td>NaN</td>\n      <td>NaN</td>\n      <td>during_rest_state</td>\n    </tr>\n  </tbody>\n</table>\n<p>3069 rows × 121 columns</p>\n</div>"
     },
     "execution_count": 3,
     "metadata": {},
     "output_type": "execute_result"
    }
   ],
   "source": [
    "rest_state.rest_state_physio_task.head(n=4000)"
   ],
   "metadata": {
    "collapsed": false,
    "ExecuteTime": {
     "end_time": "2023-06-01T17:09:30.665642Z",
     "start_time": "2023-06-01T17:09:30.646447Z"
    }
   }
  },
  {
   "cell_type": "code",
   "execution_count": 4,
   "outputs": [],
   "source": [
    "output_dir = '/Users/ericduong/Documents/ToMCAT/tomcat-data-draft/data/processed/exp_2022_10_14_10'\n",
    "rest_state.write_physio_data_csv(output_dir)"
   ],
   "metadata": {
    "collapsed": false,
    "ExecuteTime": {
     "end_time": "2023-06-01T17:15:47.487777Z",
     "start_time": "2023-06-01T17:15:47.255774Z"
    }
   }
  },
  {
   "cell_type": "code",
   "execution_count": 2,
   "outputs": [],
   "source": [
    "metadata_path = '/Users/ericduong/Documents/ToMCAT/tomcat-data-draft/data/organized/metadata/exp_sample/metadata.json'\n",
    "finger_tapping_csv_path = '/Users/ericduong/Documents/ToMCAT/tomcat-data-draft/data/raw/tasks/exp_2022_10_14_10/finger_tapping/1665772238.csv'\n",
    "finger_tapping_physio_dir = '/Users/ericduong/Documents/ToMCAT/tomcat-data-draft/data/separated/physio_data/exp_2022_10_14_10'\n",
    "finger_tapping_physio_name_filepath = {\n",
    "    \"lion\": finger_tapping_physio_dir + \"/lion_nirs_finger_tapping.csv\",\n",
    "    \"tiger\": finger_tapping_physio_dir + \"/tiger_nirs_finger_tapping.csv\",\n",
    "    \"leopard\": finger_tapping_physio_dir + \"/leopard_nirs_finger_tapping.csv\",\n",
    "}\n",
    "\n",
    "finger_tapping = FingerTapping.from_files(\n",
    "    metadata_path,\n",
    "    finger_tapping_csv_path,\n",
    "    finger_tapping_physio_name_filepath\n",
    ")"
   ],
   "metadata": {
    "collapsed": false
   }
  },
  {
   "cell_type": "code",
   "execution_count": 3,
   "outputs": [
    {
     "data": {
      "text/plain": "             00039_S1_D1_HbO 00039_S1_D2_HbO 00039_S2_D1_HbO 00039_S2_D3_HbO   \nunix_time                                                                      \n1.665772e+09             NaN             NaN             NaN             NaN  \\\n1.665772e+09       -0.003736        0.188011        0.443456        0.419798   \n1.665772e+09       -0.010612        0.192452        0.401214        0.394484   \n1.665772e+09       -0.018218        0.195991        0.358542        0.369359   \n1.665772e+09       -0.026497        0.198574        0.315254        0.344428   \n...                      ...             ...             ...             ...   \n1.665772e+09        0.223289        0.032826        0.899995        0.819681   \n1.665772e+09         0.22871        0.036853        0.907874        0.825781   \n1.665772e+09        0.234248        0.041006         0.91558        0.831849   \n1.665772e+09         0.23992         0.04541        0.923219        0.837915   \n1.665772e+09             NaN             NaN             NaN             NaN   \n\n             00039_S3_D1_HbO 00039_S3_D3_HbO 00039_S3_D4_HbO 00039_S4_D2_HbO   \nunix_time                                                                      \n1.665772e+09             NaN             NaN             NaN             NaN  \\\n1.665772e+09       -0.105309        0.059383       -0.231823       -0.181458   \n1.665772e+09       -0.114006        0.060383       -0.223071        -0.17568   \n1.665772e+09        -0.12356        0.060926       -0.215156       -0.170728   \n1.665772e+09       -0.133871        0.061037       -0.208098       -0.166651   \n...                      ...             ...             ...             ...   \n1.665772e+09        0.186491        0.238492        0.175265        0.222777   \n1.665772e+09        0.197525        0.242758        0.178287        0.225372   \n1.665772e+09        0.209469        0.247403        0.182011        0.228281   \n1.665772e+09        0.222337        0.252469        0.186469        0.231563   \n1.665772e+09             NaN             NaN             NaN             NaN   \n\n             00039_S4_D4_HbO 00039_S4_D5_HbO  ... 00044_S8_D6_HbR   \nunix_time                                     ...                   \n1.665772e+09             NaN             NaN  ...             NaN  \\\n1.665772e+09        -0.37854       -0.379459  ...        0.121953   \n1.665772e+09       -0.364534       -0.372055  ...        0.119896   \n1.665772e+09       -0.351282       -0.365298  ...        0.117768   \n1.665772e+09       -0.338802       -0.359204  ...        0.115568   \n...                      ...             ...  ...             ...   \n1.665772e+09        0.204529        0.417862  ...         0.02114   \n1.665772e+09        0.204084        0.420629  ...        0.022515   \n1.665772e+09        0.204619        0.424093  ...        0.023828   \n1.665772e+09        0.206173        0.428293  ...        0.025059   \n1.665772e+09             NaN             NaN  ...             NaN   \n\n             00044_S8_D7_HbR index monotonic_time   \nunix_time                                           \n1.665772e+09             NaN     0  262795.319963  \\\n1.665772e+09        0.027801     0  262795.319963   \n1.665772e+09         0.02776     0  262795.319963   \n1.665772e+09        0.027609     0  262795.319963   \n1.665772e+09        0.027348     0  262795.319963   \n...                      ...   ...            ...   \n1.665772e+09        0.032051  2471  262845.028581   \n1.665772e+09        0.032536  2477  262845.124499   \n1.665772e+09         0.03301  2483  262845.221477   \n1.665772e+09        0.033474  2489  262845.318402   \n1.665772e+09             NaN  2496  262845.431588   \n\n                      human_readable_time                event_type   \nunix_time                                                             \n1.665772e+09  2022-10-14T18:30:38.942852Z  start_fingertapping_task  \\\n1.665772e+09  2022-10-14T18:30:38.942852Z  start_fingertapping_task   \n1.665772e+09  2022-10-14T18:30:38.942852Z  start_fingertapping_task   \n1.665772e+09  2022-10-14T18:30:38.942852Z  start_fingertapping_task   \n1.665772e+09  2022-10-14T18:30:38.942852Z  start_fingertapping_task   \n...                                   ...                       ...   \n1.665772e+09  2022-10-14T18:31:28.651469Z                      team   \n1.665772e+09  2022-10-14T18:31:28.747387Z                      team   \n1.665772e+09  2022-10-14T18:31:28.844364Z                      team   \n1.665772e+09  2022-10-14T18:31:28.941291Z                      team   \n1.665772e+09  2022-10-14T18:31:29.054476Z                      team   \n\n             countdown_timer 00039 00041 00044  \nunix_time                                       \n1.665772e+09             NaN   NaN   NaN   NaN  \n1.665772e+09             NaN   NaN   NaN   NaN  \n1.665772e+09             NaN   NaN   NaN   NaN  \n1.665772e+09             NaN   NaN   NaN   NaN  \n1.665772e+09             NaN   NaN   NaN   NaN  \n...                      ...   ...   ...   ...  \n1.665772e+09             1.0   1.0   0.0   0.0  \n1.665772e+09             1.0   1.0   1.0   0.0  \n1.665772e+09             1.0   0.0   1.0   1.0  \n1.665772e+09             1.0   0.0   1.0   0.0  \n1.665772e+09             1.0   0.0   1.0   1.0  \n\n[511 rows x 128 columns]",
      "text/html": "<div>\n<style scoped>\n    .dataframe tbody tr th:only-of-type {\n        vertical-align: middle;\n    }\n\n    .dataframe tbody tr th {\n        vertical-align: top;\n    }\n\n    .dataframe thead th {\n        text-align: right;\n    }\n</style>\n<table border=\"1\" class=\"dataframe\">\n  <thead>\n    <tr style=\"text-align: right;\">\n      <th></th>\n      <th>00039_S1_D1_HbO</th>\n      <th>00039_S1_D2_HbO</th>\n      <th>00039_S2_D1_HbO</th>\n      <th>00039_S2_D3_HbO</th>\n      <th>00039_S3_D1_HbO</th>\n      <th>00039_S3_D3_HbO</th>\n      <th>00039_S3_D4_HbO</th>\n      <th>00039_S4_D2_HbO</th>\n      <th>00039_S4_D4_HbO</th>\n      <th>00039_S4_D5_HbO</th>\n      <th>...</th>\n      <th>00044_S8_D6_HbR</th>\n      <th>00044_S8_D7_HbR</th>\n      <th>index</th>\n      <th>monotonic_time</th>\n      <th>human_readable_time</th>\n      <th>event_type</th>\n      <th>countdown_timer</th>\n      <th>00039</th>\n      <th>00041</th>\n      <th>00044</th>\n    </tr>\n    <tr>\n      <th>unix_time</th>\n      <th></th>\n      <th></th>\n      <th></th>\n      <th></th>\n      <th></th>\n      <th></th>\n      <th></th>\n      <th></th>\n      <th></th>\n      <th></th>\n      <th></th>\n      <th></th>\n      <th></th>\n      <th></th>\n      <th></th>\n      <th></th>\n      <th></th>\n      <th></th>\n      <th></th>\n      <th></th>\n      <th></th>\n    </tr>\n  </thead>\n  <tbody>\n    <tr>\n      <th>1.665772e+09</th>\n      <td>NaN</td>\n      <td>NaN</td>\n      <td>NaN</td>\n      <td>NaN</td>\n      <td>NaN</td>\n      <td>NaN</td>\n      <td>NaN</td>\n      <td>NaN</td>\n      <td>NaN</td>\n      <td>NaN</td>\n      <td>...</td>\n      <td>NaN</td>\n      <td>NaN</td>\n      <td>0</td>\n      <td>262795.319963</td>\n      <td>2022-10-14T18:30:38.942852Z</td>\n      <td>start_fingertapping_task</td>\n      <td>NaN</td>\n      <td>NaN</td>\n      <td>NaN</td>\n      <td>NaN</td>\n    </tr>\n    <tr>\n      <th>1.665772e+09</th>\n      <td>-0.003736</td>\n      <td>0.188011</td>\n      <td>0.443456</td>\n      <td>0.419798</td>\n      <td>-0.105309</td>\n      <td>0.059383</td>\n      <td>-0.231823</td>\n      <td>-0.181458</td>\n      <td>-0.37854</td>\n      <td>-0.379459</td>\n      <td>...</td>\n      <td>0.121953</td>\n      <td>0.027801</td>\n      <td>0</td>\n      <td>262795.319963</td>\n      <td>2022-10-14T18:30:38.942852Z</td>\n      <td>start_fingertapping_task</td>\n      <td>NaN</td>\n      <td>NaN</td>\n      <td>NaN</td>\n      <td>NaN</td>\n    </tr>\n    <tr>\n      <th>1.665772e+09</th>\n      <td>-0.010612</td>\n      <td>0.192452</td>\n      <td>0.401214</td>\n      <td>0.394484</td>\n      <td>-0.114006</td>\n      <td>0.060383</td>\n      <td>-0.223071</td>\n      <td>-0.17568</td>\n      <td>-0.364534</td>\n      <td>-0.372055</td>\n      <td>...</td>\n      <td>0.119896</td>\n      <td>0.02776</td>\n      <td>0</td>\n      <td>262795.319963</td>\n      <td>2022-10-14T18:30:38.942852Z</td>\n      <td>start_fingertapping_task</td>\n      <td>NaN</td>\n      <td>NaN</td>\n      <td>NaN</td>\n      <td>NaN</td>\n    </tr>\n    <tr>\n      <th>1.665772e+09</th>\n      <td>-0.018218</td>\n      <td>0.195991</td>\n      <td>0.358542</td>\n      <td>0.369359</td>\n      <td>-0.12356</td>\n      <td>0.060926</td>\n      <td>-0.215156</td>\n      <td>-0.170728</td>\n      <td>-0.351282</td>\n      <td>-0.365298</td>\n      <td>...</td>\n      <td>0.117768</td>\n      <td>0.027609</td>\n      <td>0</td>\n      <td>262795.319963</td>\n      <td>2022-10-14T18:30:38.942852Z</td>\n      <td>start_fingertapping_task</td>\n      <td>NaN</td>\n      <td>NaN</td>\n      <td>NaN</td>\n      <td>NaN</td>\n    </tr>\n    <tr>\n      <th>1.665772e+09</th>\n      <td>-0.026497</td>\n      <td>0.198574</td>\n      <td>0.315254</td>\n      <td>0.344428</td>\n      <td>-0.133871</td>\n      <td>0.061037</td>\n      <td>-0.208098</td>\n      <td>-0.166651</td>\n      <td>-0.338802</td>\n      <td>-0.359204</td>\n      <td>...</td>\n      <td>0.115568</td>\n      <td>0.027348</td>\n      <td>0</td>\n      <td>262795.319963</td>\n      <td>2022-10-14T18:30:38.942852Z</td>\n      <td>start_fingertapping_task</td>\n      <td>NaN</td>\n      <td>NaN</td>\n      <td>NaN</td>\n      <td>NaN</td>\n    </tr>\n    <tr>\n      <th>...</th>\n      <td>...</td>\n      <td>...</td>\n      <td>...</td>\n      <td>...</td>\n      <td>...</td>\n      <td>...</td>\n      <td>...</td>\n      <td>...</td>\n      <td>...</td>\n      <td>...</td>\n      <td>...</td>\n      <td>...</td>\n      <td>...</td>\n      <td>...</td>\n      <td>...</td>\n      <td>...</td>\n      <td>...</td>\n      <td>...</td>\n      <td>...</td>\n      <td>...</td>\n      <td>...</td>\n    </tr>\n    <tr>\n      <th>1.665772e+09</th>\n      <td>0.223289</td>\n      <td>0.032826</td>\n      <td>0.899995</td>\n      <td>0.819681</td>\n      <td>0.186491</td>\n      <td>0.238492</td>\n      <td>0.175265</td>\n      <td>0.222777</td>\n      <td>0.204529</td>\n      <td>0.417862</td>\n      <td>...</td>\n      <td>0.02114</td>\n      <td>0.032051</td>\n      <td>2471</td>\n      <td>262845.028581</td>\n      <td>2022-10-14T18:31:28.651469Z</td>\n      <td>team</td>\n      <td>1.0</td>\n      <td>1.0</td>\n      <td>0.0</td>\n      <td>0.0</td>\n    </tr>\n    <tr>\n      <th>1.665772e+09</th>\n      <td>0.22871</td>\n      <td>0.036853</td>\n      <td>0.907874</td>\n      <td>0.825781</td>\n      <td>0.197525</td>\n      <td>0.242758</td>\n      <td>0.178287</td>\n      <td>0.225372</td>\n      <td>0.204084</td>\n      <td>0.420629</td>\n      <td>...</td>\n      <td>0.022515</td>\n      <td>0.032536</td>\n      <td>2477</td>\n      <td>262845.124499</td>\n      <td>2022-10-14T18:31:28.747387Z</td>\n      <td>team</td>\n      <td>1.0</td>\n      <td>1.0</td>\n      <td>1.0</td>\n      <td>0.0</td>\n    </tr>\n    <tr>\n      <th>1.665772e+09</th>\n      <td>0.234248</td>\n      <td>0.041006</td>\n      <td>0.91558</td>\n      <td>0.831849</td>\n      <td>0.209469</td>\n      <td>0.247403</td>\n      <td>0.182011</td>\n      <td>0.228281</td>\n      <td>0.204619</td>\n      <td>0.424093</td>\n      <td>...</td>\n      <td>0.023828</td>\n      <td>0.03301</td>\n      <td>2483</td>\n      <td>262845.221477</td>\n      <td>2022-10-14T18:31:28.844364Z</td>\n      <td>team</td>\n      <td>1.0</td>\n      <td>0.0</td>\n      <td>1.0</td>\n      <td>1.0</td>\n    </tr>\n    <tr>\n      <th>1.665772e+09</th>\n      <td>0.23992</td>\n      <td>0.04541</td>\n      <td>0.923219</td>\n      <td>0.837915</td>\n      <td>0.222337</td>\n      <td>0.252469</td>\n      <td>0.186469</td>\n      <td>0.231563</td>\n      <td>0.206173</td>\n      <td>0.428293</td>\n      <td>...</td>\n      <td>0.025059</td>\n      <td>0.033474</td>\n      <td>2489</td>\n      <td>262845.318402</td>\n      <td>2022-10-14T18:31:28.941291Z</td>\n      <td>team</td>\n      <td>1.0</td>\n      <td>0.0</td>\n      <td>1.0</td>\n      <td>0.0</td>\n    </tr>\n    <tr>\n      <th>1.665772e+09</th>\n      <td>NaN</td>\n      <td>NaN</td>\n      <td>NaN</td>\n      <td>NaN</td>\n      <td>NaN</td>\n      <td>NaN</td>\n      <td>NaN</td>\n      <td>NaN</td>\n      <td>NaN</td>\n      <td>NaN</td>\n      <td>...</td>\n      <td>NaN</td>\n      <td>NaN</td>\n      <td>2496</td>\n      <td>262845.431588</td>\n      <td>2022-10-14T18:31:29.054476Z</td>\n      <td>team</td>\n      <td>1.0</td>\n      <td>0.0</td>\n      <td>1.0</td>\n      <td>1.0</td>\n    </tr>\n  </tbody>\n</table>\n<p>511 rows × 128 columns</p>\n</div>"
     },
     "execution_count": 3,
     "metadata": {},
     "output_type": "execute_result"
    }
   ],
   "source": [
    "finger_tapping.finger_tapping_physio_task.head(n=1000)"
   ],
   "metadata": {
    "collapsed": false,
    "ExecuteTime": {
     "end_time": "2023-06-01T18:02:50.120452Z",
     "start_time": "2023-06-01T18:02:50.096862Z"
    }
   }
  },
  {
   "cell_type": "code",
   "execution_count": 4,
   "outputs": [],
   "source": [
    "output_dir = '/Users/ericduong/Documents/ToMCAT/tomcat-data-draft/data/processed/exp_2022_10_14_10'\n",
    "finger_tapping.write_physio_data_csv(output_dir)"
   ],
   "metadata": {
    "collapsed": false,
    "ExecuteTime": {
     "end_time": "2023-06-01T18:05:07.981970Z",
     "start_time": "2023-06-01T18:05:07.929834Z"
    }
   }
  },
  {
   "cell_type": "code",
   "execution_count": 2,
   "outputs": [],
   "source": [
    "lion_affective_task_individual_csv_path = '/Users/ericduong/Documents/ToMCAT/tomcat-data-draft/data/raw/tasks/exp_2022_10_14_10/affective/individual_00039_1665772393.csv'\n",
    "lion_affective_task_individual_physio_path = '/Users/ericduong/Documents/ToMCAT/tomcat-data-draft/data/separated/physio_data/exp_2022_10_14_10/lion_nirs_affective_task_individual.csv'\n",
    "\n",
    "affective_individual = AffectiveTaskIndividual.from_files(\n",
    "    \"00039\",\n",
    "    \"lion\",\n",
    "    lion_affective_task_individual_csv_path,\n",
    "    lion_affective_task_individual_physio_path\n",
    ")"
   ],
   "metadata": {
    "collapsed": false,
    "ExecuteTime": {
     "end_time": "2023-06-01T20:17:56.307979Z",
     "start_time": "2023-06-01T20:17:55.731618Z"
    }
   }
  },
  {
   "cell_type": "code",
   "execution_count": 4,
   "outputs": [
    {
     "data": {
      "text/plain": "             00039_S1_D1_HbO 00039_S1_D2_HbO 00039_S2_D1_HbO 00039_S2_D3_HbO   \nunix_time                                                                      \n1.665772e+09             NaN             NaN             NaN             NaN  \\\n1.665772e+09       -0.003631        0.289303       -0.306262       -0.444902   \n1.665772e+09       -0.031477        0.242813       -0.381204       -0.494813   \n1.665772e+09        -0.06043        0.194195       -0.440505       -0.536395   \n1.665772e+09       -0.089806        0.145595       -0.481173       -0.575828   \n...                      ...             ...             ...             ...   \n1.665773e+09       -0.039806         0.14069       -0.244144       -0.123875   \n1.665773e+09       -0.123956        0.113269       -0.411624       -0.225497   \n1.665773e+09       -0.200219        0.083203       -0.531628       -0.288891   \n1.665773e+09       -0.266407        0.049193       -0.600346       -0.321649   \n1.665773e+09             NaN             NaN             NaN             NaN   \n\n             00039_S3_D1_HbO 00039_S3_D3_HbO 00039_S3_D4_HbO 00039_S4_D2_HbO   \nunix_time                                                                      \n1.665772e+09             NaN             NaN             NaN             NaN  \\\n1.665772e+09        0.080305       -0.172226       -0.197634        0.094554   \n1.665772e+09        0.052515       -0.183836       -0.187253        0.068589   \n1.665772e+09        0.016241       -0.198643       -0.185145        0.033948   \n1.665772e+09       -0.018266       -0.217606       -0.192572       -0.009433   \n...                      ...             ...             ...             ...   \n1.665773e+09        0.258944        0.108215       -0.000793        0.045294   \n1.665773e+09        0.154007        0.034846       -0.047593        0.006481   \n1.665773e+09        0.055427       -0.021906       -0.094427        -0.02549   \n1.665773e+09       -0.033838       -0.064973       -0.139733       -0.053329   \n1.665773e+09             NaN             NaN             NaN             NaN   \n\n             00039_S4_D4_HbO 00039_S4_D5_HbO  ... 00039_S8_D7_HbR task_index   \nunix_time                                     ...                              \n1.665772e+09             NaN             NaN  ...             NaN        0.0  \\\n1.665772e+09       -0.023495        -0.02613  ...       -0.023205        NaN   \n1.665772e+09        0.008818       -0.024217  ...       -0.047817        NaN   \n1.665772e+09        0.028021       -0.030697  ...       -0.045488        NaN   \n1.665772e+09        0.028507       -0.048782  ...       -0.020611        NaN   \n...                      ...             ...  ...             ...        ...   \n1.665773e+09        0.066047        0.139528  ...       -0.046363       46.0   \n1.665773e+09        0.023778        0.060591  ...       -0.049034        NaN   \n1.665773e+09       -0.013366       -0.007297  ...       -0.052797        NaN   \n1.665773e+09       -0.048592       -0.066255  ...       -0.070657        NaN   \n1.665773e+09             NaN             NaN  ...             NaN       47.0   \n\n                                  task_time task_monotonic_time   \nunix_time                                                         \n1.665772e+09  2022-10-14 18:33:13.396552448       262949.773668  \\\n1.665772e+09                            NaN                 NaN   \n1.665772e+09                            NaN                 NaN   \n1.665772e+09                            NaN                 NaN   \n1.665772e+09                            NaN                 NaN   \n...                                     ...                 ...   \n1.665773e+09  2022-10-14 18:36:37.027527168       263153.404642   \n1.665773e+09                            NaN                 NaN   \n1.665773e+09                            NaN                 NaN   \n1.665773e+09                            NaN                 NaN   \n1.665773e+09  2022-10-14 18:36:38.448052992       263154.825167   \n\n                 task_human_readable_time    task_image_path task_subject_id   \nunix_time                                                                      \n1.665772e+09  2022-10-14T18:33:13.396561Z                NaN             NaN  \\\n1.665772e+09                          NaN                NaN             NaN   \n1.665772e+09                          NaN                NaN             NaN   \n1.665772e+09                          NaN                NaN             NaN   \n1.665772e+09                          NaN                NaN             NaN   \n...                                   ...                ...             ...   \n1.665773e+09  2022-10-14T18:36:37.027531Z  individual014.jpg            39.0   \n1.665773e+09                          NaN                NaN             NaN   \n1.665773e+09                          NaN                NaN             NaN   \n1.665773e+09                          NaN                NaN             NaN   \n1.665773e+09  2022-10-14T18:36:38.448057Z  individual014.jpg            39.0   \n\n             task_arousal_score task_valence_score         task_event_type  \nunix_time                                                                   \n1.665772e+09                NaN                NaN    start_affective_task  \n1.665772e+09                NaN                NaN                     NaN  \n1.665772e+09                NaN                NaN                     NaN  \n1.665772e+09                NaN                NaN                     NaN  \n1.665772e+09                NaN                NaN                     NaN  \n...                         ...                ...                     ...  \n1.665773e+09                NaN                0.0  intermediate_selection  \n1.665773e+09                NaN                NaN                     NaN  \n1.665773e+09                NaN                NaN                     NaN  \n1.665773e+09                NaN                NaN                     NaN  \n1.665773e+09                0.0                0.0        final_submission  \n\n[511 rows x 49 columns]",
      "text/html": "<div>\n<style scoped>\n    .dataframe tbody tr th:only-of-type {\n        vertical-align: middle;\n    }\n\n    .dataframe tbody tr th {\n        vertical-align: top;\n    }\n\n    .dataframe thead th {\n        text-align: right;\n    }\n</style>\n<table border=\"1\" class=\"dataframe\">\n  <thead>\n    <tr style=\"text-align: right;\">\n      <th></th>\n      <th>00039_S1_D1_HbO</th>\n      <th>00039_S1_D2_HbO</th>\n      <th>00039_S2_D1_HbO</th>\n      <th>00039_S2_D3_HbO</th>\n      <th>00039_S3_D1_HbO</th>\n      <th>00039_S3_D3_HbO</th>\n      <th>00039_S3_D4_HbO</th>\n      <th>00039_S4_D2_HbO</th>\n      <th>00039_S4_D4_HbO</th>\n      <th>00039_S4_D5_HbO</th>\n      <th>...</th>\n      <th>00039_S8_D7_HbR</th>\n      <th>task_index</th>\n      <th>task_time</th>\n      <th>task_monotonic_time</th>\n      <th>task_human_readable_time</th>\n      <th>task_image_path</th>\n      <th>task_subject_id</th>\n      <th>task_arousal_score</th>\n      <th>task_valence_score</th>\n      <th>task_event_type</th>\n    </tr>\n    <tr>\n      <th>unix_time</th>\n      <th></th>\n      <th></th>\n      <th></th>\n      <th></th>\n      <th></th>\n      <th></th>\n      <th></th>\n      <th></th>\n      <th></th>\n      <th></th>\n      <th></th>\n      <th></th>\n      <th></th>\n      <th></th>\n      <th></th>\n      <th></th>\n      <th></th>\n      <th></th>\n      <th></th>\n      <th></th>\n      <th></th>\n    </tr>\n  </thead>\n  <tbody>\n    <tr>\n      <th>1.665772e+09</th>\n      <td>NaN</td>\n      <td>NaN</td>\n      <td>NaN</td>\n      <td>NaN</td>\n      <td>NaN</td>\n      <td>NaN</td>\n      <td>NaN</td>\n      <td>NaN</td>\n      <td>NaN</td>\n      <td>NaN</td>\n      <td>...</td>\n      <td>NaN</td>\n      <td>0.0</td>\n      <td>2022-10-14 18:33:13.396552448</td>\n      <td>262949.773668</td>\n      <td>2022-10-14T18:33:13.396561Z</td>\n      <td>NaN</td>\n      <td>NaN</td>\n      <td>NaN</td>\n      <td>NaN</td>\n      <td>start_affective_task</td>\n    </tr>\n    <tr>\n      <th>1.665772e+09</th>\n      <td>-0.003631</td>\n      <td>0.289303</td>\n      <td>-0.306262</td>\n      <td>-0.444902</td>\n      <td>0.080305</td>\n      <td>-0.172226</td>\n      <td>-0.197634</td>\n      <td>0.094554</td>\n      <td>-0.023495</td>\n      <td>-0.02613</td>\n      <td>...</td>\n      <td>-0.023205</td>\n      <td>NaN</td>\n      <td>NaN</td>\n      <td>NaN</td>\n      <td>NaN</td>\n      <td>NaN</td>\n      <td>NaN</td>\n      <td>NaN</td>\n      <td>NaN</td>\n      <td>NaN</td>\n    </tr>\n    <tr>\n      <th>1.665772e+09</th>\n      <td>-0.031477</td>\n      <td>0.242813</td>\n      <td>-0.381204</td>\n      <td>-0.494813</td>\n      <td>0.052515</td>\n      <td>-0.183836</td>\n      <td>-0.187253</td>\n      <td>0.068589</td>\n      <td>0.008818</td>\n      <td>-0.024217</td>\n      <td>...</td>\n      <td>-0.047817</td>\n      <td>NaN</td>\n      <td>NaN</td>\n      <td>NaN</td>\n      <td>NaN</td>\n      <td>NaN</td>\n      <td>NaN</td>\n      <td>NaN</td>\n      <td>NaN</td>\n      <td>NaN</td>\n    </tr>\n    <tr>\n      <th>1.665772e+09</th>\n      <td>-0.06043</td>\n      <td>0.194195</td>\n      <td>-0.440505</td>\n      <td>-0.536395</td>\n      <td>0.016241</td>\n      <td>-0.198643</td>\n      <td>-0.185145</td>\n      <td>0.033948</td>\n      <td>0.028021</td>\n      <td>-0.030697</td>\n      <td>...</td>\n      <td>-0.045488</td>\n      <td>NaN</td>\n      <td>NaN</td>\n      <td>NaN</td>\n      <td>NaN</td>\n      <td>NaN</td>\n      <td>NaN</td>\n      <td>NaN</td>\n      <td>NaN</td>\n      <td>NaN</td>\n    </tr>\n    <tr>\n      <th>1.665772e+09</th>\n      <td>-0.089806</td>\n      <td>0.145595</td>\n      <td>-0.481173</td>\n      <td>-0.575828</td>\n      <td>-0.018266</td>\n      <td>-0.217606</td>\n      <td>-0.192572</td>\n      <td>-0.009433</td>\n      <td>0.028507</td>\n      <td>-0.048782</td>\n      <td>...</td>\n      <td>-0.020611</td>\n      <td>NaN</td>\n      <td>NaN</td>\n      <td>NaN</td>\n      <td>NaN</td>\n      <td>NaN</td>\n      <td>NaN</td>\n      <td>NaN</td>\n      <td>NaN</td>\n      <td>NaN</td>\n    </tr>\n    <tr>\n      <th>...</th>\n      <td>...</td>\n      <td>...</td>\n      <td>...</td>\n      <td>...</td>\n      <td>...</td>\n      <td>...</td>\n      <td>...</td>\n      <td>...</td>\n      <td>...</td>\n      <td>...</td>\n      <td>...</td>\n      <td>...</td>\n      <td>...</td>\n      <td>...</td>\n      <td>...</td>\n      <td>...</td>\n      <td>...</td>\n      <td>...</td>\n      <td>...</td>\n      <td>...</td>\n      <td>...</td>\n    </tr>\n    <tr>\n      <th>1.665773e+09</th>\n      <td>-0.039806</td>\n      <td>0.14069</td>\n      <td>-0.244144</td>\n      <td>-0.123875</td>\n      <td>0.258944</td>\n      <td>0.108215</td>\n      <td>-0.000793</td>\n      <td>0.045294</td>\n      <td>0.066047</td>\n      <td>0.139528</td>\n      <td>...</td>\n      <td>-0.046363</td>\n      <td>46.0</td>\n      <td>2022-10-14 18:36:37.027527168</td>\n      <td>263153.404642</td>\n      <td>2022-10-14T18:36:37.027531Z</td>\n      <td>individual014.jpg</td>\n      <td>39.0</td>\n      <td>NaN</td>\n      <td>0.0</td>\n      <td>intermediate_selection</td>\n    </tr>\n    <tr>\n      <th>1.665773e+09</th>\n      <td>-0.123956</td>\n      <td>0.113269</td>\n      <td>-0.411624</td>\n      <td>-0.225497</td>\n      <td>0.154007</td>\n      <td>0.034846</td>\n      <td>-0.047593</td>\n      <td>0.006481</td>\n      <td>0.023778</td>\n      <td>0.060591</td>\n      <td>...</td>\n      <td>-0.049034</td>\n      <td>NaN</td>\n      <td>NaN</td>\n      <td>NaN</td>\n      <td>NaN</td>\n      <td>NaN</td>\n      <td>NaN</td>\n      <td>NaN</td>\n      <td>NaN</td>\n      <td>NaN</td>\n    </tr>\n    <tr>\n      <th>1.665773e+09</th>\n      <td>-0.200219</td>\n      <td>0.083203</td>\n      <td>-0.531628</td>\n      <td>-0.288891</td>\n      <td>0.055427</td>\n      <td>-0.021906</td>\n      <td>-0.094427</td>\n      <td>-0.02549</td>\n      <td>-0.013366</td>\n      <td>-0.007297</td>\n      <td>...</td>\n      <td>-0.052797</td>\n      <td>NaN</td>\n      <td>NaN</td>\n      <td>NaN</td>\n      <td>NaN</td>\n      <td>NaN</td>\n      <td>NaN</td>\n      <td>NaN</td>\n      <td>NaN</td>\n      <td>NaN</td>\n    </tr>\n    <tr>\n      <th>1.665773e+09</th>\n      <td>-0.266407</td>\n      <td>0.049193</td>\n      <td>-0.600346</td>\n      <td>-0.321649</td>\n      <td>-0.033838</td>\n      <td>-0.064973</td>\n      <td>-0.139733</td>\n      <td>-0.053329</td>\n      <td>-0.048592</td>\n      <td>-0.066255</td>\n      <td>...</td>\n      <td>-0.070657</td>\n      <td>NaN</td>\n      <td>NaN</td>\n      <td>NaN</td>\n      <td>NaN</td>\n      <td>NaN</td>\n      <td>NaN</td>\n      <td>NaN</td>\n      <td>NaN</td>\n      <td>NaN</td>\n    </tr>\n    <tr>\n      <th>1.665773e+09</th>\n      <td>NaN</td>\n      <td>NaN</td>\n      <td>NaN</td>\n      <td>NaN</td>\n      <td>NaN</td>\n      <td>NaN</td>\n      <td>NaN</td>\n      <td>NaN</td>\n      <td>NaN</td>\n      <td>NaN</td>\n      <td>...</td>\n      <td>NaN</td>\n      <td>47.0</td>\n      <td>2022-10-14 18:36:38.448052992</td>\n      <td>263154.825167</td>\n      <td>2022-10-14T18:36:38.448057Z</td>\n      <td>individual014.jpg</td>\n      <td>39.0</td>\n      <td>0.0</td>\n      <td>0.0</td>\n      <td>final_submission</td>\n    </tr>\n  </tbody>\n</table>\n<p>511 rows × 49 columns</p>\n</div>"
     },
     "execution_count": 4,
     "metadata": {},
     "output_type": "execute_result"
    }
   ],
   "source": [
    "affective_individual.affective_physio_task_df.head(n=1000)"
   ],
   "metadata": {
    "collapsed": false,
    "ExecuteTime": {
     "end_time": "2023-06-01T20:18:10.601778Z",
     "start_time": "2023-06-01T20:18:10.584975Z"
    }
   }
  },
  {
   "cell_type": "code",
   "execution_count": 5,
   "outputs": [],
   "source": [
    "output_dir = '/Users/ericduong/Documents/ToMCAT/tomcat-data-draft/data/processed/exp_2022_10_14_10'\n",
    "affective_individual.write_physio_data_csv(output_dir)"
   ],
   "metadata": {
    "collapsed": false,
    "ExecuteTime": {
     "end_time": "2023-06-01T20:20:14.653097Z",
     "start_time": "2023-06-01T20:20:14.610206Z"
    }
   }
  },
  {
   "cell_type": "code",
   "execution_count": 4,
   "outputs": [],
   "source": [
    "metadata_path = '/Users/ericduong/Documents/ToMCAT/tomcat-data-draft/data/organized/metadata/exp_sample/metadata.json'\n",
    "affective_task_team_csv_path = '/Users/ericduong/Documents/ToMCAT/tomcat-data-draft/data/raw/tasks/exp_2022_10_14_10/affective/team_1665772683.csv'\n",
    "affective_team_physio_dir = '/Users/ericduong/Documents/ToMCAT/tomcat-data-draft/data/separated/physio_data/exp_2022_10_14_10'\n",
    "affective_team_physio_name_filepath = {\n",
    "    \"lion\": affective_team_physio_dir + \"/lion_nirs_affective_task_team.csv\",\n",
    "    \"tiger\": affective_team_physio_dir + \"/tiger_nirs_affective_task_team.csv\",\n",
    "    \"leopard\": affective_team_physio_dir + \"/leopard_nirs_affective_task_team.csv\",\n",
    "}\n",
    "\n",
    "affective_task_team = AffectiveTaskTeam.from_files(\n",
    "    metadata_path,\n",
    "    affective_task_team_csv_path,\n",
    "    affective_team_physio_name_filepath\n",
    ")"
   ],
   "metadata": {
    "collapsed": false,
    "ExecuteTime": {
     "end_time": "2023-06-01T20:30:58.358645Z",
     "start_time": "2023-06-01T20:30:30.991765Z"
    }
   }
  },
  {
   "cell_type": "code",
   "execution_count": 5,
   "outputs": [
    {
     "data": {
      "text/plain": "             00039_S1_D1_HbO 00039_S1_D2_HbO 00039_S2_D1_HbO 00039_S2_D3_HbO   \nunix_time                                                                      \n1.665773e+09             NaN             NaN             NaN             NaN  \\\n1.665773e+09       -0.701486       -0.103642       -2.615775       -2.112324   \n1.665773e+09       -0.703535       -0.118697       -2.623485       -2.130799   \n1.665773e+09        -0.70488       -0.133581       -2.630396       -2.148615   \n1.665773e+09       -0.705434       -0.148096       -2.636385       -2.165672   \n...                      ...             ...             ...             ...   \n1.665773e+09       -0.061621       -0.242251        1.258456        0.264257   \n1.665773e+09       -0.051971       -0.232674        1.250236        0.272028   \n1.665773e+09        -0.04224       -0.224055        1.241591        0.279833   \n1.665773e+09       -0.032534       -0.216512        1.232488        0.287594   \n1.665773e+09             NaN             NaN             NaN             NaN   \n\n             00039_S3_D1_HbO 00039_S3_D3_HbO 00039_S3_D4_HbO 00039_S4_D2_HbO   \nunix_time                                                                      \n1.665773e+09             NaN             NaN             NaN             NaN  \\\n1.665773e+09       -0.594891       -0.603797       -0.369997       -0.430605   \n1.665773e+09       -0.587538       -0.616381       -0.376903       -0.440187   \n1.665773e+09       -0.579621       -0.628584       -0.383838       -0.448911   \n1.665773e+09       -0.571156       -0.640265       -0.390718       -0.456686   \n...                      ...             ...             ...             ...   \n1.665773e+09        -0.67415       -0.152604       -0.169376       -0.163125   \n1.665773e+09       -0.657355       -0.130149       -0.160334       -0.147753   \n1.665773e+09       -0.640735       -0.107603       -0.150795       -0.132602   \n1.665773e+09       -0.624318       -0.085078       -0.140826       -0.117742   \n1.665773e+09             NaN             NaN             NaN             NaN   \n\n             00039_S4_D4_HbO 00039_S4_D5_HbO  ... 00044_S8_D7_HbR task_index   \nunix_time                                     ...                              \n1.665773e+09             NaN             NaN  ...             NaN        0.0  \\\n1.665773e+09       -0.420507       -0.628754  ...       -0.144796        NaN   \n1.665773e+09       -0.432294       -0.643233  ...       -0.146357        NaN   \n1.665773e+09       -0.444005       -0.656899  ...       -0.147884        NaN   \n1.665773e+09        -0.45554       -0.669622  ...       -0.149356        NaN   \n...                      ...             ...  ...             ...        ...   \n1.665773e+09       -0.178575       -0.123666  ...       -0.018293        NaN   \n1.665773e+09       -0.173354        -0.11805  ...       -0.020102        NaN   \n1.665773e+09       -0.167778       -0.112695  ...        -0.02193        NaN   \n1.665773e+09       -0.161927       -0.107713  ...       -0.023774        NaN   \n1.665773e+09             NaN             NaN  ...             NaN       45.0   \n\n                                  task_time task_monotonic_time   \nunix_time                                                         \n1.665773e+09  2022-10-14 18:38:03.752891648       263240.130006  \\\n1.665773e+09                            NaN                 NaN   \n1.665773e+09                            NaN                 NaN   \n1.665773e+09                            NaN                 NaN   \n1.665773e+09                            NaN                 NaN   \n...                                     ...                 ...   \n1.665773e+09                            NaN                 NaN   \n1.665773e+09                            NaN                 NaN   \n1.665773e+09                            NaN                 NaN   \n1.665773e+09                            NaN                 NaN   \n1.665773e+09  2022-10-14 18:49:29.933818624       263926.310933   \n\n                 task_human_readable_time task_image_path task_subject_id   \nunix_time                                                                   \n1.665773e+09  2022-10-14T18:38:03.752897Z             NaN             NaN  \\\n1.665773e+09                          NaN             NaN             NaN   \n1.665773e+09                          NaN             NaN             NaN   \n1.665773e+09                          NaN             NaN             NaN   \n1.665773e+09                          NaN             NaN             NaN   \n...                                   ...             ...             ...   \n1.665773e+09                          NaN             NaN             NaN   \n1.665773e+09                          NaN             NaN             NaN   \n1.665773e+09                          NaN             NaN             NaN   \n1.665773e+09                          NaN             NaN             NaN   \n1.665773e+09  2022-10-14T18:49:29.933823Z     Team014.jpg            44.0   \n\n             task_arousal_score task_valence_score       task_event_type  \nunix_time                                                                 \n1.665773e+09                NaN                NaN  start_affective_task  \n1.665773e+09                NaN                NaN                   NaN  \n1.665773e+09                NaN                NaN                   NaN  \n1.665773e+09                NaN                NaN                   NaN  \n1.665773e+09                NaN                NaN                   NaN  \n...                         ...                ...                   ...  \n1.665773e+09                NaN                NaN                   NaN  \n1.665773e+09                NaN                NaN                   NaN  \n1.665773e+09                NaN                NaN                   NaN  \n1.665773e+09                NaN                NaN                   NaN  \n1.665773e+09               -2.0                1.0      final_submission  \n\n[6981 rows x 129 columns]",
      "text/html": "<div>\n<style scoped>\n    .dataframe tbody tr th:only-of-type {\n        vertical-align: middle;\n    }\n\n    .dataframe tbody tr th {\n        vertical-align: top;\n    }\n\n    .dataframe thead th {\n        text-align: right;\n    }\n</style>\n<table border=\"1\" class=\"dataframe\">\n  <thead>\n    <tr style=\"text-align: right;\">\n      <th></th>\n      <th>00039_S1_D1_HbO</th>\n      <th>00039_S1_D2_HbO</th>\n      <th>00039_S2_D1_HbO</th>\n      <th>00039_S2_D3_HbO</th>\n      <th>00039_S3_D1_HbO</th>\n      <th>00039_S3_D3_HbO</th>\n      <th>00039_S3_D4_HbO</th>\n      <th>00039_S4_D2_HbO</th>\n      <th>00039_S4_D4_HbO</th>\n      <th>00039_S4_D5_HbO</th>\n      <th>...</th>\n      <th>00044_S8_D7_HbR</th>\n      <th>task_index</th>\n      <th>task_time</th>\n      <th>task_monotonic_time</th>\n      <th>task_human_readable_time</th>\n      <th>task_image_path</th>\n      <th>task_subject_id</th>\n      <th>task_arousal_score</th>\n      <th>task_valence_score</th>\n      <th>task_event_type</th>\n    </tr>\n    <tr>\n      <th>unix_time</th>\n      <th></th>\n      <th></th>\n      <th></th>\n      <th></th>\n      <th></th>\n      <th></th>\n      <th></th>\n      <th></th>\n      <th></th>\n      <th></th>\n      <th></th>\n      <th></th>\n      <th></th>\n      <th></th>\n      <th></th>\n      <th></th>\n      <th></th>\n      <th></th>\n      <th></th>\n      <th></th>\n      <th></th>\n    </tr>\n  </thead>\n  <tbody>\n    <tr>\n      <th>1.665773e+09</th>\n      <td>NaN</td>\n      <td>NaN</td>\n      <td>NaN</td>\n      <td>NaN</td>\n      <td>NaN</td>\n      <td>NaN</td>\n      <td>NaN</td>\n      <td>NaN</td>\n      <td>NaN</td>\n      <td>NaN</td>\n      <td>...</td>\n      <td>NaN</td>\n      <td>0.0</td>\n      <td>2022-10-14 18:38:03.752891648</td>\n      <td>263240.130006</td>\n      <td>2022-10-14T18:38:03.752897Z</td>\n      <td>NaN</td>\n      <td>NaN</td>\n      <td>NaN</td>\n      <td>NaN</td>\n      <td>start_affective_task</td>\n    </tr>\n    <tr>\n      <th>1.665773e+09</th>\n      <td>-0.701486</td>\n      <td>-0.103642</td>\n      <td>-2.615775</td>\n      <td>-2.112324</td>\n      <td>-0.594891</td>\n      <td>-0.603797</td>\n      <td>-0.369997</td>\n      <td>-0.430605</td>\n      <td>-0.420507</td>\n      <td>-0.628754</td>\n      <td>...</td>\n      <td>-0.144796</td>\n      <td>NaN</td>\n      <td>NaN</td>\n      <td>NaN</td>\n      <td>NaN</td>\n      <td>NaN</td>\n      <td>NaN</td>\n      <td>NaN</td>\n      <td>NaN</td>\n      <td>NaN</td>\n    </tr>\n    <tr>\n      <th>1.665773e+09</th>\n      <td>-0.703535</td>\n      <td>-0.118697</td>\n      <td>-2.623485</td>\n      <td>-2.130799</td>\n      <td>-0.587538</td>\n      <td>-0.616381</td>\n      <td>-0.376903</td>\n      <td>-0.440187</td>\n      <td>-0.432294</td>\n      <td>-0.643233</td>\n      <td>...</td>\n      <td>-0.146357</td>\n      <td>NaN</td>\n      <td>NaN</td>\n      <td>NaN</td>\n      <td>NaN</td>\n      <td>NaN</td>\n      <td>NaN</td>\n      <td>NaN</td>\n      <td>NaN</td>\n      <td>NaN</td>\n    </tr>\n    <tr>\n      <th>1.665773e+09</th>\n      <td>-0.70488</td>\n      <td>-0.133581</td>\n      <td>-2.630396</td>\n      <td>-2.148615</td>\n      <td>-0.579621</td>\n      <td>-0.628584</td>\n      <td>-0.383838</td>\n      <td>-0.448911</td>\n      <td>-0.444005</td>\n      <td>-0.656899</td>\n      <td>...</td>\n      <td>-0.147884</td>\n      <td>NaN</td>\n      <td>NaN</td>\n      <td>NaN</td>\n      <td>NaN</td>\n      <td>NaN</td>\n      <td>NaN</td>\n      <td>NaN</td>\n      <td>NaN</td>\n      <td>NaN</td>\n    </tr>\n    <tr>\n      <th>1.665773e+09</th>\n      <td>-0.705434</td>\n      <td>-0.148096</td>\n      <td>-2.636385</td>\n      <td>-2.165672</td>\n      <td>-0.571156</td>\n      <td>-0.640265</td>\n      <td>-0.390718</td>\n      <td>-0.456686</td>\n      <td>-0.45554</td>\n      <td>-0.669622</td>\n      <td>...</td>\n      <td>-0.149356</td>\n      <td>NaN</td>\n      <td>NaN</td>\n      <td>NaN</td>\n      <td>NaN</td>\n      <td>NaN</td>\n      <td>NaN</td>\n      <td>NaN</td>\n      <td>NaN</td>\n      <td>NaN</td>\n    </tr>\n    <tr>\n      <th>...</th>\n      <td>...</td>\n      <td>...</td>\n      <td>...</td>\n      <td>...</td>\n      <td>...</td>\n      <td>...</td>\n      <td>...</td>\n      <td>...</td>\n      <td>...</td>\n      <td>...</td>\n      <td>...</td>\n      <td>...</td>\n      <td>...</td>\n      <td>...</td>\n      <td>...</td>\n      <td>...</td>\n      <td>...</td>\n      <td>...</td>\n      <td>...</td>\n      <td>...</td>\n      <td>...</td>\n    </tr>\n    <tr>\n      <th>1.665773e+09</th>\n      <td>-0.061621</td>\n      <td>-0.242251</td>\n      <td>1.258456</td>\n      <td>0.264257</td>\n      <td>-0.67415</td>\n      <td>-0.152604</td>\n      <td>-0.169376</td>\n      <td>-0.163125</td>\n      <td>-0.178575</td>\n      <td>-0.123666</td>\n      <td>...</td>\n      <td>-0.018293</td>\n      <td>NaN</td>\n      <td>NaN</td>\n      <td>NaN</td>\n      <td>NaN</td>\n      <td>NaN</td>\n      <td>NaN</td>\n      <td>NaN</td>\n      <td>NaN</td>\n      <td>NaN</td>\n    </tr>\n    <tr>\n      <th>1.665773e+09</th>\n      <td>-0.051971</td>\n      <td>-0.232674</td>\n      <td>1.250236</td>\n      <td>0.272028</td>\n      <td>-0.657355</td>\n      <td>-0.130149</td>\n      <td>-0.160334</td>\n      <td>-0.147753</td>\n      <td>-0.173354</td>\n      <td>-0.11805</td>\n      <td>...</td>\n      <td>-0.020102</td>\n      <td>NaN</td>\n      <td>NaN</td>\n      <td>NaN</td>\n      <td>NaN</td>\n      <td>NaN</td>\n      <td>NaN</td>\n      <td>NaN</td>\n      <td>NaN</td>\n      <td>NaN</td>\n    </tr>\n    <tr>\n      <th>1.665773e+09</th>\n      <td>-0.04224</td>\n      <td>-0.224055</td>\n      <td>1.241591</td>\n      <td>0.279833</td>\n      <td>-0.640735</td>\n      <td>-0.107603</td>\n      <td>-0.150795</td>\n      <td>-0.132602</td>\n      <td>-0.167778</td>\n      <td>-0.112695</td>\n      <td>...</td>\n      <td>-0.02193</td>\n      <td>NaN</td>\n      <td>NaN</td>\n      <td>NaN</td>\n      <td>NaN</td>\n      <td>NaN</td>\n      <td>NaN</td>\n      <td>NaN</td>\n      <td>NaN</td>\n      <td>NaN</td>\n    </tr>\n    <tr>\n      <th>1.665773e+09</th>\n      <td>-0.032534</td>\n      <td>-0.216512</td>\n      <td>1.232488</td>\n      <td>0.287594</td>\n      <td>-0.624318</td>\n      <td>-0.085078</td>\n      <td>-0.140826</td>\n      <td>-0.117742</td>\n      <td>-0.161927</td>\n      <td>-0.107713</td>\n      <td>...</td>\n      <td>-0.023774</td>\n      <td>NaN</td>\n      <td>NaN</td>\n      <td>NaN</td>\n      <td>NaN</td>\n      <td>NaN</td>\n      <td>NaN</td>\n      <td>NaN</td>\n      <td>NaN</td>\n      <td>NaN</td>\n    </tr>\n    <tr>\n      <th>1.665773e+09</th>\n      <td>NaN</td>\n      <td>NaN</td>\n      <td>NaN</td>\n      <td>NaN</td>\n      <td>NaN</td>\n      <td>NaN</td>\n      <td>NaN</td>\n      <td>NaN</td>\n      <td>NaN</td>\n      <td>NaN</td>\n      <td>...</td>\n      <td>NaN</td>\n      <td>45.0</td>\n      <td>2022-10-14 18:49:29.933818624</td>\n      <td>263926.310933</td>\n      <td>2022-10-14T18:49:29.933823Z</td>\n      <td>Team014.jpg</td>\n      <td>44.0</td>\n      <td>-2.0</td>\n      <td>1.0</td>\n      <td>final_submission</td>\n    </tr>\n  </tbody>\n</table>\n<p>6981 rows × 129 columns</p>\n</div>"
     },
     "execution_count": 5,
     "metadata": {},
     "output_type": "execute_result"
    }
   ],
   "source": [
    "affective_task_team.affective_task_team_physio_task.head(n=7000)"
   ],
   "metadata": {
    "collapsed": false,
    "ExecuteTime": {
     "end_time": "2023-06-01T20:31:01.330862Z",
     "start_time": "2023-06-01T20:31:01.313139Z"
    }
   }
  },
  {
   "cell_type": "code",
   "execution_count": 6,
   "outputs": [],
   "source": [
    "output_dir = '/Users/ericduong/Documents/ToMCAT/tomcat-data-draft/data/processed/exp_2022_10_14_10'\n",
    "affective_task_team.write_physio_data_csv(output_dir)"
   ],
   "metadata": {
    "collapsed": false,
    "ExecuteTime": {
     "end_time": "2023-06-01T20:32:32.875785Z",
     "start_time": "2023-06-01T20:32:32.341389Z"
    }
   }
  },
  {
   "cell_type": "code",
   "execution_count": 2,
   "outputs": [],
   "source": [
    "metadata_path = '/Users/ericduong/Documents/ToMCAT/tomcat-data-draft/data/organized/metadata/exp_sample/metadata.json'\n",
    "ping_pong_competitive_task_csv_path = '/Users/ericduong/Documents/ToMCAT/tomcat-data-draft/data/raw/tasks/exp_2022_10_14_10/ping_pong/competitive_0_1665773461.csv'\n",
    "ping_pong_competitive_physio_dir = '/Users/ericduong/Documents/ToMCAT/tomcat-data-draft/data/separated/physio_data/exp_2022_10_14_10'\n",
    "ping_pong_competitive_physio_name_filepath = {\n",
    "    \"lion\": ping_pong_competitive_physio_dir + \"/lion_nirs_ping_pong_competetive_0.csv\",\n",
    "    \"tiger\": ping_pong_competitive_physio_dir + \"/tiger_nirs_ping_pong_competetive_0.csv\",\n",
    "}\n",
    "\n",
    "ping_pong_competitive = PingPongCompetitive.from_files(\n",
    "    metadata_path,\n",
    "    ping_pong_competitive_task_csv_path,\n",
    "    ping_pong_competitive_physio_name_filepath\n",
    ")"
   ],
   "metadata": {
    "collapsed": false,
    "ExecuteTime": {
     "end_time": "2023-06-01T22:21:27.787619Z",
     "start_time": "2023-06-01T22:21:27.754384Z"
    }
   }
  },
  {
   "cell_type": "code",
   "execution_count": 4,
   "outputs": [
    {
     "data": {
      "text/plain": "             00039_S1_D1_HbO 00039_S1_D2_HbO 00039_S2_D1_HbO 00039_S2_D3_HbO   \nunix_time                                                                      \n1.665773e+09             NaN             NaN             NaN             NaN  \\\n1.665773e+09             NaN             NaN             NaN             NaN   \n1.665773e+09             NaN             NaN             NaN             NaN   \n1.665773e+09             NaN             NaN             NaN             NaN   \n1.665773e+09             NaN             NaN             NaN             NaN   \n...                      ...             ...             ...             ...   \n1.665774e+09             NaN             NaN             NaN             NaN   \n1.665774e+09             NaN             NaN             NaN             NaN   \n1.665774e+09             NaN             NaN             NaN             NaN   \n1.665774e+09             NaN             NaN             NaN             NaN   \n1.665774e+09             NaN             NaN             NaN             NaN   \n\n             00039_S3_D1_HbO 00039_S3_D3_HbO 00039_S3_D4_HbO 00039_S4_D2_HbO   \nunix_time                                                                      \n1.665773e+09             NaN             NaN             NaN             NaN  \\\n1.665773e+09             NaN             NaN             NaN             NaN   \n1.665773e+09             NaN             NaN             NaN             NaN   \n1.665773e+09             NaN             NaN             NaN             NaN   \n1.665773e+09             NaN             NaN             NaN             NaN   \n...                      ...             ...             ...             ...   \n1.665774e+09             NaN             NaN             NaN             NaN   \n1.665774e+09             NaN             NaN             NaN             NaN   \n1.665774e+09             NaN             NaN             NaN             NaN   \n1.665774e+09             NaN             NaN             NaN             NaN   \n1.665774e+09             NaN             NaN             NaN             NaN   \n\n             00039_S4_D4_HbO 00039_S4_D5_HbO  ... score_left score_right   \nunix_time                                     ...                          \n1.665773e+09             NaN             NaN  ...          0           0  \\\n1.665773e+09             NaN             NaN  ...          0           0   \n1.665773e+09             NaN             NaN  ...          0           0   \n1.665773e+09             NaN             NaN  ...          0           0   \n1.665773e+09             NaN             NaN  ...          0           0   \n...                      ...             ...  ...        ...         ...   \n1.665774e+09             NaN             NaN  ...         10           9   \n1.665774e+09             NaN             NaN  ...         10           9   \n1.665774e+09             NaN             NaN  ...         10           9   \n1.665774e+09             NaN             NaN  ...         10           9   \n1.665774e+09             NaN             NaN  ...         10           9   \n\n             started ball_x ball_y 00039_x 00039_y 00041_x 00041_y seconds  \nunix_time                                                                   \n1.665773e+09   False   1285    725     880     660    1660     660      10  \n1.665773e+09   False   1285    725     880     850    1660     850      10  \n1.665773e+09   False   1285    725     880     850    1660     850      10  \n1.665773e+09   False   1285    725     880     850    1660     850      10  \n1.665773e+09   False   1285    725     880     850    1660     850      10  \n...              ...    ...    ...     ...     ...     ...     ...     ...  \n1.665774e+09    True   1033    587     880     797    1660     537       1  \n1.665774e+09    True   1087    563     880     797    1660     537       1  \n1.665774e+09    True   1141    539     880     797    1660     537       1  \n1.665774e+09    True   1195    515     880     797    1660     521       1  \n1.665774e+09    True   1258    487     880     797    1660     515       1  \n\n[1324 rows x 93 columns]",
      "text/html": "<div>\n<style scoped>\n    .dataframe tbody tr th:only-of-type {\n        vertical-align: middle;\n    }\n\n    .dataframe tbody tr th {\n        vertical-align: top;\n    }\n\n    .dataframe thead th {\n        text-align: right;\n    }\n</style>\n<table border=\"1\" class=\"dataframe\">\n  <thead>\n    <tr style=\"text-align: right;\">\n      <th></th>\n      <th>00039_S1_D1_HbO</th>\n      <th>00039_S1_D2_HbO</th>\n      <th>00039_S2_D1_HbO</th>\n      <th>00039_S2_D3_HbO</th>\n      <th>00039_S3_D1_HbO</th>\n      <th>00039_S3_D3_HbO</th>\n      <th>00039_S3_D4_HbO</th>\n      <th>00039_S4_D2_HbO</th>\n      <th>00039_S4_D4_HbO</th>\n      <th>00039_S4_D5_HbO</th>\n      <th>...</th>\n      <th>score_left</th>\n      <th>score_right</th>\n      <th>started</th>\n      <th>ball_x</th>\n      <th>ball_y</th>\n      <th>00039_x</th>\n      <th>00039_y</th>\n      <th>00041_x</th>\n      <th>00041_y</th>\n      <th>seconds</th>\n    </tr>\n    <tr>\n      <th>unix_time</th>\n      <th></th>\n      <th></th>\n      <th></th>\n      <th></th>\n      <th></th>\n      <th></th>\n      <th></th>\n      <th></th>\n      <th></th>\n      <th></th>\n      <th></th>\n      <th></th>\n      <th></th>\n      <th></th>\n      <th></th>\n      <th></th>\n      <th></th>\n      <th></th>\n      <th></th>\n      <th></th>\n      <th></th>\n    </tr>\n  </thead>\n  <tbody>\n    <tr>\n      <th>1.665773e+09</th>\n      <td>NaN</td>\n      <td>NaN</td>\n      <td>NaN</td>\n      <td>NaN</td>\n      <td>NaN</td>\n      <td>NaN</td>\n      <td>NaN</td>\n      <td>NaN</td>\n      <td>NaN</td>\n      <td>NaN</td>\n      <td>...</td>\n      <td>0</td>\n      <td>0</td>\n      <td>False</td>\n      <td>1285</td>\n      <td>725</td>\n      <td>880</td>\n      <td>660</td>\n      <td>1660</td>\n      <td>660</td>\n      <td>10</td>\n    </tr>\n    <tr>\n      <th>1.665773e+09</th>\n      <td>NaN</td>\n      <td>NaN</td>\n      <td>NaN</td>\n      <td>NaN</td>\n      <td>NaN</td>\n      <td>NaN</td>\n      <td>NaN</td>\n      <td>NaN</td>\n      <td>NaN</td>\n      <td>NaN</td>\n      <td>...</td>\n      <td>0</td>\n      <td>0</td>\n      <td>False</td>\n      <td>1285</td>\n      <td>725</td>\n      <td>880</td>\n      <td>850</td>\n      <td>1660</td>\n      <td>850</td>\n      <td>10</td>\n    </tr>\n    <tr>\n      <th>1.665773e+09</th>\n      <td>NaN</td>\n      <td>NaN</td>\n      <td>NaN</td>\n      <td>NaN</td>\n      <td>NaN</td>\n      <td>NaN</td>\n      <td>NaN</td>\n      <td>NaN</td>\n      <td>NaN</td>\n      <td>NaN</td>\n      <td>...</td>\n      <td>0</td>\n      <td>0</td>\n      <td>False</td>\n      <td>1285</td>\n      <td>725</td>\n      <td>880</td>\n      <td>850</td>\n      <td>1660</td>\n      <td>850</td>\n      <td>10</td>\n    </tr>\n    <tr>\n      <th>1.665773e+09</th>\n      <td>NaN</td>\n      <td>NaN</td>\n      <td>NaN</td>\n      <td>NaN</td>\n      <td>NaN</td>\n      <td>NaN</td>\n      <td>NaN</td>\n      <td>NaN</td>\n      <td>NaN</td>\n      <td>NaN</td>\n      <td>...</td>\n      <td>0</td>\n      <td>0</td>\n      <td>False</td>\n      <td>1285</td>\n      <td>725</td>\n      <td>880</td>\n      <td>850</td>\n      <td>1660</td>\n      <td>850</td>\n      <td>10</td>\n    </tr>\n    <tr>\n      <th>1.665773e+09</th>\n      <td>NaN</td>\n      <td>NaN</td>\n      <td>NaN</td>\n      <td>NaN</td>\n      <td>NaN</td>\n      <td>NaN</td>\n      <td>NaN</td>\n      <td>NaN</td>\n      <td>NaN</td>\n      <td>NaN</td>\n      <td>...</td>\n      <td>0</td>\n      <td>0</td>\n      <td>False</td>\n      <td>1285</td>\n      <td>725</td>\n      <td>880</td>\n      <td>850</td>\n      <td>1660</td>\n      <td>850</td>\n      <td>10</td>\n    </tr>\n    <tr>\n      <th>...</th>\n      <td>...</td>\n      <td>...</td>\n      <td>...</td>\n      <td>...</td>\n      <td>...</td>\n      <td>...</td>\n      <td>...</td>\n      <td>...</td>\n      <td>...</td>\n      <td>...</td>\n      <td>...</td>\n      <td>...</td>\n      <td>...</td>\n      <td>...</td>\n      <td>...</td>\n      <td>...</td>\n      <td>...</td>\n      <td>...</td>\n      <td>...</td>\n      <td>...</td>\n      <td>...</td>\n    </tr>\n    <tr>\n      <th>1.665774e+09</th>\n      <td>NaN</td>\n      <td>NaN</td>\n      <td>NaN</td>\n      <td>NaN</td>\n      <td>NaN</td>\n      <td>NaN</td>\n      <td>NaN</td>\n      <td>NaN</td>\n      <td>NaN</td>\n      <td>NaN</td>\n      <td>...</td>\n      <td>10</td>\n      <td>9</td>\n      <td>True</td>\n      <td>1033</td>\n      <td>587</td>\n      <td>880</td>\n      <td>797</td>\n      <td>1660</td>\n      <td>537</td>\n      <td>1</td>\n    </tr>\n    <tr>\n      <th>1.665774e+09</th>\n      <td>NaN</td>\n      <td>NaN</td>\n      <td>NaN</td>\n      <td>NaN</td>\n      <td>NaN</td>\n      <td>NaN</td>\n      <td>NaN</td>\n      <td>NaN</td>\n      <td>NaN</td>\n      <td>NaN</td>\n      <td>...</td>\n      <td>10</td>\n      <td>9</td>\n      <td>True</td>\n      <td>1087</td>\n      <td>563</td>\n      <td>880</td>\n      <td>797</td>\n      <td>1660</td>\n      <td>537</td>\n      <td>1</td>\n    </tr>\n    <tr>\n      <th>1.665774e+09</th>\n      <td>NaN</td>\n      <td>NaN</td>\n      <td>NaN</td>\n      <td>NaN</td>\n      <td>NaN</td>\n      <td>NaN</td>\n      <td>NaN</td>\n      <td>NaN</td>\n      <td>NaN</td>\n      <td>NaN</td>\n      <td>...</td>\n      <td>10</td>\n      <td>9</td>\n      <td>True</td>\n      <td>1141</td>\n      <td>539</td>\n      <td>880</td>\n      <td>797</td>\n      <td>1660</td>\n      <td>537</td>\n      <td>1</td>\n    </tr>\n    <tr>\n      <th>1.665774e+09</th>\n      <td>NaN</td>\n      <td>NaN</td>\n      <td>NaN</td>\n      <td>NaN</td>\n      <td>NaN</td>\n      <td>NaN</td>\n      <td>NaN</td>\n      <td>NaN</td>\n      <td>NaN</td>\n      <td>NaN</td>\n      <td>...</td>\n      <td>10</td>\n      <td>9</td>\n      <td>True</td>\n      <td>1195</td>\n      <td>515</td>\n      <td>880</td>\n      <td>797</td>\n      <td>1660</td>\n      <td>521</td>\n      <td>1</td>\n    </tr>\n    <tr>\n      <th>1.665774e+09</th>\n      <td>NaN</td>\n      <td>NaN</td>\n      <td>NaN</td>\n      <td>NaN</td>\n      <td>NaN</td>\n      <td>NaN</td>\n      <td>NaN</td>\n      <td>NaN</td>\n      <td>NaN</td>\n      <td>NaN</td>\n      <td>...</td>\n      <td>10</td>\n      <td>9</td>\n      <td>True</td>\n      <td>1258</td>\n      <td>487</td>\n      <td>880</td>\n      <td>797</td>\n      <td>1660</td>\n      <td>515</td>\n      <td>1</td>\n    </tr>\n  </tbody>\n</table>\n<p>1324 rows × 93 columns</p>\n</div>"
     },
     "execution_count": 4,
     "metadata": {},
     "output_type": "execute_result"
    }
   ],
   "source": [
    "ping_pong_competitive.ping_pong_physio_task.head(n=1400)"
   ],
   "metadata": {
    "collapsed": false,
    "ExecuteTime": {
     "end_time": "2023-06-01T22:21:57.897891Z",
     "start_time": "2023-06-01T22:21:57.884655Z"
    }
   }
  },
  {
   "cell_type": "code",
   "execution_count": 6,
   "outputs": [],
   "source": [
    "output_dir = '/Users/ericduong/Documents/ToMCAT/tomcat-data-draft/data/processed/exp_2022_10_14_10'\n",
    "ping_pong_competitive.write_physio_data_csv(output_dir, 0)"
   ],
   "metadata": {
    "collapsed": false,
    "ExecuteTime": {
     "end_time": "2023-06-01T22:23:48.616722Z",
     "start_time": "2023-06-01T22:23:48.599226Z"
    }
   }
  },
  {
   "cell_type": "code",
   "execution_count": 2,
   "outputs": [],
   "source": [
    "metadata_path = '/Users/ericduong/Documents/ToMCAT/tomcat-data-draft/data/organized/metadata/exp_sample/metadata.json'\n",
    "ping_pong_cooperative_csv_path = '/Users/ericduong/Documents/ToMCAT/tomcat-data-draft/data/raw/tasks/exp_2022_10_14_10/ping_pong/cooperative_0_1665773661.csv'\n",
    "ping_pong_cooperative_physio_dir = '/Users/ericduong/Documents/ToMCAT/tomcat-data-draft/data/separated/physio_data/exp_2022_10_14_10'\n",
    "ping_pong_cooperative_physio_name_filepath = {\n",
    "    \"lion\": ping_pong_cooperative_physio_dir + \"/lion_nirs_ping_pong_cooperative_0.csv\",\n",
    "    \"tiger\": ping_pong_cooperative_physio_dir + \"/tiger_nirs_ping_pong_cooperative_0.csv\",\n",
    "    \"leopard\": ping_pong_cooperative_physio_dir + \"/tiger_nirs_ping_pong_cooperative_0.csv\",\n",
    "}\n",
    "\n",
    "ping_pong_cooperative = PingPongCooperative.from_files(\n",
    "    metadata_path,\n",
    "    ping_pong_cooperative_csv_path,\n",
    "    ping_pong_cooperative_physio_name_filepath\n",
    ")"
   ],
   "metadata": {
    "collapsed": false,
    "ExecuteTime": {
     "end_time": "2023-06-01T22:31:17.338405Z",
     "start_time": "2023-06-01T22:31:13.246913Z"
    }
   }
  },
  {
   "cell_type": "code",
   "execution_count": 3,
   "outputs": [
    {
     "data": {
      "text/plain": "             00039_S1_D1_HbO 00039_S1_D2_HbO 00039_S2_D1_HbO 00039_S2_D3_HbO   \nunix_time                                                                      \n1.665774e+09             NaN             NaN             NaN             NaN  \\\n1.665774e+09        0.072442        0.093509        0.080162        0.440873   \n1.665774e+09        0.076511        0.101043        0.086748        0.454399   \n1.665774e+09        0.081252        0.109105        0.093365        0.467374   \n1.665774e+09        0.086544        0.117558        0.099831        0.479585   \n...                      ...             ...             ...             ...   \n1.665774e+09       -0.218492         -0.2826       -0.138193       -0.194357   \n1.665774e+09       -0.209874       -0.274859       -0.135077       -0.185536   \n1.665774e+09       -0.201253       -0.266923       -0.132506       -0.177773   \n1.665774e+09       -0.192639       -0.258814       -0.130393       -0.171038   \n1.665774e+09             NaN             NaN             NaN             NaN   \n\n             00039_S3_D1_HbO 00039_S3_D3_HbO 00039_S3_D4_HbO 00039_S4_D2_HbO   \nunix_time                                                                      \n1.665774e+09             NaN             NaN             NaN             NaN  \\\n1.665774e+09        0.224232        0.205129        0.252292        0.108034   \n1.665774e+09        0.236405        0.218912        0.256694        0.109466   \n1.665774e+09        0.248345        0.232795        0.261565        0.111752   \n1.665774e+09        0.259808        0.246583          0.2668        0.114786   \n...                      ...             ...             ...             ...   \n1.665774e+09        -0.48298       -0.219759       -0.278556       -0.376192   \n1.665774e+09       -0.472091       -0.211465       -0.279287       -0.372928   \n1.665774e+09       -0.461074        -0.20381       -0.279467       -0.369309   \n1.665774e+09       -0.450063       -0.196778       -0.279025       -0.365307   \n1.665774e+09             NaN             NaN             NaN             NaN   \n\n             00039_S4_D4_HbO 00039_S4_D5_HbO  ... ball_y 00039_x 00039_y   \nunix_time                                     ...                          \n1.665774e+09             NaN             NaN  ...    725     880     572  \\\n1.665774e+09        0.414345        0.579364  ...    725     880     470   \n1.665774e+09        0.411257        0.582159  ...    725     880     470   \n1.665774e+09        0.408784         0.58518  ...    725     880     470   \n1.665774e+09        0.406865        0.588346  ...    725     880     470   \n...                      ...             ...  ...    ...     ...     ...   \n1.665774e+09       -0.355299       -0.450171  ...    733     880     491   \n1.665774e+09       -0.359261       -0.442907  ...    793     880     491   \n1.665774e+09       -0.362683       -0.434964  ...    853     880     494   \n1.665774e+09       -0.365476       -0.426331  ...    913     880     509   \n1.665774e+09             NaN             NaN  ...    939     880     578   \n\n             00041_x 00041_y 00044_x 00044_y  ai_x ai_y seconds  \nunix_time                                                        \n1.665774e+09     880     674     880     776  1660  675      10  \n1.665774e+09     880     725     880     589  1660  678      10  \n1.665774e+09     880     725     880     589  1660  684      10  \n1.665774e+09     880     725     880     589  1660  684      10  \n1.665774e+09     880     725     880     589  1660  684      10  \n...              ...     ...     ...     ...   ...  ...     ...  \n1.665774e+09     880     857     880     538  1660  673       1  \n1.665774e+09     880     857     880     539  1660  733       1  \n1.665774e+09     880     857     880     589  1660  793       1  \n1.665774e+09     880     857     880     684  1660  851       1  \n1.665774e+09     880     857     880     717  1660  880       1  \n\n[1324 rows x 137 columns]",
      "text/html": "<div>\n<style scoped>\n    .dataframe tbody tr th:only-of-type {\n        vertical-align: middle;\n    }\n\n    .dataframe tbody tr th {\n        vertical-align: top;\n    }\n\n    .dataframe thead th {\n        text-align: right;\n    }\n</style>\n<table border=\"1\" class=\"dataframe\">\n  <thead>\n    <tr style=\"text-align: right;\">\n      <th></th>\n      <th>00039_S1_D1_HbO</th>\n      <th>00039_S1_D2_HbO</th>\n      <th>00039_S2_D1_HbO</th>\n      <th>00039_S2_D3_HbO</th>\n      <th>00039_S3_D1_HbO</th>\n      <th>00039_S3_D3_HbO</th>\n      <th>00039_S3_D4_HbO</th>\n      <th>00039_S4_D2_HbO</th>\n      <th>00039_S4_D4_HbO</th>\n      <th>00039_S4_D5_HbO</th>\n      <th>...</th>\n      <th>ball_y</th>\n      <th>00039_x</th>\n      <th>00039_y</th>\n      <th>00041_x</th>\n      <th>00041_y</th>\n      <th>00044_x</th>\n      <th>00044_y</th>\n      <th>ai_x</th>\n      <th>ai_y</th>\n      <th>seconds</th>\n    </tr>\n    <tr>\n      <th>unix_time</th>\n      <th></th>\n      <th></th>\n      <th></th>\n      <th></th>\n      <th></th>\n      <th></th>\n      <th></th>\n      <th></th>\n      <th></th>\n      <th></th>\n      <th></th>\n      <th></th>\n      <th></th>\n      <th></th>\n      <th></th>\n      <th></th>\n      <th></th>\n      <th></th>\n      <th></th>\n      <th></th>\n      <th></th>\n    </tr>\n  </thead>\n  <tbody>\n    <tr>\n      <th>1.665774e+09</th>\n      <td>NaN</td>\n      <td>NaN</td>\n      <td>NaN</td>\n      <td>NaN</td>\n      <td>NaN</td>\n      <td>NaN</td>\n      <td>NaN</td>\n      <td>NaN</td>\n      <td>NaN</td>\n      <td>NaN</td>\n      <td>...</td>\n      <td>725</td>\n      <td>880</td>\n      <td>572</td>\n      <td>880</td>\n      <td>674</td>\n      <td>880</td>\n      <td>776</td>\n      <td>1660</td>\n      <td>675</td>\n      <td>10</td>\n    </tr>\n    <tr>\n      <th>1.665774e+09</th>\n      <td>0.072442</td>\n      <td>0.093509</td>\n      <td>0.080162</td>\n      <td>0.440873</td>\n      <td>0.224232</td>\n      <td>0.205129</td>\n      <td>0.252292</td>\n      <td>0.108034</td>\n      <td>0.414345</td>\n      <td>0.579364</td>\n      <td>...</td>\n      <td>725</td>\n      <td>880</td>\n      <td>470</td>\n      <td>880</td>\n      <td>725</td>\n      <td>880</td>\n      <td>589</td>\n      <td>1660</td>\n      <td>678</td>\n      <td>10</td>\n    </tr>\n    <tr>\n      <th>1.665774e+09</th>\n      <td>0.076511</td>\n      <td>0.101043</td>\n      <td>0.086748</td>\n      <td>0.454399</td>\n      <td>0.236405</td>\n      <td>0.218912</td>\n      <td>0.256694</td>\n      <td>0.109466</td>\n      <td>0.411257</td>\n      <td>0.582159</td>\n      <td>...</td>\n      <td>725</td>\n      <td>880</td>\n      <td>470</td>\n      <td>880</td>\n      <td>725</td>\n      <td>880</td>\n      <td>589</td>\n      <td>1660</td>\n      <td>684</td>\n      <td>10</td>\n    </tr>\n    <tr>\n      <th>1.665774e+09</th>\n      <td>0.081252</td>\n      <td>0.109105</td>\n      <td>0.093365</td>\n      <td>0.467374</td>\n      <td>0.248345</td>\n      <td>0.232795</td>\n      <td>0.261565</td>\n      <td>0.111752</td>\n      <td>0.408784</td>\n      <td>0.58518</td>\n      <td>...</td>\n      <td>725</td>\n      <td>880</td>\n      <td>470</td>\n      <td>880</td>\n      <td>725</td>\n      <td>880</td>\n      <td>589</td>\n      <td>1660</td>\n      <td>684</td>\n      <td>10</td>\n    </tr>\n    <tr>\n      <th>1.665774e+09</th>\n      <td>0.086544</td>\n      <td>0.117558</td>\n      <td>0.099831</td>\n      <td>0.479585</td>\n      <td>0.259808</td>\n      <td>0.246583</td>\n      <td>0.2668</td>\n      <td>0.114786</td>\n      <td>0.406865</td>\n      <td>0.588346</td>\n      <td>...</td>\n      <td>725</td>\n      <td>880</td>\n      <td>470</td>\n      <td>880</td>\n      <td>725</td>\n      <td>880</td>\n      <td>589</td>\n      <td>1660</td>\n      <td>684</td>\n      <td>10</td>\n    </tr>\n    <tr>\n      <th>...</th>\n      <td>...</td>\n      <td>...</td>\n      <td>...</td>\n      <td>...</td>\n      <td>...</td>\n      <td>...</td>\n      <td>...</td>\n      <td>...</td>\n      <td>...</td>\n      <td>...</td>\n      <td>...</td>\n      <td>...</td>\n      <td>...</td>\n      <td>...</td>\n      <td>...</td>\n      <td>...</td>\n      <td>...</td>\n      <td>...</td>\n      <td>...</td>\n      <td>...</td>\n      <td>...</td>\n    </tr>\n    <tr>\n      <th>1.665774e+09</th>\n      <td>-0.218492</td>\n      <td>-0.2826</td>\n      <td>-0.138193</td>\n      <td>-0.194357</td>\n      <td>-0.48298</td>\n      <td>-0.219759</td>\n      <td>-0.278556</td>\n      <td>-0.376192</td>\n      <td>-0.355299</td>\n      <td>-0.450171</td>\n      <td>...</td>\n      <td>733</td>\n      <td>880</td>\n      <td>491</td>\n      <td>880</td>\n      <td>857</td>\n      <td>880</td>\n      <td>538</td>\n      <td>1660</td>\n      <td>673</td>\n      <td>1</td>\n    </tr>\n    <tr>\n      <th>1.665774e+09</th>\n      <td>-0.209874</td>\n      <td>-0.274859</td>\n      <td>-0.135077</td>\n      <td>-0.185536</td>\n      <td>-0.472091</td>\n      <td>-0.211465</td>\n      <td>-0.279287</td>\n      <td>-0.372928</td>\n      <td>-0.359261</td>\n      <td>-0.442907</td>\n      <td>...</td>\n      <td>793</td>\n      <td>880</td>\n      <td>491</td>\n      <td>880</td>\n      <td>857</td>\n      <td>880</td>\n      <td>539</td>\n      <td>1660</td>\n      <td>733</td>\n      <td>1</td>\n    </tr>\n    <tr>\n      <th>1.665774e+09</th>\n      <td>-0.201253</td>\n      <td>-0.266923</td>\n      <td>-0.132506</td>\n      <td>-0.177773</td>\n      <td>-0.461074</td>\n      <td>-0.20381</td>\n      <td>-0.279467</td>\n      <td>-0.369309</td>\n      <td>-0.362683</td>\n      <td>-0.434964</td>\n      <td>...</td>\n      <td>853</td>\n      <td>880</td>\n      <td>494</td>\n      <td>880</td>\n      <td>857</td>\n      <td>880</td>\n      <td>589</td>\n      <td>1660</td>\n      <td>793</td>\n      <td>1</td>\n    </tr>\n    <tr>\n      <th>1.665774e+09</th>\n      <td>-0.192639</td>\n      <td>-0.258814</td>\n      <td>-0.130393</td>\n      <td>-0.171038</td>\n      <td>-0.450063</td>\n      <td>-0.196778</td>\n      <td>-0.279025</td>\n      <td>-0.365307</td>\n      <td>-0.365476</td>\n      <td>-0.426331</td>\n      <td>...</td>\n      <td>913</td>\n      <td>880</td>\n      <td>509</td>\n      <td>880</td>\n      <td>857</td>\n      <td>880</td>\n      <td>684</td>\n      <td>1660</td>\n      <td>851</td>\n      <td>1</td>\n    </tr>\n    <tr>\n      <th>1.665774e+09</th>\n      <td>NaN</td>\n      <td>NaN</td>\n      <td>NaN</td>\n      <td>NaN</td>\n      <td>NaN</td>\n      <td>NaN</td>\n      <td>NaN</td>\n      <td>NaN</td>\n      <td>NaN</td>\n      <td>NaN</td>\n      <td>...</td>\n      <td>939</td>\n      <td>880</td>\n      <td>578</td>\n      <td>880</td>\n      <td>857</td>\n      <td>880</td>\n      <td>717</td>\n      <td>1660</td>\n      <td>880</td>\n      <td>1</td>\n    </tr>\n  </tbody>\n</table>\n<p>1324 rows × 137 columns</p>\n</div>"
     },
     "execution_count": 3,
     "metadata": {},
     "output_type": "execute_result"
    }
   ],
   "source": [
    "ping_pong_cooperative.ping_pong_physio_task.head(n=1400)"
   ],
   "metadata": {
    "collapsed": false,
    "ExecuteTime": {
     "end_time": "2023-06-01T22:31:19.091493Z",
     "start_time": "2023-06-01T22:31:19.077137Z"
    }
   }
  },
  {
   "cell_type": "code",
   "execution_count": 4,
   "outputs": [],
   "source": [
    "output_dir = '/Users/ericduong/Documents/ToMCAT/tomcat-data-draft/data/processed/exp_2022_10_14_10'\n",
    "ping_pong_cooperative.write_physio_data_csv(output_dir)"
   ],
   "metadata": {
    "collapsed": false,
    "ExecuteTime": {
     "end_time": "2023-06-01T22:32:20.368203Z",
     "start_time": "2023-06-01T22:32:20.254646Z"
    }
   }
  },
  {
   "cell_type": "code",
   "execution_count": 2,
   "outputs": [],
   "source": [
    "metadata_path = '/Users/ericduong/Documents/ToMCAT/tomcat-data-draft/data/organized/metadata/exp_sample/metadata.json'\n",
    "minecraft_saturn_b_metadata_path = '/Users/ericduong/Documents/ToMCAT/tomcat-data-draft/data/raw/tasks/exp_2022_10_14_10/minecraft/MinecraftData_Trial-T00003_ID-eec4092d-4658-4074-aefc-e40fbdd55632.metadata'\n",
    "minecraft_physio_dir = '/Users/ericduong/Documents/ToMCAT/tomcat-data-draft/data/separated/physio_data/exp_2022_10_14_10'\n",
    "minecraft_physio_dir_physio_name_filepath = {\n",
    "    \"lion\": minecraft_physio_dir + \"/lion_nirs_saturn_b.csv\",\n",
    "    \"tiger\": minecraft_physio_dir + \"/tiger_nirs_saturn_b.csv\",\n",
    "    \"leopard\": minecraft_physio_dir + \"/tiger_nirs_saturn_b.csv\",\n",
    "}\n",
    "\n",
    "minecraft_saturn_b = Minecraft.from_files(\n",
    "    metadata_path,\n",
    "    minecraft_saturn_b_metadata_path,\n",
    "    minecraft_physio_dir_physio_name_filepath\n",
    ")"
   ],
   "metadata": {
    "collapsed": false,
    "ExecuteTime": {
     "end_time": "2023-06-01T23:32:24.234682Z",
     "start_time": "2023-06-01T23:32:23.431198Z"
    }
   }
  },
  {
   "cell_type": "code",
   "execution_count": 3,
   "outputs": [
    {
     "data": {
      "text/plain": "             00039_S1_D1_HbO 00039_S1_D2_HbO 00039_S2_D1_HbO 00039_S2_D3_HbO   \nunix_time                                                                      \n1.665776e+09             NaN             NaN             NaN             NaN  \\\n1.665776e+09             NaN             NaN             NaN             NaN   \n1.665776e+09             NaN             NaN             NaN             NaN   \n1.665776e+09             NaN             NaN             NaN             NaN   \n1.665776e+09             NaN             NaN             NaN             NaN   \n...                      ...             ...             ...             ...   \n1.665777e+09             NaN             NaN             NaN             NaN   \n1.665777e+09             NaN             NaN             NaN             NaN   \n1.665777e+09             NaN             NaN             NaN             NaN   \n1.665777e+09             NaN             NaN             NaN             NaN   \n1.665777e+09             NaN             NaN             NaN             NaN   \n\n             00039_S3_D1_HbO 00039_S3_D3_HbO 00039_S3_D4_HbO 00039_S4_D2_HbO   \nunix_time                                                                      \n1.665776e+09             NaN             NaN             NaN             NaN  \\\n1.665776e+09             NaN             NaN             NaN             NaN   \n1.665776e+09             NaN             NaN             NaN             NaN   \n1.665776e+09             NaN             NaN             NaN             NaN   \n1.665776e+09             NaN             NaN             NaN             NaN   \n...                      ...             ...             ...             ...   \n1.665777e+09             NaN             NaN             NaN             NaN   \n1.665777e+09             NaN             NaN             NaN             NaN   \n1.665777e+09             NaN             NaN             NaN             NaN   \n1.665777e+09             NaN             NaN             NaN             NaN   \n1.665777e+09             NaN             NaN             NaN             NaN   \n\n             00039_S4_D4_HbO 00039_S4_D5_HbO  ... 00044_S5_D4_HbR   \nunix_time                                     ...                   \n1.665776e+09             NaN             NaN  ...             NaN  \\\n1.665776e+09             NaN             NaN  ...             NaN   \n1.665776e+09             NaN             NaN  ...             NaN   \n1.665776e+09             NaN             NaN  ...             NaN   \n1.665776e+09             NaN             NaN  ...             NaN   \n...                      ...             ...  ...             ...   \n1.665777e+09             NaN             NaN  ...             NaN   \n1.665777e+09             NaN             NaN  ...             NaN   \n1.665777e+09             NaN             NaN  ...             NaN   \n1.665777e+09             NaN             NaN  ...             NaN   \n1.665777e+09             NaN             NaN  ...             NaN   \n\n             00044_S5_D6_HbR 00044_S6_D4_HbR 00044_S6_D6_HbR 00044_S6_D7_HbR   \nunix_time                                                                      \n1.665776e+09             NaN             NaN             NaN             NaN  \\\n1.665776e+09             NaN             NaN             NaN             NaN   \n1.665776e+09             NaN             NaN             NaN             NaN   \n1.665776e+09             NaN             NaN             NaN             NaN   \n1.665776e+09             NaN             NaN             NaN             NaN   \n...                      ...             ...             ...             ...   \n1.665777e+09             NaN             NaN             NaN             NaN   \n1.665777e+09             NaN             NaN             NaN             NaN   \n1.665777e+09             NaN             NaN             NaN             NaN   \n1.665777e+09             NaN             NaN             NaN             NaN   \n1.665777e+09             NaN             NaN             NaN             NaN   \n\n             00044_S7_D5_HbR 00044_S7_D7_HbR 00044_S8_D6_HbR 00044_S8_D7_HbR   \nunix_time                                                                      \n1.665776e+09             NaN             NaN             NaN             NaN  \\\n1.665776e+09             NaN             NaN             NaN             NaN   \n1.665776e+09             NaN             NaN             NaN             NaN   \n1.665776e+09             NaN             NaN             NaN             NaN   \n1.665776e+09             NaN             NaN             NaN             NaN   \n...                      ...             ...             ...             ...   \n1.665777e+09             NaN             NaN             NaN             NaN   \n1.665777e+09             NaN             NaN             NaN             NaN   \n1.665777e+09             NaN             NaN             NaN             NaN   \n1.665777e+09             NaN             NaN             NaN             NaN   \n1.665777e+09             NaN             NaN             NaN             NaN   \n\n             score  \nunix_time           \n1.665776e+09    10  \n1.665776e+09    10  \n1.665776e+09    10  \n1.665776e+09    10  \n1.665776e+09    10  \n...            ...  \n1.665777e+09   640  \n1.665777e+09   640  \n1.665777e+09   640  \n1.665777e+09   640  \n1.665777e+09   690  \n\n[5780 rows x 121 columns]",
      "text/html": "<div>\n<style scoped>\n    .dataframe tbody tr th:only-of-type {\n        vertical-align: middle;\n    }\n\n    .dataframe tbody tr th {\n        vertical-align: top;\n    }\n\n    .dataframe thead th {\n        text-align: right;\n    }\n</style>\n<table border=\"1\" class=\"dataframe\">\n  <thead>\n    <tr style=\"text-align: right;\">\n      <th></th>\n      <th>00039_S1_D1_HbO</th>\n      <th>00039_S1_D2_HbO</th>\n      <th>00039_S2_D1_HbO</th>\n      <th>00039_S2_D3_HbO</th>\n      <th>00039_S3_D1_HbO</th>\n      <th>00039_S3_D3_HbO</th>\n      <th>00039_S3_D4_HbO</th>\n      <th>00039_S4_D2_HbO</th>\n      <th>00039_S4_D4_HbO</th>\n      <th>00039_S4_D5_HbO</th>\n      <th>...</th>\n      <th>00044_S5_D4_HbR</th>\n      <th>00044_S5_D6_HbR</th>\n      <th>00044_S6_D4_HbR</th>\n      <th>00044_S6_D6_HbR</th>\n      <th>00044_S6_D7_HbR</th>\n      <th>00044_S7_D5_HbR</th>\n      <th>00044_S7_D7_HbR</th>\n      <th>00044_S8_D6_HbR</th>\n      <th>00044_S8_D7_HbR</th>\n      <th>score</th>\n    </tr>\n    <tr>\n      <th>unix_time</th>\n      <th></th>\n      <th></th>\n      <th></th>\n      <th></th>\n      <th></th>\n      <th></th>\n      <th></th>\n      <th></th>\n      <th></th>\n      <th></th>\n      <th></th>\n      <th></th>\n      <th></th>\n      <th></th>\n      <th></th>\n      <th></th>\n      <th></th>\n      <th></th>\n      <th></th>\n      <th></th>\n      <th></th>\n    </tr>\n  </thead>\n  <tbody>\n    <tr>\n      <th>1.665776e+09</th>\n      <td>NaN</td>\n      <td>NaN</td>\n      <td>NaN</td>\n      <td>NaN</td>\n      <td>NaN</td>\n      <td>NaN</td>\n      <td>NaN</td>\n      <td>NaN</td>\n      <td>NaN</td>\n      <td>NaN</td>\n      <td>...</td>\n      <td>NaN</td>\n      <td>NaN</td>\n      <td>NaN</td>\n      <td>NaN</td>\n      <td>NaN</td>\n      <td>NaN</td>\n      <td>NaN</td>\n      <td>NaN</td>\n      <td>NaN</td>\n      <td>10</td>\n    </tr>\n    <tr>\n      <th>1.665776e+09</th>\n      <td>NaN</td>\n      <td>NaN</td>\n      <td>NaN</td>\n      <td>NaN</td>\n      <td>NaN</td>\n      <td>NaN</td>\n      <td>NaN</td>\n      <td>NaN</td>\n      <td>NaN</td>\n      <td>NaN</td>\n      <td>...</td>\n      <td>NaN</td>\n      <td>NaN</td>\n      <td>NaN</td>\n      <td>NaN</td>\n      <td>NaN</td>\n      <td>NaN</td>\n      <td>NaN</td>\n      <td>NaN</td>\n      <td>NaN</td>\n      <td>10</td>\n    </tr>\n    <tr>\n      <th>1.665776e+09</th>\n      <td>NaN</td>\n      <td>NaN</td>\n      <td>NaN</td>\n      <td>NaN</td>\n      <td>NaN</td>\n      <td>NaN</td>\n      <td>NaN</td>\n      <td>NaN</td>\n      <td>NaN</td>\n      <td>NaN</td>\n      <td>...</td>\n      <td>NaN</td>\n      <td>NaN</td>\n      <td>NaN</td>\n      <td>NaN</td>\n      <td>NaN</td>\n      <td>NaN</td>\n      <td>NaN</td>\n      <td>NaN</td>\n      <td>NaN</td>\n      <td>10</td>\n    </tr>\n    <tr>\n      <th>1.665776e+09</th>\n      <td>NaN</td>\n      <td>NaN</td>\n      <td>NaN</td>\n      <td>NaN</td>\n      <td>NaN</td>\n      <td>NaN</td>\n      <td>NaN</td>\n      <td>NaN</td>\n      <td>NaN</td>\n      <td>NaN</td>\n      <td>...</td>\n      <td>NaN</td>\n      <td>NaN</td>\n      <td>NaN</td>\n      <td>NaN</td>\n      <td>NaN</td>\n      <td>NaN</td>\n      <td>NaN</td>\n      <td>NaN</td>\n      <td>NaN</td>\n      <td>10</td>\n    </tr>\n    <tr>\n      <th>1.665776e+09</th>\n      <td>NaN</td>\n      <td>NaN</td>\n      <td>NaN</td>\n      <td>NaN</td>\n      <td>NaN</td>\n      <td>NaN</td>\n      <td>NaN</td>\n      <td>NaN</td>\n      <td>NaN</td>\n      <td>NaN</td>\n      <td>...</td>\n      <td>NaN</td>\n      <td>NaN</td>\n      <td>NaN</td>\n      <td>NaN</td>\n      <td>NaN</td>\n      <td>NaN</td>\n      <td>NaN</td>\n      <td>NaN</td>\n      <td>NaN</td>\n      <td>10</td>\n    </tr>\n    <tr>\n      <th>...</th>\n      <td>...</td>\n      <td>...</td>\n      <td>...</td>\n      <td>...</td>\n      <td>...</td>\n      <td>...</td>\n      <td>...</td>\n      <td>...</td>\n      <td>...</td>\n      <td>...</td>\n      <td>...</td>\n      <td>...</td>\n      <td>...</td>\n      <td>...</td>\n      <td>...</td>\n      <td>...</td>\n      <td>...</td>\n      <td>...</td>\n      <td>...</td>\n      <td>...</td>\n      <td>...</td>\n    </tr>\n    <tr>\n      <th>1.665777e+09</th>\n      <td>NaN</td>\n      <td>NaN</td>\n      <td>NaN</td>\n      <td>NaN</td>\n      <td>NaN</td>\n      <td>NaN</td>\n      <td>NaN</td>\n      <td>NaN</td>\n      <td>NaN</td>\n      <td>NaN</td>\n      <td>...</td>\n      <td>NaN</td>\n      <td>NaN</td>\n      <td>NaN</td>\n      <td>NaN</td>\n      <td>NaN</td>\n      <td>NaN</td>\n      <td>NaN</td>\n      <td>NaN</td>\n      <td>NaN</td>\n      <td>640</td>\n    </tr>\n    <tr>\n      <th>1.665777e+09</th>\n      <td>NaN</td>\n      <td>NaN</td>\n      <td>NaN</td>\n      <td>NaN</td>\n      <td>NaN</td>\n      <td>NaN</td>\n      <td>NaN</td>\n      <td>NaN</td>\n      <td>NaN</td>\n      <td>NaN</td>\n      <td>...</td>\n      <td>NaN</td>\n      <td>NaN</td>\n      <td>NaN</td>\n      <td>NaN</td>\n      <td>NaN</td>\n      <td>NaN</td>\n      <td>NaN</td>\n      <td>NaN</td>\n      <td>NaN</td>\n      <td>640</td>\n    </tr>\n    <tr>\n      <th>1.665777e+09</th>\n      <td>NaN</td>\n      <td>NaN</td>\n      <td>NaN</td>\n      <td>NaN</td>\n      <td>NaN</td>\n      <td>NaN</td>\n      <td>NaN</td>\n      <td>NaN</td>\n      <td>NaN</td>\n      <td>NaN</td>\n      <td>...</td>\n      <td>NaN</td>\n      <td>NaN</td>\n      <td>NaN</td>\n      <td>NaN</td>\n      <td>NaN</td>\n      <td>NaN</td>\n      <td>NaN</td>\n      <td>NaN</td>\n      <td>NaN</td>\n      <td>640</td>\n    </tr>\n    <tr>\n      <th>1.665777e+09</th>\n      <td>NaN</td>\n      <td>NaN</td>\n      <td>NaN</td>\n      <td>NaN</td>\n      <td>NaN</td>\n      <td>NaN</td>\n      <td>NaN</td>\n      <td>NaN</td>\n      <td>NaN</td>\n      <td>NaN</td>\n      <td>...</td>\n      <td>NaN</td>\n      <td>NaN</td>\n      <td>NaN</td>\n      <td>NaN</td>\n      <td>NaN</td>\n      <td>NaN</td>\n      <td>NaN</td>\n      <td>NaN</td>\n      <td>NaN</td>\n      <td>640</td>\n    </tr>\n    <tr>\n      <th>1.665777e+09</th>\n      <td>NaN</td>\n      <td>NaN</td>\n      <td>NaN</td>\n      <td>NaN</td>\n      <td>NaN</td>\n      <td>NaN</td>\n      <td>NaN</td>\n      <td>NaN</td>\n      <td>NaN</td>\n      <td>NaN</td>\n      <td>...</td>\n      <td>NaN</td>\n      <td>NaN</td>\n      <td>NaN</td>\n      <td>NaN</td>\n      <td>NaN</td>\n      <td>NaN</td>\n      <td>NaN</td>\n      <td>NaN</td>\n      <td>NaN</td>\n      <td>690</td>\n    </tr>\n  </tbody>\n</table>\n<p>5780 rows × 121 columns</p>\n</div>"
     },
     "execution_count": 3,
     "metadata": {},
     "output_type": "execute_result"
    }
   ],
   "source": [
    "minecraft_saturn_b.minecraft_physio_task.head(n=5790)"
   ],
   "metadata": {
    "collapsed": false,
    "ExecuteTime": {
     "end_time": "2023-06-01T23:32:25.731677Z",
     "start_time": "2023-06-01T23:32:25.714497Z"
    }
   }
  },
  {
   "cell_type": "code",
   "execution_count": 4,
   "outputs": [],
   "source": [
    "output_dir = '/Users/ericduong/Documents/ToMCAT/tomcat-data-draft/data/processed/exp_2022_10_14_10'\n",
    "mission_name = 'saturn_b'\n",
    "minecraft_saturn_b.write_physio_data_csv(output_dir, mission_name)"
   ],
   "metadata": {
    "collapsed": false,
    "ExecuteTime": {
     "end_time": "2023-06-01T23:32:41.232720Z",
     "start_time": "2023-06-01T23:32:41.184856Z"
    }
   }
  },
  {
   "cell_type": "code",
   "execution_count": null,
   "outputs": [],
   "source": [],
   "metadata": {
    "collapsed": false
   }
  }
 ],
 "metadata": {
  "kernelspec": {
   "display_name": "Python 3",
   "language": "python",
   "name": "python3"
  },
  "language_info": {
   "codemirror_mode": {
    "name": "ipython",
    "version": 2
   },
   "file_extension": ".py",
   "mimetype": "text/x-python",
   "name": "python",
   "nbconvert_exporter": "python",
   "pygments_lexer": "ipython2",
   "version": "2.7.6"
  }
 },
 "nbformat": 4,
 "nbformat_minor": 0
}
