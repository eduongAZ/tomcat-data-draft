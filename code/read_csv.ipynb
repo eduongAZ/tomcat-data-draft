{
 "cells": [
  {
   "cell_type": "code",
   "execution_count": 1,
   "outputs": [],
   "source": [
    "from tasks import RestState, FingerTapping, AffectiveTaskIndividual"
   ],
   "metadata": {
    "collapsed": false
   }
  },
  {
   "cell_type": "code",
   "execution_count": 2,
   "outputs": [],
   "source": [
    "metadata_path = '/Users/ericduong/Documents/ToMCAT/tomcat-data-draft/data/organized/metadata/exp_sample/metadata.json'\n",
    "rest_state_csv_path = '/Users/ericduong/Documents/ToMCAT/tomcat-data-draft/data/raw/tasks/exp_2022_10_14_10/rest_state/1665771871.csv'\n",
    "rest_state_physio_directory = '/Users/ericduong/Documents/ToMCAT/tomcat-data-draft/data/organized/physio_data/exp_sample'\n",
    "\n",
    "rest_state = RestState.from_files(\n",
    "    metadata_path,\n",
    "    rest_state_csv_path,\n",
    "    rest_state_physio_directory\n",
    ")"
   ],
   "metadata": {
    "collapsed": false
   }
  },
  {
   "cell_type": "code",
   "execution_count": 3,
   "outputs": [
    {
     "data": {
      "text/plain": "             00039_S1-D1_HbO 00039_S1-D2_HbO 00039_S2-D1_HbO 00039_S2-D3_HbO   \nunix_time                                                                      \n1.665772e+09             NaN             NaN             NaN             NaN  \\\n1.665772e+09        0.000512        0.000433        0.001386        0.001362   \n1.665772e+09        0.001743        0.001454        0.004714        0.004665   \n1.665772e+09        0.004122        0.003392         0.01132        0.011121   \n1.665772e+09        0.007816        0.006345        0.022021        0.021326   \n...                      ...             ...             ...             ...   \n1.665772e+09         -0.4209       -0.460478       -0.521512       -0.735999   \n1.665772e+09       -0.412356       -0.462721       -0.506995       -0.715834   \n1.665772e+09       -0.403275       -0.463976       -0.493529         -0.6965   \n1.665772e+09       -0.393805       -0.464367       -0.481237       -0.678109   \n1.665772e+09             NaN             NaN             NaN             NaN   \n\n             00039_S3-D1_HbO 00039_S3-D3_HbO 00039_S3-D4_HbO 00039_S4-D2_HbO   \nunix_time                                                                      \n1.665772e+09             NaN             NaN             NaN             NaN  \\\n1.665772e+09        0.000895        0.000936        0.000516        0.000326   \n1.665772e+09         0.00311        0.003209        0.001762        0.001103   \n1.665772e+09        0.007433        0.007644         0.00417        0.002573   \n1.665772e+09        0.014184        0.014599        0.007901        0.004775   \n...                      ...             ...             ...             ...   \n1.665772e+09       -0.689558       -0.762293       -0.487842       -0.497879   \n1.665772e+09       -0.679428       -0.741827       -0.496401       -0.506726   \n1.665772e+09       -0.669514       -0.721384       -0.504256       -0.515004   \n1.665772e+09        -0.65976       -0.701162       -0.511386       -0.522653   \n1.665772e+09             NaN             NaN             NaN             NaN   \n\n             00039_S4-D4_HbO 00039_S4-D5_HbO  ... 00044_S5-D4_HbR   \nunix_time                                     ...                   \n1.665772e+09             NaN             NaN  ...             NaN  \\\n1.665772e+09        0.000209        -0.00015  ...        0.000045   \n1.665772e+09        0.000699       -0.000558  ...         0.00017   \n1.665772e+09        0.001607       -0.001464  ...        0.000432   \n1.665772e+09        0.002924       -0.003118  ...        0.000863   \n...                      ...             ...  ...             ...   \n1.665772e+09        -0.58118       -0.457315  ...       -0.022558   \n1.665772e+09       -0.594684       -0.467316  ...       -0.022148   \n1.665772e+09       -0.607083       -0.475653  ...       -0.021589   \n1.665772e+09       -0.618345       -0.482347  ...       -0.020894   \n1.665772e+09             NaN             NaN  ...             NaN   \n\n             00044_S5-D6_HbR 00044_S6-D4_HbR 00044_S6-D6_HbR 00044_S6-D7_HbR   \nunix_time                                                                      \n1.665772e+09             NaN             NaN             NaN             NaN  \\\n1.665772e+09        0.000281        0.000031        0.000106        0.000022   \n1.665772e+09         0.00098        0.000105        0.000369        0.000075   \n1.665772e+09         0.00239        0.000245          0.0009        0.000189   \n1.665772e+09        0.004698        0.000461        0.001763        0.000393   \n...                      ...             ...             ...             ...   \n1.665772e+09       -0.052004        -0.02413       -0.032173       -0.029297   \n1.665772e+09       -0.051794       -0.024976       -0.031802       -0.030653   \n1.665772e+09       -0.051505       -0.025773       -0.031335       -0.032054   \n1.665772e+09       -0.051122       -0.026513       -0.030772       -0.033493   \n1.665772e+09             NaN             NaN             NaN             NaN   \n\n             00044_S7-D5_HbR 00044_S7-D7_HbR 00044_S8-D6_HbR 00044_S8-D7_HbR   \nunix_time                                                                      \n1.665772e+09             NaN             NaN             NaN             NaN  \\\n1.665772e+09       -0.000194        0.000057         0.00011        0.000128   \n1.665772e+09       -0.000671        0.000201        0.000388        0.000449   \n1.665772e+09       -0.001627        0.000501         0.00095        0.001108   \n1.665772e+09        -0.00318         0.00101        0.001873        0.002207   \n...                      ...             ...             ...             ...   \n1.665772e+09        -0.01403       -0.029251       -0.069668       -0.026699   \n1.665772e+09       -0.013768       -0.029875       -0.069469       -0.026991   \n1.665772e+09       -0.013519       -0.030523       -0.069147       -0.027292   \n1.665772e+09       -0.013282       -0.031197       -0.068704       -0.027595   \n1.665772e+09             NaN             NaN             NaN             NaN   \n\n                    task_status  \nunix_time                        \n1.665772e+09  during_rest_state  \n1.665772e+09  during_rest_state  \n1.665772e+09  during_rest_state  \n1.665772e+09  during_rest_state  \n1.665772e+09  during_rest_state  \n...                         ...  \n1.665772e+09  during_rest_state  \n1.665772e+09  during_rest_state  \n1.665772e+09  during_rest_state  \n1.665772e+09  during_rest_state  \n1.665772e+09  during_rest_state  \n\n[3069 rows x 121 columns]",
      "text/html": "<div>\n<style scoped>\n    .dataframe tbody tr th:only-of-type {\n        vertical-align: middle;\n    }\n\n    .dataframe tbody tr th {\n        vertical-align: top;\n    }\n\n    .dataframe thead th {\n        text-align: right;\n    }\n</style>\n<table border=\"1\" class=\"dataframe\">\n  <thead>\n    <tr style=\"text-align: right;\">\n      <th></th>\n      <th>00039_S1-D1_HbO</th>\n      <th>00039_S1-D2_HbO</th>\n      <th>00039_S2-D1_HbO</th>\n      <th>00039_S2-D3_HbO</th>\n      <th>00039_S3-D1_HbO</th>\n      <th>00039_S3-D3_HbO</th>\n      <th>00039_S3-D4_HbO</th>\n      <th>00039_S4-D2_HbO</th>\n      <th>00039_S4-D4_HbO</th>\n      <th>00039_S4-D5_HbO</th>\n      <th>...</th>\n      <th>00044_S5-D4_HbR</th>\n      <th>00044_S5-D6_HbR</th>\n      <th>00044_S6-D4_HbR</th>\n      <th>00044_S6-D6_HbR</th>\n      <th>00044_S6-D7_HbR</th>\n      <th>00044_S7-D5_HbR</th>\n      <th>00044_S7-D7_HbR</th>\n      <th>00044_S8-D6_HbR</th>\n      <th>00044_S8-D7_HbR</th>\n      <th>task_status</th>\n    </tr>\n    <tr>\n      <th>unix_time</th>\n      <th></th>\n      <th></th>\n      <th></th>\n      <th></th>\n      <th></th>\n      <th></th>\n      <th></th>\n      <th></th>\n      <th></th>\n      <th></th>\n      <th></th>\n      <th></th>\n      <th></th>\n      <th></th>\n      <th></th>\n      <th></th>\n      <th></th>\n      <th></th>\n      <th></th>\n      <th></th>\n      <th></th>\n    </tr>\n  </thead>\n  <tbody>\n    <tr>\n      <th>1.665772e+09</th>\n      <td>NaN</td>\n      <td>NaN</td>\n      <td>NaN</td>\n      <td>NaN</td>\n      <td>NaN</td>\n      <td>NaN</td>\n      <td>NaN</td>\n      <td>NaN</td>\n      <td>NaN</td>\n      <td>NaN</td>\n      <td>...</td>\n      <td>NaN</td>\n      <td>NaN</td>\n      <td>NaN</td>\n      <td>NaN</td>\n      <td>NaN</td>\n      <td>NaN</td>\n      <td>NaN</td>\n      <td>NaN</td>\n      <td>NaN</td>\n      <td>during_rest_state</td>\n    </tr>\n    <tr>\n      <th>1.665772e+09</th>\n      <td>0.000512</td>\n      <td>0.000433</td>\n      <td>0.001386</td>\n      <td>0.001362</td>\n      <td>0.000895</td>\n      <td>0.000936</td>\n      <td>0.000516</td>\n      <td>0.000326</td>\n      <td>0.000209</td>\n      <td>-0.00015</td>\n      <td>...</td>\n      <td>0.000045</td>\n      <td>0.000281</td>\n      <td>0.000031</td>\n      <td>0.000106</td>\n      <td>0.000022</td>\n      <td>-0.000194</td>\n      <td>0.000057</td>\n      <td>0.00011</td>\n      <td>0.000128</td>\n      <td>during_rest_state</td>\n    </tr>\n    <tr>\n      <th>1.665772e+09</th>\n      <td>0.001743</td>\n      <td>0.001454</td>\n      <td>0.004714</td>\n      <td>0.004665</td>\n      <td>0.00311</td>\n      <td>0.003209</td>\n      <td>0.001762</td>\n      <td>0.001103</td>\n      <td>0.000699</td>\n      <td>-0.000558</td>\n      <td>...</td>\n      <td>0.00017</td>\n      <td>0.00098</td>\n      <td>0.000105</td>\n      <td>0.000369</td>\n      <td>0.000075</td>\n      <td>-0.000671</td>\n      <td>0.000201</td>\n      <td>0.000388</td>\n      <td>0.000449</td>\n      <td>during_rest_state</td>\n    </tr>\n    <tr>\n      <th>1.665772e+09</th>\n      <td>0.004122</td>\n      <td>0.003392</td>\n      <td>0.01132</td>\n      <td>0.011121</td>\n      <td>0.007433</td>\n      <td>0.007644</td>\n      <td>0.00417</td>\n      <td>0.002573</td>\n      <td>0.001607</td>\n      <td>-0.001464</td>\n      <td>...</td>\n      <td>0.000432</td>\n      <td>0.00239</td>\n      <td>0.000245</td>\n      <td>0.0009</td>\n      <td>0.000189</td>\n      <td>-0.001627</td>\n      <td>0.000501</td>\n      <td>0.00095</td>\n      <td>0.001108</td>\n      <td>during_rest_state</td>\n    </tr>\n    <tr>\n      <th>1.665772e+09</th>\n      <td>0.007816</td>\n      <td>0.006345</td>\n      <td>0.022021</td>\n      <td>0.021326</td>\n      <td>0.014184</td>\n      <td>0.014599</td>\n      <td>0.007901</td>\n      <td>0.004775</td>\n      <td>0.002924</td>\n      <td>-0.003118</td>\n      <td>...</td>\n      <td>0.000863</td>\n      <td>0.004698</td>\n      <td>0.000461</td>\n      <td>0.001763</td>\n      <td>0.000393</td>\n      <td>-0.00318</td>\n      <td>0.00101</td>\n      <td>0.001873</td>\n      <td>0.002207</td>\n      <td>during_rest_state</td>\n    </tr>\n    <tr>\n      <th>...</th>\n      <td>...</td>\n      <td>...</td>\n      <td>...</td>\n      <td>...</td>\n      <td>...</td>\n      <td>...</td>\n      <td>...</td>\n      <td>...</td>\n      <td>...</td>\n      <td>...</td>\n      <td>...</td>\n      <td>...</td>\n      <td>...</td>\n      <td>...</td>\n      <td>...</td>\n      <td>...</td>\n      <td>...</td>\n      <td>...</td>\n      <td>...</td>\n      <td>...</td>\n      <td>...</td>\n    </tr>\n    <tr>\n      <th>1.665772e+09</th>\n      <td>-0.4209</td>\n      <td>-0.460478</td>\n      <td>-0.521512</td>\n      <td>-0.735999</td>\n      <td>-0.689558</td>\n      <td>-0.762293</td>\n      <td>-0.487842</td>\n      <td>-0.497879</td>\n      <td>-0.58118</td>\n      <td>-0.457315</td>\n      <td>...</td>\n      <td>-0.022558</td>\n      <td>-0.052004</td>\n      <td>-0.02413</td>\n      <td>-0.032173</td>\n      <td>-0.029297</td>\n      <td>-0.01403</td>\n      <td>-0.029251</td>\n      <td>-0.069668</td>\n      <td>-0.026699</td>\n      <td>during_rest_state</td>\n    </tr>\n    <tr>\n      <th>1.665772e+09</th>\n      <td>-0.412356</td>\n      <td>-0.462721</td>\n      <td>-0.506995</td>\n      <td>-0.715834</td>\n      <td>-0.679428</td>\n      <td>-0.741827</td>\n      <td>-0.496401</td>\n      <td>-0.506726</td>\n      <td>-0.594684</td>\n      <td>-0.467316</td>\n      <td>...</td>\n      <td>-0.022148</td>\n      <td>-0.051794</td>\n      <td>-0.024976</td>\n      <td>-0.031802</td>\n      <td>-0.030653</td>\n      <td>-0.013768</td>\n      <td>-0.029875</td>\n      <td>-0.069469</td>\n      <td>-0.026991</td>\n      <td>during_rest_state</td>\n    </tr>\n    <tr>\n      <th>1.665772e+09</th>\n      <td>-0.403275</td>\n      <td>-0.463976</td>\n      <td>-0.493529</td>\n      <td>-0.6965</td>\n      <td>-0.669514</td>\n      <td>-0.721384</td>\n      <td>-0.504256</td>\n      <td>-0.515004</td>\n      <td>-0.607083</td>\n      <td>-0.475653</td>\n      <td>...</td>\n      <td>-0.021589</td>\n      <td>-0.051505</td>\n      <td>-0.025773</td>\n      <td>-0.031335</td>\n      <td>-0.032054</td>\n      <td>-0.013519</td>\n      <td>-0.030523</td>\n      <td>-0.069147</td>\n      <td>-0.027292</td>\n      <td>during_rest_state</td>\n    </tr>\n    <tr>\n      <th>1.665772e+09</th>\n      <td>-0.393805</td>\n      <td>-0.464367</td>\n      <td>-0.481237</td>\n      <td>-0.678109</td>\n      <td>-0.65976</td>\n      <td>-0.701162</td>\n      <td>-0.511386</td>\n      <td>-0.522653</td>\n      <td>-0.618345</td>\n      <td>-0.482347</td>\n      <td>...</td>\n      <td>-0.020894</td>\n      <td>-0.051122</td>\n      <td>-0.026513</td>\n      <td>-0.030772</td>\n      <td>-0.033493</td>\n      <td>-0.013282</td>\n      <td>-0.031197</td>\n      <td>-0.068704</td>\n      <td>-0.027595</td>\n      <td>during_rest_state</td>\n    </tr>\n    <tr>\n      <th>1.665772e+09</th>\n      <td>NaN</td>\n      <td>NaN</td>\n      <td>NaN</td>\n      <td>NaN</td>\n      <td>NaN</td>\n      <td>NaN</td>\n      <td>NaN</td>\n      <td>NaN</td>\n      <td>NaN</td>\n      <td>NaN</td>\n      <td>...</td>\n      <td>NaN</td>\n      <td>NaN</td>\n      <td>NaN</td>\n      <td>NaN</td>\n      <td>NaN</td>\n      <td>NaN</td>\n      <td>NaN</td>\n      <td>NaN</td>\n      <td>NaN</td>\n      <td>during_rest_state</td>\n    </tr>\n  </tbody>\n</table>\n<p>3069 rows × 121 columns</p>\n</div>"
     },
     "execution_count": 3,
     "metadata": {},
     "output_type": "execute_result"
    }
   ],
   "source": [
    "rest_state.rest_state_physio_task.head(n=4000)"
   ],
   "metadata": {
    "collapsed": false
   }
  },
  {
   "cell_type": "code",
   "execution_count": 4,
   "outputs": [],
   "source": [
    "output_dir = '/Users/ericduong/Documents/ToMCAT/tomcat-data-draft/data/processed/exp_sample'\n",
    "rest_state.write_physio_data_csv(output_dir)"
   ],
   "metadata": {
    "collapsed": false
   }
  },
  {
   "cell_type": "code",
   "execution_count": null,
   "outputs": [],
   "source": [
    "metadata_path = '/Users/ericduong/Documents/ToMCAT/tomcat-data-draft/data/organized/metadata/exp_sample/metadata.json'\n",
    "finger_tapping_csv_path = '/Users/ericduong/Documents/ToMCAT/tomcat-data-draft/data/raw/tasks/exp_2022_10_14_10/finger_tapping/1665772238.csv'\n",
    "finger_tapping_physio_directory = '/Users/ericduong/Documents/ToMCAT/tomcat-data-draft/data/organized/physio_data/exp_sample'\n",
    "\n",
    "finger_tapping = FingerTapping.from_files(\n",
    "    metadata_path,\n",
    "    finger_tapping_csv_path,\n",
    "    finger_tapping_physio_directory\n",
    ")"
   ],
   "metadata": {
    "collapsed": false
   }
  },
  {
   "cell_type": "code",
   "execution_count": null,
   "outputs": [],
   "source": [
    "finger_tapping.finger_tapping_physio['lion'].head(n=1000)"
   ],
   "metadata": {
    "collapsed": false
   }
  },
  {
   "cell_type": "code",
   "execution_count": null,
   "outputs": [],
   "source": [
    "output_dir = '/Users/ericduong/Documents/ToMCAT/tomcat-data-draft/data/processed/exp_sample'\n",
    "finger_tapping.write_physio_data_csv(output_dir)"
   ],
   "metadata": {
    "collapsed": false
   }
  },
  {
   "cell_type": "code",
   "execution_count": null,
   "outputs": [],
   "source": [
    "lion_affective_task_individual_csv_path = '/Users/ericduong/Documents/ToMCAT/tomcat-data-draft/data/raw/tasks/exp_2022_10_14_10/affective/individual_00039_1665772393.csv'\n",
    "lion_affective_task_individual_physio_directory = '/Users/ericduong/Documents/ToMCAT/tomcat-data-draft/data/organized/physio_data/exp_sample/lion'\n",
    "\n",
    "affective_individual = AffectiveTaskIndividual.from_files(\n",
    "    \"00039\",\n",
    "    \"lion\",\n",
    "    lion_affective_task_individual_csv_path,\n",
    "    lion_affective_task_individual_physio_directory\n",
    ")"
   ],
   "metadata": {
    "collapsed": false
   }
  },
  {
   "cell_type": "code",
   "execution_count": null,
   "outputs": [],
   "source": [
    "affective_individual.affective_physio_df.head(n=1000)"
   ],
   "metadata": {
    "collapsed": false
   }
  },
  {
   "cell_type": "code",
   "execution_count": null,
   "outputs": [],
   "source": [
    "output_dir = '/Users/ericduong/Documents/ToMCAT/tomcat-data-draft/data/processed/exp_sample'\n",
    "affective_individual.write_physio_data_csv(output_dir)"
   ],
   "metadata": {
    "collapsed": false
   }
  },
  {
   "cell_type": "code",
   "execution_count": null,
   "outputs": [],
   "source": [],
   "metadata": {
    "collapsed": false
   }
  }
 ],
 "metadata": {
  "kernelspec": {
   "display_name": "Python 3",
   "language": "python",
   "name": "python3"
  },
  "language_info": {
   "codemirror_mode": {
    "name": "ipython",
    "version": 2
   },
   "file_extension": ".py",
   "mimetype": "text/x-python",
   "name": "python",
   "nbconvert_exporter": "python",
   "pygments_lexer": "ipython2",
   "version": "2.7.6"
  }
 },
 "nbformat": 4,
 "nbformat_minor": 0
}
